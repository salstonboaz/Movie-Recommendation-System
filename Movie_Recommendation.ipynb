{
  "nbformat": 4,
  "nbformat_minor": 0,
  "metadata": {
    "colab": {
      "provenance": [],
      "authorship_tag": "ABX9TyNNQEt4vWonZ4PaMc5k4S7g",
      "include_colab_link": true
    },
    "kernelspec": {
      "name": "python3",
      "display_name": "Python 3"
    },
    "language_info": {
      "name": "python"
    }
  },
  "cells": [
    {
      "cell_type": "markdown",
      "metadata": {
        "id": "view-in-github",
        "colab_type": "text"
      },
      "source": [
        "<a href=\"https://colab.research.google.com/github/salstonboaz/Movie-Recommendation-System/blob/main/Movie_Recommendation.ipynb\" target=\"_parent\"><img src=\"https://colab.research.google.com/assets/colab-badge.svg\" alt=\"Open In Colab\"/></a>"
      ]
    },
    {
      "cell_type": "code",
      "execution_count": null,
      "metadata": {
        "id": "ceQy1KYnVzhQ"
      },
      "outputs": [],
      "source": []
    },
    {
      "cell_type": "markdown",
      "source": [],
      "metadata": {
        "id": "V7pLkJk_r2lh"
      }
    },
    {
      "cell_type": "markdown",
      "source": [
        "**Title of Project** :Movie Recommendation System\n",
        "**Objective**:A basic recommendation system to suggest movies that are most similar to the users choice\n",
        "**Data Source**:YBI Foundation Github"
      ],
      "metadata": {
        "id": "NTZGdWtppoqC"
      }
    },
    {
      "cell_type": "code",
      "source": [
        "import pandas as pd\n",
        "import numpy as np"
      ],
      "metadata": {
        "id": "DkTkmVl2qBBh"
      },
      "execution_count": 6,
      "outputs": []
    },
    {
      "cell_type": "code",
      "source": [
        "df = pd.read_csv('https://raw.githubusercontent.com/YBI-Foundation/Dataset/main/Movies%20Recommendation.csv',encoding='unicode_escape')"
      ],
      "metadata": {
        "id": "zYsYUrCLLGvB"
      },
      "execution_count": 9,
      "outputs": []
    },
    {
      "cell_type": "code",
      "source": [
        "df.head()"
      ],
      "metadata": {
        "colab": {
          "base_uri": "https://localhost:8080/",
          "height": 672
        },
        "id": "TNBRUB5WJBeO",
        "outputId": "855a439b-9d6e-4442-ad56-a854750d9579"
      },
      "execution_count": 10,
      "outputs": [
        {
          "output_type": "execute_result",
          "data": {
            "text/plain": [
              "   Movie_ID      Movie_Title                       Movie_Genre Movie_Language  \\\n",
              "0         1       Four Rooms                      Crime Comedy             en   \n",
              "1         2        Star Wars  Adventure Action Science Fiction             en   \n",
              "2         3     Finding Nemo                  Animation Family             en   \n",
              "3         4     Forrest Gump              Comedy Drama Romance             en   \n",
              "4         5  American Beauty                             Drama             en   \n",
              "\n",
              "   Movie_Budget  Movie_Popularity Movie_Release_Date  Movie_Revenue  \\\n",
              "0       4000000         22.876230         09-12-1995        4300000   \n",
              "1      11000000        126.393695         25-05-1977      775398007   \n",
              "2      94000000         85.688789         30-05-2003      940335536   \n",
              "3      55000000        138.133331         06-07-1994      677945399   \n",
              "4      15000000         80.878605         15-09-1999      356296601   \n",
              "\n",
              "   Movie_Runtime  Movie_Vote  ...  \\\n",
              "0           98.0         6.5  ...   \n",
              "1          121.0         8.1  ...   \n",
              "2          100.0         7.6  ...   \n",
              "3          142.0         8.2  ...   \n",
              "4          122.0         7.9  ...   \n",
              "\n",
              "                                      Movie_Homepage  \\\n",
              "0                                                NaN   \n",
              "1  http://www.starwars.com/films/star-wars-episod...   \n",
              "2              http://movies.disney.com/finding-nemo   \n",
              "3                                                NaN   \n",
              "4                      http://www.dreamworks.com/ab/   \n",
              "\n",
              "                                      Movie_Keywords  \\\n",
              "0          hotel new year's eve witch bet hotel room   \n",
              "1        android galaxy hermit death star lightsaber   \n",
              "2  father son relationship harbor underwater fish...   \n",
              "3  vietnam veteran hippie mentally disabled runni...   \n",
              "4  male nudity female nudity adultery midlife cri...   \n",
              "\n",
              "                                      Movie_Overview  \\\n",
              "0  It's Ted the Bellhop's first night on the job....   \n",
              "1  Princess Leia is captured and held hostage by ...   \n",
              "2  Nemo, an adventurous young clownfish, is unexp...   \n",
              "3  A man with a low IQ has accomplished great thi...   \n",
              "4  Lester Burnham, a depressed suburban father in...   \n",
              "\n",
              "                              Movie_Production_House  \\\n",
              "0  [{\"name\": \"Miramax Films\", \"id\": 14}, {\"name\":...   \n",
              "1  [{\"name\": \"Lucasfilm\", \"id\": 1}, {\"name\": \"Twe...   \n",
              "2     [{\"name\": \"Pixar Animation Studios\", \"id\": 3}]   \n",
              "3          [{\"name\": \"Paramount Pictures\", \"id\": 4}]   \n",
              "4  [{\"name\": \"DreamWorks SKG\", \"id\": 27}, {\"name\"...   \n",
              "\n",
              "                            Movie_Production_Country  \\\n",
              "0  [{\"iso_3166_1\": \"US\", \"name\": \"United States o...   \n",
              "1  [{\"iso_3166_1\": \"US\", \"name\": \"United States o...   \n",
              "2  [{\"iso_3166_1\": \"US\", \"name\": \"United States o...   \n",
              "3  [{\"iso_3166_1\": \"US\", \"name\": \"United States o...   \n",
              "4  [{\"iso_3166_1\": \"US\", \"name\": \"United States o...   \n",
              "\n",
              "                      Movie_Spoken_Language  \\\n",
              "0  [{\"iso_639_1\": \"en\", \"name\": \"English\"}]   \n",
              "1  [{\"iso_639_1\": \"en\", \"name\": \"English\"}]   \n",
              "2  [{\"iso_639_1\": \"en\", \"name\": \"English\"}]   \n",
              "3  [{\"iso_639_1\": \"en\", \"name\": \"English\"}]   \n",
              "4  [{\"iso_639_1\": \"en\", \"name\": \"English\"}]   \n",
              "\n",
              "                                       Movie_Tagline  \\\n",
              "0  Twelve outrageous guests. Four scandalous requ...   \n",
              "1       A long time ago in a galaxy far, far away...   \n",
              "2  There are 3.7 trillion fish in the ocean, they...   \n",
              "3  The world will never be the same, once you've ...   \n",
              "4                                       Look closer.   \n",
              "\n",
              "                                          Movie_Cast  \\\n",
              "0  Tim Roth Antonio Banderas Jennifer Beals Madon...   \n",
              "1  Mark Hamill Harrison Ford Carrie Fisher Peter ...   \n",
              "2  Albert Brooks Ellen DeGeneres Alexander Gould ...   \n",
              "3  Tom Hanks Robin Wright Gary Sinise Mykelti Wil...   \n",
              "4  Kevin Spacey Annette Bening Thora Birch Wes Be...   \n",
              "\n",
              "                                          Movie_Crew   Movie_Director  \n",
              "0  [{'name': 'Allison Anders', 'gender': 1, 'depa...   Allison Anders  \n",
              "1  [{'name': 'George Lucas', 'gender': 2, 'depart...     George Lucas  \n",
              "2  [{'name': 'Andrew Stanton', 'gender': 2, 'depa...   Andrew Stanton  \n",
              "3  [{'name': 'Alan Silvestri', 'gender': 2, 'depa...  Robert Zemeckis  \n",
              "4  [{'name': 'Thomas Newman', 'gender': 2, 'depar...       Sam Mendes  \n",
              "\n",
              "[5 rows x 21 columns]"
            ],
            "text/html": [
              "\n",
              "  <div id=\"df-e0824f98-5d36-4964-9702-0217b1702b32\" class=\"colab-df-container\">\n",
              "    <div>\n",
              "<style scoped>\n",
              "    .dataframe tbody tr th:only-of-type {\n",
              "        vertical-align: middle;\n",
              "    }\n",
              "\n",
              "    .dataframe tbody tr th {\n",
              "        vertical-align: top;\n",
              "    }\n",
              "\n",
              "    .dataframe thead th {\n",
              "        text-align: right;\n",
              "    }\n",
              "</style>\n",
              "<table border=\"1\" class=\"dataframe\">\n",
              "  <thead>\n",
              "    <tr style=\"text-align: right;\">\n",
              "      <th></th>\n",
              "      <th>Movie_ID</th>\n",
              "      <th>Movie_Title</th>\n",
              "      <th>Movie_Genre</th>\n",
              "      <th>Movie_Language</th>\n",
              "      <th>Movie_Budget</th>\n",
              "      <th>Movie_Popularity</th>\n",
              "      <th>Movie_Release_Date</th>\n",
              "      <th>Movie_Revenue</th>\n",
              "      <th>Movie_Runtime</th>\n",
              "      <th>Movie_Vote</th>\n",
              "      <th>...</th>\n",
              "      <th>Movie_Homepage</th>\n",
              "      <th>Movie_Keywords</th>\n",
              "      <th>Movie_Overview</th>\n",
              "      <th>Movie_Production_House</th>\n",
              "      <th>Movie_Production_Country</th>\n",
              "      <th>Movie_Spoken_Language</th>\n",
              "      <th>Movie_Tagline</th>\n",
              "      <th>Movie_Cast</th>\n",
              "      <th>Movie_Crew</th>\n",
              "      <th>Movie_Director</th>\n",
              "    </tr>\n",
              "  </thead>\n",
              "  <tbody>\n",
              "    <tr>\n",
              "      <th>0</th>\n",
              "      <td>1</td>\n",
              "      <td>Four Rooms</td>\n",
              "      <td>Crime Comedy</td>\n",
              "      <td>en</td>\n",
              "      <td>4000000</td>\n",
              "      <td>22.876230</td>\n",
              "      <td>09-12-1995</td>\n",
              "      <td>4300000</td>\n",
              "      <td>98.0</td>\n",
              "      <td>6.5</td>\n",
              "      <td>...</td>\n",
              "      <td>NaN</td>\n",
              "      <td>hotel new year's eve witch bet hotel room</td>\n",
              "      <td>It's Ted the Bellhop's first night on the job....</td>\n",
              "      <td>[{\"name\": \"Miramax Films\", \"id\": 14}, {\"name\":...</td>\n",
              "      <td>[{\"iso_3166_1\": \"US\", \"name\": \"United States o...</td>\n",
              "      <td>[{\"iso_639_1\": \"en\", \"name\": \"English\"}]</td>\n",
              "      <td>Twelve outrageous guests. Four scandalous requ...</td>\n",
              "      <td>Tim Roth Antonio Banderas Jennifer Beals Madon...</td>\n",
              "      <td>[{'name': 'Allison Anders', 'gender': 1, 'depa...</td>\n",
              "      <td>Allison Anders</td>\n",
              "    </tr>\n",
              "    <tr>\n",
              "      <th>1</th>\n",
              "      <td>2</td>\n",
              "      <td>Star Wars</td>\n",
              "      <td>Adventure Action Science Fiction</td>\n",
              "      <td>en</td>\n",
              "      <td>11000000</td>\n",
              "      <td>126.393695</td>\n",
              "      <td>25-05-1977</td>\n",
              "      <td>775398007</td>\n",
              "      <td>121.0</td>\n",
              "      <td>8.1</td>\n",
              "      <td>...</td>\n",
              "      <td>http://www.starwars.com/films/star-wars-episod...</td>\n",
              "      <td>android galaxy hermit death star lightsaber</td>\n",
              "      <td>Princess Leia is captured and held hostage by ...</td>\n",
              "      <td>[{\"name\": \"Lucasfilm\", \"id\": 1}, {\"name\": \"Twe...</td>\n",
              "      <td>[{\"iso_3166_1\": \"US\", \"name\": \"United States o...</td>\n",
              "      <td>[{\"iso_639_1\": \"en\", \"name\": \"English\"}]</td>\n",
              "      <td>A long time ago in a galaxy far, far away...</td>\n",
              "      <td>Mark Hamill Harrison Ford Carrie Fisher Peter ...</td>\n",
              "      <td>[{'name': 'George Lucas', 'gender': 2, 'depart...</td>\n",
              "      <td>George Lucas</td>\n",
              "    </tr>\n",
              "    <tr>\n",
              "      <th>2</th>\n",
              "      <td>3</td>\n",
              "      <td>Finding Nemo</td>\n",
              "      <td>Animation Family</td>\n",
              "      <td>en</td>\n",
              "      <td>94000000</td>\n",
              "      <td>85.688789</td>\n",
              "      <td>30-05-2003</td>\n",
              "      <td>940335536</td>\n",
              "      <td>100.0</td>\n",
              "      <td>7.6</td>\n",
              "      <td>...</td>\n",
              "      <td>http://movies.disney.com/finding-nemo</td>\n",
              "      <td>father son relationship harbor underwater fish...</td>\n",
              "      <td>Nemo, an adventurous young clownfish, is unexp...</td>\n",
              "      <td>[{\"name\": \"Pixar Animation Studios\", \"id\": 3}]</td>\n",
              "      <td>[{\"iso_3166_1\": \"US\", \"name\": \"United States o...</td>\n",
              "      <td>[{\"iso_639_1\": \"en\", \"name\": \"English\"}]</td>\n",
              "      <td>There are 3.7 trillion fish in the ocean, they...</td>\n",
              "      <td>Albert Brooks Ellen DeGeneres Alexander Gould ...</td>\n",
              "      <td>[{'name': 'Andrew Stanton', 'gender': 2, 'depa...</td>\n",
              "      <td>Andrew Stanton</td>\n",
              "    </tr>\n",
              "    <tr>\n",
              "      <th>3</th>\n",
              "      <td>4</td>\n",
              "      <td>Forrest Gump</td>\n",
              "      <td>Comedy Drama Romance</td>\n",
              "      <td>en</td>\n",
              "      <td>55000000</td>\n",
              "      <td>138.133331</td>\n",
              "      <td>06-07-1994</td>\n",
              "      <td>677945399</td>\n",
              "      <td>142.0</td>\n",
              "      <td>8.2</td>\n",
              "      <td>...</td>\n",
              "      <td>NaN</td>\n",
              "      <td>vietnam veteran hippie mentally disabled runni...</td>\n",
              "      <td>A man with a low IQ has accomplished great thi...</td>\n",
              "      <td>[{\"name\": \"Paramount Pictures\", \"id\": 4}]</td>\n",
              "      <td>[{\"iso_3166_1\": \"US\", \"name\": \"United States o...</td>\n",
              "      <td>[{\"iso_639_1\": \"en\", \"name\": \"English\"}]</td>\n",
              "      <td>The world will never be the same, once you've ...</td>\n",
              "      <td>Tom Hanks Robin Wright Gary Sinise Mykelti Wil...</td>\n",
              "      <td>[{'name': 'Alan Silvestri', 'gender': 2, 'depa...</td>\n",
              "      <td>Robert Zemeckis</td>\n",
              "    </tr>\n",
              "    <tr>\n",
              "      <th>4</th>\n",
              "      <td>5</td>\n",
              "      <td>American Beauty</td>\n",
              "      <td>Drama</td>\n",
              "      <td>en</td>\n",
              "      <td>15000000</td>\n",
              "      <td>80.878605</td>\n",
              "      <td>15-09-1999</td>\n",
              "      <td>356296601</td>\n",
              "      <td>122.0</td>\n",
              "      <td>7.9</td>\n",
              "      <td>...</td>\n",
              "      <td>http://www.dreamworks.com/ab/</td>\n",
              "      <td>male nudity female nudity adultery midlife cri...</td>\n",
              "      <td>Lester Burnham, a depressed suburban father in...</td>\n",
              "      <td>[{\"name\": \"DreamWorks SKG\", \"id\": 27}, {\"name\"...</td>\n",
              "      <td>[{\"iso_3166_1\": \"US\", \"name\": \"United States o...</td>\n",
              "      <td>[{\"iso_639_1\": \"en\", \"name\": \"English\"}]</td>\n",
              "      <td>Look closer.</td>\n",
              "      <td>Kevin Spacey Annette Bening Thora Birch Wes Be...</td>\n",
              "      <td>[{'name': 'Thomas Newman', 'gender': 2, 'depar...</td>\n",
              "      <td>Sam Mendes</td>\n",
              "    </tr>\n",
              "  </tbody>\n",
              "</table>\n",
              "<p>5 rows × 21 columns</p>\n",
              "</div>\n",
              "    <div class=\"colab-df-buttons\">\n",
              "\n",
              "  <div class=\"colab-df-container\">\n",
              "    <button class=\"colab-df-convert\" onclick=\"convertToInteractive('df-e0824f98-5d36-4964-9702-0217b1702b32')\"\n",
              "            title=\"Convert this dataframe to an interactive table.\"\n",
              "            style=\"display:none;\">\n",
              "\n",
              "  <svg xmlns=\"http://www.w3.org/2000/svg\" height=\"24px\" viewBox=\"0 -960 960 960\">\n",
              "    <path d=\"M120-120v-720h720v720H120Zm60-500h600v-160H180v160Zm220 220h160v-160H400v160Zm0 220h160v-160H400v160ZM180-400h160v-160H180v160Zm440 0h160v-160H620v160ZM180-180h160v-160H180v160Zm440 0h160v-160H620v160Z\"/>\n",
              "  </svg>\n",
              "    </button>\n",
              "\n",
              "  <style>\n",
              "    .colab-df-container {\n",
              "      display:flex;\n",
              "      gap: 12px;\n",
              "    }\n",
              "\n",
              "    .colab-df-convert {\n",
              "      background-color: #E8F0FE;\n",
              "      border: none;\n",
              "      border-radius: 50%;\n",
              "      cursor: pointer;\n",
              "      display: none;\n",
              "      fill: #1967D2;\n",
              "      height: 32px;\n",
              "      padding: 0 0 0 0;\n",
              "      width: 32px;\n",
              "    }\n",
              "\n",
              "    .colab-df-convert:hover {\n",
              "      background-color: #E2EBFA;\n",
              "      box-shadow: 0px 1px 2px rgba(60, 64, 67, 0.3), 0px 1px 3px 1px rgba(60, 64, 67, 0.15);\n",
              "      fill: #174EA6;\n",
              "    }\n",
              "\n",
              "    .colab-df-buttons div {\n",
              "      margin-bottom: 4px;\n",
              "    }\n",
              "\n",
              "    [theme=dark] .colab-df-convert {\n",
              "      background-color: #3B4455;\n",
              "      fill: #D2E3FC;\n",
              "    }\n",
              "\n",
              "    [theme=dark] .colab-df-convert:hover {\n",
              "      background-color: #434B5C;\n",
              "      box-shadow: 0px 1px 3px 1px rgba(0, 0, 0, 0.15);\n",
              "      filter: drop-shadow(0px 1px 2px rgba(0, 0, 0, 0.3));\n",
              "      fill: #FFFFFF;\n",
              "    }\n",
              "  </style>\n",
              "\n",
              "    <script>\n",
              "      const buttonEl =\n",
              "        document.querySelector('#df-e0824f98-5d36-4964-9702-0217b1702b32 button.colab-df-convert');\n",
              "      buttonEl.style.display =\n",
              "        google.colab.kernel.accessAllowed ? 'block' : 'none';\n",
              "\n",
              "      async function convertToInteractive(key) {\n",
              "        const element = document.querySelector('#df-e0824f98-5d36-4964-9702-0217b1702b32');\n",
              "        const dataTable =\n",
              "          await google.colab.kernel.invokeFunction('convertToInteractive',\n",
              "                                                    [key], {});\n",
              "        if (!dataTable) return;\n",
              "\n",
              "        const docLinkHtml = 'Like what you see? Visit the ' +\n",
              "          '<a target=\"_blank\" href=https://colab.research.google.com/notebooks/data_table.ipynb>data table notebook</a>'\n",
              "          + ' to learn more about interactive tables.';\n",
              "        element.innerHTML = '';\n",
              "        dataTable['output_type'] = 'display_data';\n",
              "        await google.colab.output.renderOutput(dataTable, element);\n",
              "        const docLink = document.createElement('div');\n",
              "        docLink.innerHTML = docLinkHtml;\n",
              "        element.appendChild(docLink);\n",
              "      }\n",
              "    </script>\n",
              "  </div>\n",
              "\n",
              "\n",
              "<div id=\"df-7167e9fd-666c-40b7-a4a9-15c21cdb59c4\">\n",
              "  <button class=\"colab-df-quickchart\" onclick=\"quickchart('df-7167e9fd-666c-40b7-a4a9-15c21cdb59c4')\"\n",
              "            title=\"Suggest charts\"\n",
              "            style=\"display:none;\">\n",
              "\n",
              "<svg xmlns=\"http://www.w3.org/2000/svg\" height=\"24px\"viewBox=\"0 0 24 24\"\n",
              "     width=\"24px\">\n",
              "    <g>\n",
              "        <path d=\"M19 3H5c-1.1 0-2 .9-2 2v14c0 1.1.9 2 2 2h14c1.1 0 2-.9 2-2V5c0-1.1-.9-2-2-2zM9 17H7v-7h2v7zm4 0h-2V7h2v10zm4 0h-2v-4h2v4z\"/>\n",
              "    </g>\n",
              "</svg>\n",
              "  </button>\n",
              "\n",
              "<style>\n",
              "  .colab-df-quickchart {\n",
              "      --bg-color: #E8F0FE;\n",
              "      --fill-color: #1967D2;\n",
              "      --hover-bg-color: #E2EBFA;\n",
              "      --hover-fill-color: #174EA6;\n",
              "      --disabled-fill-color: #AAA;\n",
              "      --disabled-bg-color: #DDD;\n",
              "  }\n",
              "\n",
              "  [theme=dark] .colab-df-quickchart {\n",
              "      --bg-color: #3B4455;\n",
              "      --fill-color: #D2E3FC;\n",
              "      --hover-bg-color: #434B5C;\n",
              "      --hover-fill-color: #FFFFFF;\n",
              "      --disabled-bg-color: #3B4455;\n",
              "      --disabled-fill-color: #666;\n",
              "  }\n",
              "\n",
              "  .colab-df-quickchart {\n",
              "    background-color: var(--bg-color);\n",
              "    border: none;\n",
              "    border-radius: 50%;\n",
              "    cursor: pointer;\n",
              "    display: none;\n",
              "    fill: var(--fill-color);\n",
              "    height: 32px;\n",
              "    padding: 0;\n",
              "    width: 32px;\n",
              "  }\n",
              "\n",
              "  .colab-df-quickchart:hover {\n",
              "    background-color: var(--hover-bg-color);\n",
              "    box-shadow: 0 1px 2px rgba(60, 64, 67, 0.3), 0 1px 3px 1px rgba(60, 64, 67, 0.15);\n",
              "    fill: var(--button-hover-fill-color);\n",
              "  }\n",
              "\n",
              "  .colab-df-quickchart-complete:disabled,\n",
              "  .colab-df-quickchart-complete:disabled:hover {\n",
              "    background-color: var(--disabled-bg-color);\n",
              "    fill: var(--disabled-fill-color);\n",
              "    box-shadow: none;\n",
              "  }\n",
              "\n",
              "  .colab-df-spinner {\n",
              "    border: 2px solid var(--fill-color);\n",
              "    border-color: transparent;\n",
              "    border-bottom-color: var(--fill-color);\n",
              "    animation:\n",
              "      spin 1s steps(1) infinite;\n",
              "  }\n",
              "\n",
              "  @keyframes spin {\n",
              "    0% {\n",
              "      border-color: transparent;\n",
              "      border-bottom-color: var(--fill-color);\n",
              "      border-left-color: var(--fill-color);\n",
              "    }\n",
              "    20% {\n",
              "      border-color: transparent;\n",
              "      border-left-color: var(--fill-color);\n",
              "      border-top-color: var(--fill-color);\n",
              "    }\n",
              "    30% {\n",
              "      border-color: transparent;\n",
              "      border-left-color: var(--fill-color);\n",
              "      border-top-color: var(--fill-color);\n",
              "      border-right-color: var(--fill-color);\n",
              "    }\n",
              "    40% {\n",
              "      border-color: transparent;\n",
              "      border-right-color: var(--fill-color);\n",
              "      border-top-color: var(--fill-color);\n",
              "    }\n",
              "    60% {\n",
              "      border-color: transparent;\n",
              "      border-right-color: var(--fill-color);\n",
              "    }\n",
              "    80% {\n",
              "      border-color: transparent;\n",
              "      border-right-color: var(--fill-color);\n",
              "      border-bottom-color: var(--fill-color);\n",
              "    }\n",
              "    90% {\n",
              "      border-color: transparent;\n",
              "      border-bottom-color: var(--fill-color);\n",
              "    }\n",
              "  }\n",
              "</style>\n",
              "\n",
              "  <script>\n",
              "    async function quickchart(key) {\n",
              "      const quickchartButtonEl =\n",
              "        document.querySelector('#' + key + ' button');\n",
              "      quickchartButtonEl.disabled = true;  // To prevent multiple clicks.\n",
              "      quickchartButtonEl.classList.add('colab-df-spinner');\n",
              "      try {\n",
              "        const charts = await google.colab.kernel.invokeFunction(\n",
              "            'suggestCharts', [key], {});\n",
              "      } catch (error) {\n",
              "        console.error('Error during call to suggestCharts:', error);\n",
              "      }\n",
              "      quickchartButtonEl.classList.remove('colab-df-spinner');\n",
              "      quickchartButtonEl.classList.add('colab-df-quickchart-complete');\n",
              "    }\n",
              "    (() => {\n",
              "      let quickchartButtonEl =\n",
              "        document.querySelector('#df-7167e9fd-666c-40b7-a4a9-15c21cdb59c4 button');\n",
              "      quickchartButtonEl.style.display =\n",
              "        google.colab.kernel.accessAllowed ? 'block' : 'none';\n",
              "    })();\n",
              "  </script>\n",
              "</div>\n",
              "\n",
              "    </div>\n",
              "  </div>\n"
            ],
            "application/vnd.google.colaboratory.intrinsic+json": {
              "type": "dataframe",
              "variable_name": "df"
            }
          },
          "metadata": {},
          "execution_count": 10
        }
      ]
    },
    {
      "cell_type": "code",
      "source": [
        "df.info()"
      ],
      "metadata": {
        "colab": {
          "base_uri": "https://localhost:8080/"
        },
        "id": "hpU9N0NcJSUP",
        "outputId": "7a190e44-b31b-4034-e2d8-379b7a10cda0"
      },
      "execution_count": 12,
      "outputs": [
        {
          "output_type": "stream",
          "name": "stdout",
          "text": [
            "<class 'pandas.core.frame.DataFrame'>\n",
            "RangeIndex: 4760 entries, 0 to 4759\n",
            "Data columns (total 21 columns):\n",
            " #   Column                    Non-Null Count  Dtype  \n",
            "---  ------                    --------------  -----  \n",
            " 0   Movie_ID                  4760 non-null   int64  \n",
            " 1   Movie_Title               4760 non-null   object \n",
            " 2   Movie_Genre               4760 non-null   object \n",
            " 3   Movie_Language            4760 non-null   object \n",
            " 4   Movie_Budget              4760 non-null   int64  \n",
            " 5   Movie_Popularity          4760 non-null   float64\n",
            " 6   Movie_Release_Date        4760 non-null   object \n",
            " 7   Movie_Revenue             4760 non-null   int64  \n",
            " 8   Movie_Runtime             4758 non-null   float64\n",
            " 9   Movie_Vote                4760 non-null   float64\n",
            " 10  Movie_Vote_Count          4760 non-null   int64  \n",
            " 11  Movie_Homepage            1699 non-null   object \n",
            " 12  Movie_Keywords            4373 non-null   object \n",
            " 13  Movie_Overview            4757 non-null   object \n",
            " 14  Movie_Production_House    4760 non-null   object \n",
            " 15  Movie_Production_Country  4760 non-null   object \n",
            " 16  Movie_Spoken_Language     4760 non-null   object \n",
            " 17  Movie_Tagline             3942 non-null   object \n",
            " 18  Movie_Cast                4733 non-null   object \n",
            " 19  Movie_Crew                4760 non-null   object \n",
            " 20  Movie_Director            4738 non-null   object \n",
            "dtypes: float64(3), int64(4), object(14)\n",
            "memory usage: 781.1+ KB\n"
          ]
        }
      ]
    },
    {
      "cell_type": "code",
      "source": [
        "df.shape"
      ],
      "metadata": {
        "colab": {
          "base_uri": "https://localhost:8080/"
        },
        "id": "zOdV0zzMJZuP",
        "outputId": "39226ff7-e9c0-4168-f566-43792a0d8fc9"
      },
      "execution_count": 13,
      "outputs": [
        {
          "output_type": "execute_result",
          "data": {
            "text/plain": [
              "(4760, 21)"
            ]
          },
          "metadata": {},
          "execution_count": 13
        }
      ]
    },
    {
      "cell_type": "code",
      "source": [
        "df.columns"
      ],
      "metadata": {
        "colab": {
          "base_uri": "https://localhost:8080/"
        },
        "id": "3e37xPs6JeGD",
        "outputId": "f73de007-d374-47cf-caac-110de57d00ec"
      },
      "execution_count": 14,
      "outputs": [
        {
          "output_type": "execute_result",
          "data": {
            "text/plain": [
              "Index(['Movie_ID', 'Movie_Title', 'Movie_Genre', 'Movie_Language',\n",
              "       'Movie_Budget', 'Movie_Popularity', 'Movie_Release_Date',\n",
              "       'Movie_Revenue', 'Movie_Runtime', 'Movie_Vote', 'Movie_Vote_Count',\n",
              "       'Movie_Homepage', 'Movie_Keywords', 'Movie_Overview',\n",
              "       'Movie_Production_House', 'Movie_Production_Country',\n",
              "       'Movie_Spoken_Language', 'Movie_Tagline', 'Movie_Cast', 'Movie_Crew',\n",
              "       'Movie_Director'],\n",
              "      dtype='object')"
            ]
          },
          "metadata": {},
          "execution_count": 14
        }
      ]
    },
    {
      "cell_type": "code",
      "source": [
        "df_features = df[['Movie_Genre','Movie_Keywords','Movie_Tagline','Movie_Cast','Movie_Director']].fillna('')"
      ],
      "metadata": {
        "id": "zvcsMKNrJpHw"
      },
      "execution_count": 17,
      "outputs": []
    },
    {
      "cell_type": "code",
      "source": [
        "df_features.shape"
      ],
      "metadata": {
        "colab": {
          "base_uri": "https://localhost:8080/"
        },
        "id": "e19-EjNIKk8Z",
        "outputId": "8eafcfaa-8909-478c-90db-eee627fd21dc"
      },
      "execution_count": 18,
      "outputs": [
        {
          "output_type": "execute_result",
          "data": {
            "text/plain": [
              "(4760, 5)"
            ]
          },
          "metadata": {},
          "execution_count": 18
        }
      ]
    },
    {
      "cell_type": "code",
      "source": [
        "df_features"
      ],
      "metadata": {
        "colab": {
          "base_uri": "https://localhost:8080/",
          "height": 493
        },
        "id": "6gQzRu5cKuAT",
        "outputId": "65db872d-c173-4732-d9a5-2c3543b4eb10"
      },
      "execution_count": 19,
      "outputs": [
        {
          "output_type": "execute_result",
          "data": {
            "text/plain": [
              "                           Movie_Genre  \\\n",
              "0                         Crime Comedy   \n",
              "1     Adventure Action Science Fiction   \n",
              "2                     Animation Family   \n",
              "3                 Comedy Drama Romance   \n",
              "4                                Drama   \n",
              "...                                ...   \n",
              "4755                            Horror   \n",
              "4756               Comedy Family Drama   \n",
              "4757                    Thriller Drama   \n",
              "4758                            Family   \n",
              "4759                       Documentary   \n",
              "\n",
              "                                         Movie_Keywords  \\\n",
              "0             hotel new year's eve witch bet hotel room   \n",
              "1           android galaxy hermit death star lightsaber   \n",
              "2     father son relationship harbor underwater fish...   \n",
              "3     vietnam veteran hippie mentally disabled runni...   \n",
              "4     male nudity female nudity adultery midlife cri...   \n",
              "...                                                 ...   \n",
              "4755                                                      \n",
              "4756                                                      \n",
              "4757                     christian film sex trafficking   \n",
              "4758                                                      \n",
              "4759  music actors legendary perfomer classic hollyw...   \n",
              "\n",
              "                                          Movie_Tagline  \\\n",
              "0     Twelve outrageous guests. Four scandalous requ...   \n",
              "1          A long time ago in a galaxy far, far away...   \n",
              "2     There are 3.7 trillion fish in the ocean, they...   \n",
              "3     The world will never be the same, once you've ...   \n",
              "4                                          Look closer.   \n",
              "...                                                 ...   \n",
              "4755                The hot spot where Satan's waitin'.   \n",
              "4756         Itâs better to stand out than to fit in.   \n",
              "4757           She never knew it could happen to her...   \n",
              "4758                                                      \n",
              "4759                                                      \n",
              "\n",
              "                                             Movie_Cast     Movie_Director  \n",
              "0     Tim Roth Antonio Banderas Jennifer Beals Madon...     Allison Anders  \n",
              "1     Mark Hamill Harrison Ford Carrie Fisher Peter ...       George Lucas  \n",
              "2     Albert Brooks Ellen DeGeneres Alexander Gould ...     Andrew Stanton  \n",
              "3     Tom Hanks Robin Wright Gary Sinise Mykelti Wil...    Robert Zemeckis  \n",
              "4     Kevin Spacey Annette Bening Thora Birch Wes Be...         Sam Mendes  \n",
              "...                                                 ...                ...  \n",
              "4755  Lisa Hart Carroll Michael Des Barres Paul Drak...         Pece Dingo  \n",
              "4756  Roni Akurati Brighton Sharbino Jason Lee Anjul...       Frank Lotito  \n",
              "4757  Nicole Smolen Kim Baldwin Ariana Stephens Brys...       Jaco Booyens  \n",
              "4758                                                                        \n",
              "4759                                    Tony Oppedisano  Simon Napier-Bell  \n",
              "\n",
              "[4760 rows x 5 columns]"
            ],
            "text/html": [
              "\n",
              "  <div id=\"df-258bb62c-422a-486b-8b23-76712bf1e437\" class=\"colab-df-container\">\n",
              "    <div>\n",
              "<style scoped>\n",
              "    .dataframe tbody tr th:only-of-type {\n",
              "        vertical-align: middle;\n",
              "    }\n",
              "\n",
              "    .dataframe tbody tr th {\n",
              "        vertical-align: top;\n",
              "    }\n",
              "\n",
              "    .dataframe thead th {\n",
              "        text-align: right;\n",
              "    }\n",
              "</style>\n",
              "<table border=\"1\" class=\"dataframe\">\n",
              "  <thead>\n",
              "    <tr style=\"text-align: right;\">\n",
              "      <th></th>\n",
              "      <th>Movie_Genre</th>\n",
              "      <th>Movie_Keywords</th>\n",
              "      <th>Movie_Tagline</th>\n",
              "      <th>Movie_Cast</th>\n",
              "      <th>Movie_Director</th>\n",
              "    </tr>\n",
              "  </thead>\n",
              "  <tbody>\n",
              "    <tr>\n",
              "      <th>0</th>\n",
              "      <td>Crime Comedy</td>\n",
              "      <td>hotel new year's eve witch bet hotel room</td>\n",
              "      <td>Twelve outrageous guests. Four scandalous requ...</td>\n",
              "      <td>Tim Roth Antonio Banderas Jennifer Beals Madon...</td>\n",
              "      <td>Allison Anders</td>\n",
              "    </tr>\n",
              "    <tr>\n",
              "      <th>1</th>\n",
              "      <td>Adventure Action Science Fiction</td>\n",
              "      <td>android galaxy hermit death star lightsaber</td>\n",
              "      <td>A long time ago in a galaxy far, far away...</td>\n",
              "      <td>Mark Hamill Harrison Ford Carrie Fisher Peter ...</td>\n",
              "      <td>George Lucas</td>\n",
              "    </tr>\n",
              "    <tr>\n",
              "      <th>2</th>\n",
              "      <td>Animation Family</td>\n",
              "      <td>father son relationship harbor underwater fish...</td>\n",
              "      <td>There are 3.7 trillion fish in the ocean, they...</td>\n",
              "      <td>Albert Brooks Ellen DeGeneres Alexander Gould ...</td>\n",
              "      <td>Andrew Stanton</td>\n",
              "    </tr>\n",
              "    <tr>\n",
              "      <th>3</th>\n",
              "      <td>Comedy Drama Romance</td>\n",
              "      <td>vietnam veteran hippie mentally disabled runni...</td>\n",
              "      <td>The world will never be the same, once you've ...</td>\n",
              "      <td>Tom Hanks Robin Wright Gary Sinise Mykelti Wil...</td>\n",
              "      <td>Robert Zemeckis</td>\n",
              "    </tr>\n",
              "    <tr>\n",
              "      <th>4</th>\n",
              "      <td>Drama</td>\n",
              "      <td>male nudity female nudity adultery midlife cri...</td>\n",
              "      <td>Look closer.</td>\n",
              "      <td>Kevin Spacey Annette Bening Thora Birch Wes Be...</td>\n",
              "      <td>Sam Mendes</td>\n",
              "    </tr>\n",
              "    <tr>\n",
              "      <th>...</th>\n",
              "      <td>...</td>\n",
              "      <td>...</td>\n",
              "      <td>...</td>\n",
              "      <td>...</td>\n",
              "      <td>...</td>\n",
              "    </tr>\n",
              "    <tr>\n",
              "      <th>4755</th>\n",
              "      <td>Horror</td>\n",
              "      <td></td>\n",
              "      <td>The hot spot where Satan's waitin'.</td>\n",
              "      <td>Lisa Hart Carroll Michael Des Barres Paul Drak...</td>\n",
              "      <td>Pece Dingo</td>\n",
              "    </tr>\n",
              "    <tr>\n",
              "      <th>4756</th>\n",
              "      <td>Comedy Family Drama</td>\n",
              "      <td></td>\n",
              "      <td>Itâs better to stand out than to fit in.</td>\n",
              "      <td>Roni Akurati Brighton Sharbino Jason Lee Anjul...</td>\n",
              "      <td>Frank Lotito</td>\n",
              "    </tr>\n",
              "    <tr>\n",
              "      <th>4757</th>\n",
              "      <td>Thriller Drama</td>\n",
              "      <td>christian film sex trafficking</td>\n",
              "      <td>She never knew it could happen to her...</td>\n",
              "      <td>Nicole Smolen Kim Baldwin Ariana Stephens Brys...</td>\n",
              "      <td>Jaco Booyens</td>\n",
              "    </tr>\n",
              "    <tr>\n",
              "      <th>4758</th>\n",
              "      <td>Family</td>\n",
              "      <td></td>\n",
              "      <td></td>\n",
              "      <td></td>\n",
              "      <td></td>\n",
              "    </tr>\n",
              "    <tr>\n",
              "      <th>4759</th>\n",
              "      <td>Documentary</td>\n",
              "      <td>music actors legendary perfomer classic hollyw...</td>\n",
              "      <td></td>\n",
              "      <td>Tony Oppedisano</td>\n",
              "      <td>Simon Napier-Bell</td>\n",
              "    </tr>\n",
              "  </tbody>\n",
              "</table>\n",
              "<p>4760 rows × 5 columns</p>\n",
              "</div>\n",
              "    <div class=\"colab-df-buttons\">\n",
              "\n",
              "  <div class=\"colab-df-container\">\n",
              "    <button class=\"colab-df-convert\" onclick=\"convertToInteractive('df-258bb62c-422a-486b-8b23-76712bf1e437')\"\n",
              "            title=\"Convert this dataframe to an interactive table.\"\n",
              "            style=\"display:none;\">\n",
              "\n",
              "  <svg xmlns=\"http://www.w3.org/2000/svg\" height=\"24px\" viewBox=\"0 -960 960 960\">\n",
              "    <path d=\"M120-120v-720h720v720H120Zm60-500h600v-160H180v160Zm220 220h160v-160H400v160Zm0 220h160v-160H400v160ZM180-400h160v-160H180v160Zm440 0h160v-160H620v160ZM180-180h160v-160H180v160Zm440 0h160v-160H620v160Z\"/>\n",
              "  </svg>\n",
              "    </button>\n",
              "\n",
              "  <style>\n",
              "    .colab-df-container {\n",
              "      display:flex;\n",
              "      gap: 12px;\n",
              "    }\n",
              "\n",
              "    .colab-df-convert {\n",
              "      background-color: #E8F0FE;\n",
              "      border: none;\n",
              "      border-radius: 50%;\n",
              "      cursor: pointer;\n",
              "      display: none;\n",
              "      fill: #1967D2;\n",
              "      height: 32px;\n",
              "      padding: 0 0 0 0;\n",
              "      width: 32px;\n",
              "    }\n",
              "\n",
              "    .colab-df-convert:hover {\n",
              "      background-color: #E2EBFA;\n",
              "      box-shadow: 0px 1px 2px rgba(60, 64, 67, 0.3), 0px 1px 3px 1px rgba(60, 64, 67, 0.15);\n",
              "      fill: #174EA6;\n",
              "    }\n",
              "\n",
              "    .colab-df-buttons div {\n",
              "      margin-bottom: 4px;\n",
              "    }\n",
              "\n",
              "    [theme=dark] .colab-df-convert {\n",
              "      background-color: #3B4455;\n",
              "      fill: #D2E3FC;\n",
              "    }\n",
              "\n",
              "    [theme=dark] .colab-df-convert:hover {\n",
              "      background-color: #434B5C;\n",
              "      box-shadow: 0px 1px 3px 1px rgba(0, 0, 0, 0.15);\n",
              "      filter: drop-shadow(0px 1px 2px rgba(0, 0, 0, 0.3));\n",
              "      fill: #FFFFFF;\n",
              "    }\n",
              "  </style>\n",
              "\n",
              "    <script>\n",
              "      const buttonEl =\n",
              "        document.querySelector('#df-258bb62c-422a-486b-8b23-76712bf1e437 button.colab-df-convert');\n",
              "      buttonEl.style.display =\n",
              "        google.colab.kernel.accessAllowed ? 'block' : 'none';\n",
              "\n",
              "      async function convertToInteractive(key) {\n",
              "        const element = document.querySelector('#df-258bb62c-422a-486b-8b23-76712bf1e437');\n",
              "        const dataTable =\n",
              "          await google.colab.kernel.invokeFunction('convertToInteractive',\n",
              "                                                    [key], {});\n",
              "        if (!dataTable) return;\n",
              "\n",
              "        const docLinkHtml = 'Like what you see? Visit the ' +\n",
              "          '<a target=\"_blank\" href=https://colab.research.google.com/notebooks/data_table.ipynb>data table notebook</a>'\n",
              "          + ' to learn more about interactive tables.';\n",
              "        element.innerHTML = '';\n",
              "        dataTable['output_type'] = 'display_data';\n",
              "        await google.colab.output.renderOutput(dataTable, element);\n",
              "        const docLink = document.createElement('div');\n",
              "        docLink.innerHTML = docLinkHtml;\n",
              "        element.appendChild(docLink);\n",
              "      }\n",
              "    </script>\n",
              "  </div>\n",
              "\n",
              "\n",
              "<div id=\"df-ae05a74d-4a97-477d-a47d-a87a255e2335\">\n",
              "  <button class=\"colab-df-quickchart\" onclick=\"quickchart('df-ae05a74d-4a97-477d-a47d-a87a255e2335')\"\n",
              "            title=\"Suggest charts\"\n",
              "            style=\"display:none;\">\n",
              "\n",
              "<svg xmlns=\"http://www.w3.org/2000/svg\" height=\"24px\"viewBox=\"0 0 24 24\"\n",
              "     width=\"24px\">\n",
              "    <g>\n",
              "        <path d=\"M19 3H5c-1.1 0-2 .9-2 2v14c0 1.1.9 2 2 2h14c1.1 0 2-.9 2-2V5c0-1.1-.9-2-2-2zM9 17H7v-7h2v7zm4 0h-2V7h2v10zm4 0h-2v-4h2v4z\"/>\n",
              "    </g>\n",
              "</svg>\n",
              "  </button>\n",
              "\n",
              "<style>\n",
              "  .colab-df-quickchart {\n",
              "      --bg-color: #E8F0FE;\n",
              "      --fill-color: #1967D2;\n",
              "      --hover-bg-color: #E2EBFA;\n",
              "      --hover-fill-color: #174EA6;\n",
              "      --disabled-fill-color: #AAA;\n",
              "      --disabled-bg-color: #DDD;\n",
              "  }\n",
              "\n",
              "  [theme=dark] .colab-df-quickchart {\n",
              "      --bg-color: #3B4455;\n",
              "      --fill-color: #D2E3FC;\n",
              "      --hover-bg-color: #434B5C;\n",
              "      --hover-fill-color: #FFFFFF;\n",
              "      --disabled-bg-color: #3B4455;\n",
              "      --disabled-fill-color: #666;\n",
              "  }\n",
              "\n",
              "  .colab-df-quickchart {\n",
              "    background-color: var(--bg-color);\n",
              "    border: none;\n",
              "    border-radius: 50%;\n",
              "    cursor: pointer;\n",
              "    display: none;\n",
              "    fill: var(--fill-color);\n",
              "    height: 32px;\n",
              "    padding: 0;\n",
              "    width: 32px;\n",
              "  }\n",
              "\n",
              "  .colab-df-quickchart:hover {\n",
              "    background-color: var(--hover-bg-color);\n",
              "    box-shadow: 0 1px 2px rgba(60, 64, 67, 0.3), 0 1px 3px 1px rgba(60, 64, 67, 0.15);\n",
              "    fill: var(--button-hover-fill-color);\n",
              "  }\n",
              "\n",
              "  .colab-df-quickchart-complete:disabled,\n",
              "  .colab-df-quickchart-complete:disabled:hover {\n",
              "    background-color: var(--disabled-bg-color);\n",
              "    fill: var(--disabled-fill-color);\n",
              "    box-shadow: none;\n",
              "  }\n",
              "\n",
              "  .colab-df-spinner {\n",
              "    border: 2px solid var(--fill-color);\n",
              "    border-color: transparent;\n",
              "    border-bottom-color: var(--fill-color);\n",
              "    animation:\n",
              "      spin 1s steps(1) infinite;\n",
              "  }\n",
              "\n",
              "  @keyframes spin {\n",
              "    0% {\n",
              "      border-color: transparent;\n",
              "      border-bottom-color: var(--fill-color);\n",
              "      border-left-color: var(--fill-color);\n",
              "    }\n",
              "    20% {\n",
              "      border-color: transparent;\n",
              "      border-left-color: var(--fill-color);\n",
              "      border-top-color: var(--fill-color);\n",
              "    }\n",
              "    30% {\n",
              "      border-color: transparent;\n",
              "      border-left-color: var(--fill-color);\n",
              "      border-top-color: var(--fill-color);\n",
              "      border-right-color: var(--fill-color);\n",
              "    }\n",
              "    40% {\n",
              "      border-color: transparent;\n",
              "      border-right-color: var(--fill-color);\n",
              "      border-top-color: var(--fill-color);\n",
              "    }\n",
              "    60% {\n",
              "      border-color: transparent;\n",
              "      border-right-color: var(--fill-color);\n",
              "    }\n",
              "    80% {\n",
              "      border-color: transparent;\n",
              "      border-right-color: var(--fill-color);\n",
              "      border-bottom-color: var(--fill-color);\n",
              "    }\n",
              "    90% {\n",
              "      border-color: transparent;\n",
              "      border-bottom-color: var(--fill-color);\n",
              "    }\n",
              "  }\n",
              "</style>\n",
              "\n",
              "  <script>\n",
              "    async function quickchart(key) {\n",
              "      const quickchartButtonEl =\n",
              "        document.querySelector('#' + key + ' button');\n",
              "      quickchartButtonEl.disabled = true;  // To prevent multiple clicks.\n",
              "      quickchartButtonEl.classList.add('colab-df-spinner');\n",
              "      try {\n",
              "        const charts = await google.colab.kernel.invokeFunction(\n",
              "            'suggestCharts', [key], {});\n",
              "      } catch (error) {\n",
              "        console.error('Error during call to suggestCharts:', error);\n",
              "      }\n",
              "      quickchartButtonEl.classList.remove('colab-df-spinner');\n",
              "      quickchartButtonEl.classList.add('colab-df-quickchart-complete');\n",
              "    }\n",
              "    (() => {\n",
              "      let quickchartButtonEl =\n",
              "        document.querySelector('#df-ae05a74d-4a97-477d-a47d-a87a255e2335 button');\n",
              "      quickchartButtonEl.style.display =\n",
              "        google.colab.kernel.accessAllowed ? 'block' : 'none';\n",
              "    })();\n",
              "  </script>\n",
              "</div>\n",
              "\n",
              "  <div id=\"id_1e6355ec-fa23-4980-84ec-00e9f1fd630d\">\n",
              "    <style>\n",
              "      .colab-df-generate {\n",
              "        background-color: #E8F0FE;\n",
              "        border: none;\n",
              "        border-radius: 50%;\n",
              "        cursor: pointer;\n",
              "        display: none;\n",
              "        fill: #1967D2;\n",
              "        height: 32px;\n",
              "        padding: 0 0 0 0;\n",
              "        width: 32px;\n",
              "      }\n",
              "\n",
              "      .colab-df-generate:hover {\n",
              "        background-color: #E2EBFA;\n",
              "        box-shadow: 0px 1px 2px rgba(60, 64, 67, 0.3), 0px 1px 3px 1px rgba(60, 64, 67, 0.15);\n",
              "        fill: #174EA6;\n",
              "      }\n",
              "\n",
              "      [theme=dark] .colab-df-generate {\n",
              "        background-color: #3B4455;\n",
              "        fill: #D2E3FC;\n",
              "      }\n",
              "\n",
              "      [theme=dark] .colab-df-generate:hover {\n",
              "        background-color: #434B5C;\n",
              "        box-shadow: 0px 1px 3px 1px rgba(0, 0, 0, 0.15);\n",
              "        filter: drop-shadow(0px 1px 2px rgba(0, 0, 0, 0.3));\n",
              "        fill: #FFFFFF;\n",
              "      }\n",
              "    </style>\n",
              "    <button class=\"colab-df-generate\" onclick=\"generateWithVariable('df_features')\"\n",
              "            title=\"Generate code using this dataframe.\"\n",
              "            style=\"display:none;\">\n",
              "\n",
              "  <svg xmlns=\"http://www.w3.org/2000/svg\" height=\"24px\"viewBox=\"0 0 24 24\"\n",
              "       width=\"24px\">\n",
              "    <path d=\"M7,19H8.4L18.45,9,17,7.55,7,17.6ZM5,21V16.75L18.45,3.32a2,2,0,0,1,2.83,0l1.4,1.43a1.91,1.91,0,0,1,.58,1.4,1.91,1.91,0,0,1-.58,1.4L9.25,21ZM18.45,9,17,7.55Zm-12,3A5.31,5.31,0,0,0,4.9,8.1,5.31,5.31,0,0,0,1,6.5,5.31,5.31,0,0,0,4.9,4.9,5.31,5.31,0,0,0,6.5,1,5.31,5.31,0,0,0,8.1,4.9,5.31,5.31,0,0,0,12,6.5,5.46,5.46,0,0,0,6.5,12Z\"/>\n",
              "  </svg>\n",
              "    </button>\n",
              "    <script>\n",
              "      (() => {\n",
              "      const buttonEl =\n",
              "        document.querySelector('#id_1e6355ec-fa23-4980-84ec-00e9f1fd630d button.colab-df-generate');\n",
              "      buttonEl.style.display =\n",
              "        google.colab.kernel.accessAllowed ? 'block' : 'none';\n",
              "\n",
              "      buttonEl.onclick = () => {\n",
              "        google.colab.notebook.generateWithVariable('df_features');\n",
              "      }\n",
              "      })();\n",
              "    </script>\n",
              "  </div>\n",
              "\n",
              "    </div>\n",
              "  </div>\n"
            ],
            "application/vnd.google.colaboratory.intrinsic+json": {
              "type": "dataframe",
              "variable_name": "df_features",
              "summary": "{\n  \"name\": \"df_features\",\n  \"rows\": 4760,\n  \"fields\": [\n    {\n      \"column\": \"Movie_Genre\",\n      \"properties\": {\n        \"dtype\": \"category\",\n        \"num_unique_values\": 1164,\n        \"samples\": [\n          \"Family Animation Adventure\",\n          \"Adventure Science Fiction Action\",\n          \"Action Crime Drama Romance Thriller\"\n        ],\n        \"semantic_type\": \"\",\n        \"description\": \"\"\n      }\n    },\n    {\n      \"column\": \"Movie_Keywords\",\n      \"properties\": {\n        \"dtype\": \"string\",\n        \"num_unique_values\": 4203,\n        \"samples\": [\n          \"canada nazis sequel spin off ancient evil\",\n          \"sex professor wedding woman director columbia university\",\n          \"prophecy sea beach gold small town\"\n        ],\n        \"semantic_type\": \"\",\n        \"description\": \"\"\n      }\n    },\n    {\n      \"column\": \"Movie_Tagline\",\n      \"properties\": {\n        \"dtype\": \"string\",\n        \"num_unique_values\": 3928,\n        \"samples\": [\n          \"The messenger must be silenced.\",\n          \"It's not the house that's haunted.\",\n          \"The final hunt begins.\"\n        ],\n        \"semantic_type\": \"\",\n        \"description\": \"\"\n      }\n    },\n    {\n      \"column\": \"Movie_Cast\",\n      \"properties\": {\n        \"dtype\": \"string\",\n        \"num_unique_values\": 4715,\n        \"samples\": [\n          \"Robin Tunney Fairuza Balk Neve Campbell Rachel True Skeet Ulrich\",\n          \"Peter Sellers Christopher Plummer Herbert Lom Catherine Schell Peter Arne\",\n          \"John Wayne Laraine Day Cedric Hardwicke Judith Anderson Anthony Quinn\"\n        ],\n        \"semantic_type\": \"\",\n        \"description\": \"\"\n      }\n    },\n    {\n      \"column\": \"Movie_Director\",\n      \"properties\": {\n        \"dtype\": \"category\",\n        \"num_unique_values\": 2332,\n        \"samples\": [\n          \"Rob McKittrick\",\n          \"Terron R. Parsons\",\n          \"Cyrus Nowrasteh\"\n        ],\n        \"semantic_type\": \"\",\n        \"description\": \"\"\n      }\n    }\n  ]\n}"
            }
          },
          "metadata": {},
          "execution_count": 19
        }
      ]
    },
    {
      "cell_type": "code",
      "source": [
        "x = df_features['Movie_Genre'] + ' ' + df_features['Movie_Keywords'] + ' ' + df_features['Movie_Tagline'] + ' ' +  df_features['Movie_Cast'] + ' ' +df_features['Movie_Director']"
      ],
      "metadata": {
        "id": "cyv_2-9QK7Lo"
      },
      "execution_count": 20,
      "outputs": []
    },
    {
      "cell_type": "code",
      "source": [
        "x"
      ],
      "metadata": {
        "colab": {
          "base_uri": "https://localhost:8080/"
        },
        "id": "LhOZrVeHLx9Q",
        "outputId": "721f3b48-e6e1-4c5e-8a88-383154b7b984"
      },
      "execution_count": 21,
      "outputs": [
        {
          "output_type": "execute_result",
          "data": {
            "text/plain": [
              "0       Crime Comedy hotel new year's eve witch bet ho...\n",
              "1       Adventure Action Science Fiction android galax...\n",
              "2       Animation Family father son relationship harbo...\n",
              "3       Comedy Drama Romance vietnam veteran hippie me...\n",
              "4       Drama male nudity female nudity adultery midli...\n",
              "                              ...                        \n",
              "4755    Horror  The hot spot where Satan's waitin'. Li...\n",
              "4756    Comedy Family Drama  Itâs better to stand ou...\n",
              "4757    Thriller Drama christian film sex trafficking ...\n",
              "4758                                           Family    \n",
              "4759    Documentary music actors legendary perfomer cl...\n",
              "Length: 4760, dtype: object"
            ]
          },
          "metadata": {},
          "execution_count": 21
        }
      ]
    },
    {
      "cell_type": "code",
      "source": [
        "x.shape"
      ],
      "metadata": {
        "colab": {
          "base_uri": "https://localhost:8080/"
        },
        "id": "0Wc55t2-L6ZK",
        "outputId": "970e3919-2ac3-425c-87f5-405d418a91c4"
      },
      "execution_count": 22,
      "outputs": [
        {
          "output_type": "execute_result",
          "data": {
            "text/plain": [
              "(4760,)"
            ]
          },
          "metadata": {},
          "execution_count": 22
        }
      ]
    },
    {
      "cell_type": "code",
      "source": [
        "from sklearn.feature_extraction.text import TfidfVectorizer"
      ],
      "metadata": {
        "id": "fW3j1snPMCat"
      },
      "execution_count": 23,
      "outputs": []
    },
    {
      "cell_type": "code",
      "source": [
        "tfidf = TfidfVectorizer()"
      ],
      "metadata": {
        "id": "KoZSr3Y7MVtj"
      },
      "execution_count": 24,
      "outputs": []
    },
    {
      "cell_type": "code",
      "source": [
        "x = tfidf.fit_transform(x)"
      ],
      "metadata": {
        "id": "aeRRhDaaMbpR"
      },
      "execution_count": 25,
      "outputs": []
    },
    {
      "cell_type": "code",
      "source": [
        "x.shape"
      ],
      "metadata": {
        "colab": {
          "base_uri": "https://localhost:8080/"
        },
        "id": "GVL8lHYWMoaz",
        "outputId": "60cf6bfd-0e52-4cb4-df44-654dad7636e7"
      },
      "execution_count": 26,
      "outputs": [
        {
          "output_type": "execute_result",
          "data": {
            "text/plain": [
              "(4760, 17189)"
            ]
          },
          "metadata": {},
          "execution_count": 26
        }
      ]
    },
    {
      "cell_type": "code",
      "source": [
        "print(x)"
      ],
      "metadata": {
        "colab": {
          "base_uri": "https://localhost:8080/"
        },
        "id": "UDXA0eg_MsWc",
        "outputId": "a72c90bd-a701-4291-88dd-848d4ed3a57e"
      },
      "execution_count": 27,
      "outputs": [
        {
          "output_type": "stream",
          "name": "stdout",
          "text": [
            "  (0, 617)\t0.1633310452205394\n",
            "  (0, 492)\t0.14325286612623156\n",
            "  (0, 15577)\t0.1465460770695753\n",
            "  (0, 9773)\t0.1422543288694842\n",
            "  (0, 9564)\t0.16597685142739765\n",
            "  (0, 1396)\t0.1689764191108719\n",
            "  (0, 7901)\t0.09799131476393891\n",
            "  (0, 1219)\t0.13865248946681621\n",
            "  (0, 731)\t0.1341447454727044\n",
            "  (0, 13237)\t0.14325286612623156\n",
            "  (0, 15519)\t0.10477356081695734\n",
            "  (0, 9143)\t0.08668040688364516\n",
            "  (0, 11291)\t0.06250105810750728\n",
            "  (0, 16666)\t0.17653472601922027\n",
            "  (0, 5657)\t0.08603159963165935\n",
            "  (0, 16628)\t0.10689614543723919\n",
            "  (0, 7982)\t0.13347414673363842\n",
            "  (0, 15380)\t0.09800042725339804\n",
            "  (0, 11373)\t0.0727746880272554\n",
            "  (0, 3913)\t0.12034399591715339\n",
            "  (0, 5545)\t0.11453554770262894\n",
            "  (0, 7136)\t0.19821547555365052\n",
            "  (0, 7526)\t0.14744988571834763\n",
            "  (0, 1502)\t0.19711772162778973\n",
            "  (0, 9301)\t0.15185617026549708\n",
            "  :\t:\n",
            "  (4757, 5501)\t0.124907529935587\n",
            "  (4757, 2994)\t0.1627252794153433\n",
            "  (4757, 8554)\t0.23521195416471438\n",
            "  (4757, 7001)\t0.1708717832968577\n",
            "  (4757, 8468)\t0.1747958565007815\n",
            "  (4757, 15466)\t0.07653910158302538\n",
            "  (4757, 15548)\t0.09753754329752447\n",
            "  (4757, 7722)\t0.11529383714071226\n",
            "  (4757, 11017)\t0.14545625755074446\n",
            "  (4757, 4533)\t0.056749678750954026\n",
            "  (4758, 5283)\t1.0\n",
            "  (4759, 11395)\t0.33947721804318337\n",
            "  (4759, 11839)\t0.33947721804318337\n",
            "  (4759, 205)\t0.3237911628497312\n",
            "  (4759, 8996)\t0.3040290704566037\n",
            "  (4759, 14213)\t0.3237911628497312\n",
            "  (4759, 3084)\t0.2812896191863103\n",
            "  (4759, 7195)\t0.26419662449963793\n",
            "  (4759, 10882)\t0.3126617295732147\n",
            "  (4759, 4396)\t0.18306542312175342\n",
            "  (4759, 14202)\t0.20084315377640435\n",
            "  (4759, 5735)\t0.19534291014627303\n",
            "  (4759, 15596)\t0.19628653185946862\n",
            "  (4759, 1497)\t0.21197258705292082\n",
            "  (4759, 10775)\t0.15888268987343043\n"
          ]
        }
      ]
    },
    {
      "cell_type": "code",
      "source": [
        "from sklearn.metrics.pairwise import cosine_similarity"
      ],
      "metadata": {
        "id": "1HZ1LqsPNELo"
      },
      "execution_count": 28,
      "outputs": []
    },
    {
      "cell_type": "code",
      "source": [
        "Similarity_Score = cosine_similarity(x)"
      ],
      "metadata": {
        "id": "T0sQ0LlUNQIr"
      },
      "execution_count": 29,
      "outputs": []
    },
    {
      "cell_type": "code",
      "source": [
        "Similarity_Score"
      ],
      "metadata": {
        "colab": {
          "base_uri": "https://localhost:8080/"
        },
        "id": "a5pes8QTNc1e",
        "outputId": "3bf9f6a6-6e5c-417a-9a4b-e3a62e04c2e1"
      },
      "execution_count": 30,
      "outputs": [
        {
          "output_type": "execute_result",
          "data": {
            "text/plain": [
              "array([[1.        , 0.0135115 , 0.03570181, ..., 0.        , 0.        ,\n",
              "        0.        ],\n",
              "       [0.0135115 , 1.        , 0.0080663 , ..., 0.        , 0.        ,\n",
              "        0.        ],\n",
              "       [0.03570181, 0.0080663 , 1.        , ..., 0.        , 0.08014583,\n",
              "        0.        ],\n",
              "       ...,\n",
              "       [0.        , 0.        , 0.        , ..., 1.        , 0.        ,\n",
              "        0.        ],\n",
              "       [0.        , 0.        , 0.08014583, ..., 0.        , 1.        ,\n",
              "        0.        ],\n",
              "       [0.        , 0.        , 0.        , ..., 0.        , 0.        ,\n",
              "        1.        ]])"
            ]
          },
          "metadata": {},
          "execution_count": 30
        }
      ]
    },
    {
      "cell_type": "code",
      "source": [
        "Similarity_Score.shape"
      ],
      "metadata": {
        "colab": {
          "base_uri": "https://localhost:8080/"
        },
        "id": "FbjODxz8Nf66",
        "outputId": "bdf198ce-6a30-42a6-e6bc-fc99638b4d9f"
      },
      "execution_count": 31,
      "outputs": [
        {
          "output_type": "execute_result",
          "data": {
            "text/plain": [
              "(4760, 4760)"
            ]
          },
          "metadata": {},
          "execution_count": 31
        }
      ]
    },
    {
      "cell_type": "code",
      "source": [
        "Favourite_Movie_Name = input('Enter your favourite movie name : ')"
      ],
      "metadata": {
        "colab": {
          "base_uri": "https://localhost:8080/"
        },
        "id": "Z64uMNYdNrjv",
        "outputId": "5edda790-9bb2-47bb-c02e-9f22d3fbebbf"
      },
      "execution_count": 32,
      "outputs": [
        {
          "name": "stdout",
          "output_type": "stream",
          "text": [
            "Enter your favourite movie name : avtaar\n"
          ]
        }
      ]
    },
    {
      "cell_type": "code",
      "source": [
        "All_Movies_Title_List = df['Movie_Title'].tolist()"
      ],
      "metadata": {
        "id": "LpURScnlN_bo"
      },
      "execution_count": 33,
      "outputs": []
    },
    {
      "cell_type": "code",
      "source": [
        "import difflib"
      ],
      "metadata": {
        "id": "ZooBiAJjOQL5"
      },
      "execution_count": 34,
      "outputs": []
    },
    {
      "cell_type": "code",
      "source": [
        "Movie_Recommendation = difflib.get_close_matches(Favourite_Movie_Name,All_Movies_Title_List)\n",
        "print(Movie_Recommendation)"
      ],
      "metadata": {
        "colab": {
          "base_uri": "https://localhost:8080/"
        },
        "id": "WSMP9NVgOUJe",
        "outputId": "5caaf3f6-000e-4153-a8b9-ccf7cf085606"
      },
      "execution_count": 38,
      "outputs": [
        {
          "output_type": "stream",
          "name": "stdout",
          "text": [
            "['Avatar', 'Gattaca']\n"
          ]
        }
      ]
    },
    {
      "cell_type": "code",
      "source": [
        "Close_Match = Movie_Recommendation[0]\n",
        "print(Close_Match)"
      ],
      "metadata": {
        "colab": {
          "base_uri": "https://localhost:8080/"
        },
        "id": "eouZ_PzBOt6w",
        "outputId": "16759fda-c6f8-441d-8416-1ae98144dd94"
      },
      "execution_count": 41,
      "outputs": [
        {
          "output_type": "stream",
          "name": "stdout",
          "text": [
            "Avatar\n",
            "Avatar\n"
          ]
        }
      ]
    },
    {
      "cell_type": "code",
      "source": [
        "Index_of_Close_Match_Movie = df[df.Movie_Title == Close_Match]['Movie_ID'].values[0]\n",
        "print(Index_of_Close_Match_Movie)"
      ],
      "metadata": {
        "colab": {
          "base_uri": "https://localhost:8080/"
        },
        "id": "Y0SthvBiPKiA",
        "outputId": "5cb0a7dd-ed08-456b-af78-653b3d0fbd2f"
      },
      "execution_count": 43,
      "outputs": [
        {
          "output_type": "stream",
          "name": "stdout",
          "text": [
            "2692\n"
          ]
        }
      ]
    },
    {
      "cell_type": "code",
      "source": [
        "Recommendation_Score = list(enumerate(Similarity_Score[Index_of_Close_Match_Movie]))\n",
        "print(Recommendation_Score)"
      ],
      "metadata": {
        "colab": {
          "base_uri": "https://localhost:8080/"
        },
        "id": "7owxEne4Prr7",
        "outputId": "12972cab-d9fc-470d-bd0e-0e47a4a46896"
      },
      "execution_count": 45,
      "outputs": [
        {
          "output_type": "stream",
          "name": "stdout",
          "text": [
            "[(0, 0.009804663142131673), (1, 0.0), (2, 0.0), (3, 0.008003859220195959), (4, 0.0026759665928032302), (5, 0.0099650467187842), (6, 0.004962646721282994), (7, 0.013052833623717551), (8, 0.0027543335470164663), (9, 0.00607882290416431), (10, 0.007539724639541887), (11, 0.0026263170118314906), (12, 0.002708340354961457), (13, 0.012904730427356216), (14, 0.0), (15, 0.022555309119982825), (16, 0.00651878258419246), (17, 0.0), (18, 0.013639140329970214), (19, 0.008784739948684396), (20, 0.0026527570934446066), (21, 0.015211614027840471), (22, 0.006521982715653494), (23, 0.0026429172195160193), (24, 0.0016561266417293304), (25, 0.025599735051648736), (26, 0.0024815199490618002), (27, 0.004790893912949594), (28, 0.0), (29, 0.023288277583204436), (30, 0.004648723879380024), (31, 0.0067236514118236), (32, 0.007984548069367697), (33, 0.019130266147757837), (34, 0.007438314585936167), (35, 0.0060612328203774185), (36, 0.0), (37, 0.0), (38, 0.008085428274959462), (39, 0.004631929415360482), (40, 0.015305064222782005), (41, 0.0028220612513682524), (42, 0.007236825272071698), (43, 0.014850933437336278), (44, 0.03961500756520397), (45, 0.08996331544687566), (46, 0.018550346824932534), (47, 0.010374759033888029), (48, 0.015673410180680997), (49, 0.0), (50, 0.006986992676753986), (51, 0.014965979411782002), (52, 0.013794151590779393), (53, 0.0), (54, 0.0), (55, 0.0), (56, 0.006687995450791239), (57, 0.010835008478228547), (58, 0.0), (59, 0.0), (60, 0.0077879738955692005), (61, 0.017658795452635247), (62, 0.10128854703131326), (63, 0.007237195420932536), (64, 0.0), (65, 0.031680929113056686), (66, 0.0025312341363153924), (67, 0.04506617878405939), (68, 0.022589410734540884), (69, 0.00506551508596364), (70, 0.013024158326231012), (71, 0.002598233031967091), (72, 0.011646896738359485), (73, 0.0), (74, 0.002697321222497816), (75, 0.012892746449532828), (76, 0.003866771207009018), (77, 0.0034763112712535445), (78, 0.009399606571884909), (79, 0.009076618790839581), (80, 0.004227109798982706), (81, 0.007009943535800456), (82, 0.011893562226239041), (83, 0.018499253040803937), (84, 0.06181962844998546), (85, 0.015565012350455393), (86, 0.011733600538844122), (87, 0.013731711116033066), (88, 0.022301178722772527), (89, 0.04014172069257633), (90, 0.004511298820312949), (91, 0.0), (92, 0.002231938202318901), (93, 0.004418656840322172), (94, 0.004236585948952706), (95, 0.004745609331166691), (96, 0.00889503611625313), (97, 0.0022256074539374745), (98, 0.00248305055678361), (99, 0.01010872536394476), (100, 0.0), (101, 0.0), (102, 0.0050401893607578485), (103, 0.0023560998694685743), (104, 0.00916249023695782), (105, 0.009705320700138752), (106, 0.01750978735299645), (107, 0.00810878589263473), (108, 0.03870776084834192), (109, 0.038488255428289986), (110, 0.08489901154275127), (111, 0.008928177405785696), (112, 0.028883857117453057), (113, 0.007487310843562389), (114, 0.002538593432573124), (115, 0.002592727494454035), (116, 0.02419830146584777), (117, 0.0), (118, 0.004730932877439952), (119, 0.008931608055390767), (120, 0.009909233957809672), (121, 0.0023309647694089563), (122, 0.006517403480064114), (123, 0.018256088885426403), (124, 0.024984856011144883), (125, 0.012801531158627047), (126, 0.03803330889536933), (127, 0.002524556846134362), (128, 0.005117624517331958), (129, 0.0017709443967199971), (130, 0.012121552250700485), (131, 0.006655142039509908), (132, 0.002248466319856062), (133, 0.0), (134, 0.0), (135, 0.004609422560900165), (136, 0.002342053663543897), (137, 0.05248618592824439), (138, 0.03279443946295701), (139, 0.00793805341964405), (140, 0.0023755611990183036), (141, 0.0), (142, 0.01924033807026037), (143, 0.0074218727251426225), (144, 0.017350164505517556), (145, 0.019128060100674707), (146, 0.0), (147, 0.017981508534884325), (148, 0.010606847740924956), (149, 0.011746502833415905), (150, 0.0), (151, 0.0), (152, 0.004472461920846967), (153, 0.0), (154, 0.002380131534979083), (155, 0.023537392491492296), (156, 0.007520035086118061), (157, 0.0024885474337972948), (158, 0.00227493676508816), (159, 0.007261516690942341), (160, 0.018296700095121736), (161, 0.04350231968158566), (162, 0.007770799696963449), (163, 0.0), (164, 0.008663650485561706), (165, 0.0022507515861533677), (166, 0.0323661098486464), (167, 0.026576509643169363), (168, 0.0053289700813810605), (169, 0.0025497483028101287), (170, 0.010590419372720969), (171, 0.0), (172, 0.041690425384126525), (173, 0.017248987581175608), (174, 0.030569480499441422), (175, 0.023330531483932517), (176, 0.027183803724459624), (177, 0.005599808753936733), (178, 0.002667597316215695), (179, 0.030707903325990372), (180, 0.0075549045946575214), (181, 0.014055923457905324), (182, 0.009177613098031678), (183, 0.008350342502147893), (184, 0.0022333195719391554), (185, 0.03980711555312548), (186, 0.0), (187, 0.004046624716605281), (188, 0.0), (189, 0.004777355844485406), (190, 0.012138750265674795), (191, 0.004115387650703491), (192, 0.0027430559563033185), (193, 0.029212491040047014), (194, 0.002034839745506438), (195, 0.002130472887198898), (196, 0.002130241788619929), (197, 0.00887201102949162), (198, 0.0025726214605457354), (199, 0.01987879051622169), (200, 0.006316674416876772), (201, 0.012194922563079247), (202, 0.0016641197145282833), (203, 0.017224644176647017), (204, 0.018686269670332167), (205, 0.0), (206, 0.010195242814014389), (207, 0.013200856531198197), (208, 0.014564317291621241), (209, 0.016326637209159098), (210, 0.038872494075225), (211, 0.0026509436265181466), (212, 0.01673880855230024), (213, 0.050336492123290805), (214, 0.0), (215, 0.0024914834834710757), (216, 0.009963290254012122), (217, 0.006895401774909929), (218, 0.01632411518885713), (219, 0.0), (220, 0.004877383327231498), (221, 0.002411361490287575), (222, 0.017856013028360415), (223, 0.0), (224, 0.007959563163942614), (225, 0.0), (226, 0.00259025102562976), (227, 0.049272711641777656), (228, 0.0019203514466998978), (229, 0.002364464894441411), (230, 0.00639704758425901), (231, 0.013776051933969073), (232, 0.007072494943779912), (233, 0.004553254985288596), (234, 0.003970509617032526), (235, 0.0028622546207157586), (236, 0.013361417399169878), (237, 0.0), (238, 0.007292058096564207), (239, 0.004893411026998544), (240, 0.02640845016796004), (241, 0.02786768092960492), (242, 0.007883152373824122), (243, 0.009657125074563578), (244, 0.011432084378915757), (245, 0.0), (246, 0.002697036477934071), (247, 0.002507649315273456), (248, 0.006076488349051575), (249, 0.0022242181571218047), (250, 0.029604530085672168), (251, 0.013867966455367267), (252, 0.013883632146620802), (253, 0.0027728059165985143), (254, 0.06351452702158421), (255, 0.007486787644460759), (256, 0.007180422705514563), (257, 0.021798986073708497), (258, 0.0), (259, 0.0), (260, 0.004375759434559263), (261, 0.02232369294417245), (262, 0.0026643359555147046), (263, 0.006216251561942655), (264, 0.0), (265, 0.0), (266, 0.01065778357874695), (267, 0.0021492676003019005), (268, 0.0022618076178884876), (269, 0.024721903537036544), (270, 0.010051574363539168), (271, 0.010513499130038398), (272, 0.0), (273, 0.010851325289581416), (274, 0.011035641459288753), (275, 0.0), (276, 0.013411097022715944), (277, 0.043056933195160275), (278, 0.0022111376871510966), (279, 0.01674439634537899), (280, 0.016137491106088885), (281, 0.010850110374057989), (282, 0.058780797616944463), (283, 0.006659509031075638), (284, 0.027210766517313724), (285, 0.008703615455301121), (286, 0.0021763451606793822), (287, 0.015182057023698533), (288, 0.009765024267620279), (289, 0.0037767507584235784), (290, 0.0037646025269972177), (291, 0.010653646520640754), (292, 0.05110461872364794), (293, 0.001887117394526281), (294, 0.0037456348254895208), (295, 0.0037609230872212777), (296, 0.01515965845256877), (297, 0.0), (298, 0.0), (299, 0.0), (300, 0.006258139455269685), (301, 0.0069485776645648555), (302, 0.0), (303, 0.005005856556268257), (304, 0.010771237257394612), (305, 0.004593880967405403), (306, 0.004295377414040951), (307, 0.008543112949894228), (308, 0.002836039428752784), (309, 0.007227423804981944), (310, 0.004418894929168386), (311, 0.006640720103355573), (312, 0.0), (313, 0.011588694147227201), (314, 0.0039479759477469055), (315, 0.004624605938993495), (316, 0.00422396395627148), (317, 0.013718664877306868), (318, 0.0027716213992394355), (319, 0.0), (320, 0.004833584283489667), (321, 0.010986472140838744), (322, 0.011011274215599966), (323, 0.004123848625725578), (324, 0.002337481628018978), (325, 0.002396607136979531), (326, 0.003105938774714085), (327, 0.010031091446491825), (328, 0.04375860708065464), (329, 0.01967474530279273), (330, 0.01989813316934488), (331, 0.0), (332, 0.013291392972049707), (333, 0.010396337231622678), (334, 0.03309574460421296), (335, 0.0), (336, 0.0047110789913987), (337, 0.0), (338, 0.0), (339, 0.0), (340, 0.007057651379332426), (341, 0.012040276910772649), (342, 0.017625924860547256), (343, 0.01579152187174405), (344, 0.0), (345, 0.024810017603901623), (346, 0.00904732990567095), (347, 0.004628430967722765), (348, 0.0025106049309844727), (349, 0.002458675855786914), (350, 0.007783455522120415), (351, 0.001934949810470641), (352, 0.0), (353, 0.009247125239823462), (354, 0.010230546896631672), (355, 0.0023372658152905545), (356, 0.013085040436305779), (357, 0.0021884800236122684), (358, 0.015243608715788372), (359, 0.0023274681266520665), (360, 0.04140490881144238), (361, 0.0), (362, 0.0), (363, 0.007177918653319793), (364, 0.018118667495208754), (365, 0.0), (366, 0.0), (367, 0.0067768035165527395), (368, 0.00849246998822155), (369, 0.005454562266206484), (370, 0.01420054720460225), (371, 0.027757337402640993), (372, 0.0023630726175345187), (373, 0.002402674308932783), (374, 0.015463425047547465), (375, 0.004559192860250823), (376, 0.0), (377, 0.002611958010085245), (378, 0.002598704820938192), (379, 0.0), (380, 0.0052998836952428295), (381, 0.02609320340969504), (382, 0.0), (383, 0.019467817150654654), (384, 0.048561612573761986), (385, 0.00783173484858618), (386, 0.006839159391988557), (387, 0.032510131604096076), (388, 0.0023936253101480304), (389, 0.004591931131783981), (390, 0.0), (391, 0.0), (392, 0.0), (393, 0.0), (394, 0.0), (395, 0.00272106521247246), (396, 0.009236073372609652), (397, 0.004218046450362678), (398, 0.02199487279417078), (399, 0.0023490788595433507), (400, 0.00251289546460505), (401, 0.0), (402, 0.01107405936980512), (403, 0.007717320665807713), (404, 0.0), (405, 0.0), (406, 0.013996421309263717), (407, 0.012576162839507807), (408, 0.04269519176334115), (409, 0.017054100820530427), (410, 0.0023934293304928413), (411, 0.0), (412, 0.04505630348339674), (413, 0.007013217754268369), (414, 0.00493284652771533), (415, 0.0), (416, 0.002324088327746965), (417, 0.010857053144102818), (418, 0.012363494963790644), (419, 0.0028564076731825015), (420, 0.004960574443149057), (421, 0.02749177219642947), (422, 0.006680764872885278), (423, 0.0), (424, 0.0583952756150975), (425, 0.005233540201929489), (426, 0.004315019756269958), (427, 0.0), (428, 0.027941476362352217), (429, 0.014707881042073087), (430, 0.028474447896110415), (431, 0.0029909808972183064), (432, 0.0021570110804746616), (433, 0.016594829303328437), (434, 0.009089588400297183), (435, 0.009475263814794346), (436, 0.00799890548966512), (437, 0.014861035759572141), (438, 0.04305454556025499), (439, 0.0), (440, 0.0), (441, 0.007524058999258837), (442, 0.021288297567688543), (443, 0.00826944426866319), (444, 0.0028717359403144095), (445, 0.00822407393413234), (446, 0.00888200665157438), (447, 0.01477043861892446), (448, 0.0029273791170721856), (449, 0.0082178067298357), (450, 0.01560752704400831), (451, 0.004633206829364098), (452, 0.011805040282430304), (453, 0.0019393347333000763), (454, 0.0), (455, 0.04213396440391408), (456, 0.0026861718866293296), (457, 0.0023771536686812587), (458, 0.015870023605061873), (459, 0.026041390263338297), (460, 0.0045915877416530925), (461, 0.008378393185575846), (462, 0.03225758483924034), (463, 0.019270774055312006), (464, 0.009197457341167534), (465, 0.02831646493528287), (466, 0.002507384990996102), (467, 0.0045475122002823845), (468, 0.010463311697229982), (469, 0.003904787323943318), (470, 0.014467727368183025), (471, 0.002368427181806095), (472, 0.009373398474922641), (473, 0.0022945038896853643), (474, 0.007434113526945559), (475, 0.003209611461400109), (476, 0.0027839829553150115), (477, 0.005239369680270199), (478, 0.0028703090546665397), (479, 0.05090919315718398), (480, 0.0022789281408545094), (481, 0.0154679891026844), (482, 0.014312251205569164), (483, 0.010147679894977592), (484, 0.0), (485, 0.010299890463609936), (486, 0.0), (487, 0.0024278315922302163), (488, 0.002453086197842322), (489, 0.003033907649847658), (490, 0.0025434427559110936), (491, 0.0), (492, 0.0), (493, 0.007590301018070414), (494, 0.007107534761405225), (495, 0.0022431563403783133), (496, 0.013380597753649607), (497, 0.006295754792786333), (498, 0.0), (499, 0.002760042990982669), (500, 0.011394640286044188), (501, 0.01049493367325733), (502, 0.014871504175210649), (503, 0.006882371442124131), (504, 0.002551434931569695), (505, 0.002409323202911005), (506, 0.0), (507, 0.0023814032611240723), (508, 0.0029161753848960135), (509, 0.00733202705436811), (510, 0.014296999476996843), (511, 0.016166552419491664), (512, 0.005480214628465595), (513, 0.005015028264463551), (514, 0.005003024616850094), (515, 0.022803734079076352), (516, 0.0), (517, 0.0), (518, 0.0029732402429394856), (519, 0.049132143967920615), (520, 0.0), (521, 0.006324250727724211), (522, 0.026698875614092985), (523, 0.01175475224186366), (524, 0.0023736028306943716), (525, 0.0), (526, 0.0031892059612266465), (527, 0.012408426657113936), (528, 0.0), (529, 0.0), (530, 0.02972724760265825), (531, 0.0), (532, 0.010853692109028056), (533, 0.016010926523649965), (534, 0.01404914416124758), (535, 0.0), (536, 0.0), (537, 0.012728576163409102), (538, 0.010837176004175735), (539, 0.006923300446519886), (540, 0.03445972856479224), (541, 0.0025020545614602946), (542, 0.009967431534984025), (543, 0.01481514022208621), (544, 0.009753397860988314), (545, 0.013484509510887666), (546, 0.0), (547, 0.033359706532800286), (548, 0.0), (549, 0.0), (550, 0.005095713449789213), (551, 0.016277960178301926), (552, 0.0), (553, 0.01868549971500158), (554, 0.0), (555, 0.010805867563405055), (556, 0.0), (557, 0.0), (558, 0.008862695499612721), (559, 0.004110087166529763), (560, 0.011722801684245478), (561, 0.004843805886274633), (562, 0.00542395644575802), (563, 0.006446642107448731), (564, 0.002719825695292051), (565, 0.0), (566, 0.019085435302379772), (567, 0.0), (568, 0.00609145057601534), (569, 0.0), (570, 0.0), (571, 0.00551243089187356), (572, 0.0), (573, 0.0), (574, 0.0), (575, 0.0), (576, 0.002858999118369583), (577, 0.0), (578, 0.03327659698334768), (579, 0.002570719112892798), (580, 0.007470414352999052), (581, 0.006434876941641566), (582, 0.007738614071243571), (583, 0.005954587128257524), (584, 0.014716743508964514), (585, 0.0), (586, 0.015988875724913573), (587, 0.0027886353980351632), (588, 0.0026354138296516643), (589, 0.002397459858402031), (590, 0.06389125800668875), (591, 0.0), (592, 0.0), (593, 0.0269834518549629), (594, 0.0022668822325154735), (595, 0.005073766918951453), (596, 0.002841667503161745), (597, 0.008182082523530025), (598, 0.002363017019179979), (599, 0.0), (600, 0.006911806256969908), (601, 0.0), (602, 0.0), (603, 0.0), (604, 0.013249894763485962), (605, 0.0022310458282784914), (606, 0.007552021695985683), (607, 0.001954044986827609), (608, 0.0064806047604348315), (609, 0.012435461383005303), (610, 0.0), (611, 0.00430627335471214), (612, 0.0026927305201672825), (613, 0.02210391733671185), (614, 0.0029022534315632682), (615, 0.043627287472934005), (616, 0.0075874063363518315), (617, 0.006170495290183273), (618, 0.029763248798137576), (619, 0.0045898474815167095), (620, 0.015388316054734364), (621, 0.009889241145799683), (622, 0.015113986092994434), (623, 0.0026936257054534724), (624, 0.0024162145207401536), (625, 0.0039700919528630274), (626, 0.0021492988165263674), (627, 0.0034341999825618446), (628, 0.08334515876919323), (629, 0.029453959844537546), (630, 0.0), (631, 0.009355753114462769), (632, 0.0392122687552506), (633, 0.004518652731948894), (634, 0.004531895189309974), (635, 0.012208498691708229), (636, 0.007220498423054623), (637, 0.044214370060605246), (638, 0.01648509407336536), (639, 0.003895629946806929), (640, 0.003862120234585781), (641, 0.022733185998566535), (642, 0.0061754634143968735), (643, 0.020148967367649786), (644, 0.006791787033115819), (645, 0.002125271645590742), (646, 0.0024389251045113143), (647, 0.002236776491345276), (648, 0.012276976101265272), (649, 0.0), (650, 0.0), (651, 0.009026111961319224), (652, 0.01454961180007468), (653, 0.012375534050153165), (654, 0.012319247296879221), (655, 0.0023683578516378546), (656, 0.0), (657, 0.024534899755103357), (658, 0.0), (659, 0.002362288633602584), (660, 0.007467868708296813), (661, 0.004441777515408872), (662, 0.0), (663, 0.0), (664, 0.012230253012714354), (665, 0.0), (666, 0.005191363840721598), (667, 0.012288709705708509), (668, 0.009246961926863213), (669, 0.01912890018109188), (670, 0.027727287273577036), (671, 0.00678266432978512), (672, 0.021739478274217176), (673, 0.042771129509752294), (674, 0.0), (675, 0.06176991517572303), (676, 0.013789398295783881), (677, 0.01682212880742526), (678, 0.012742047816080886), (679, 0.0), (680, 0.002697112883037289), (681, 0.0), (682, 0.044629856272861555), (683, 0.010849053346866724), (684, 0.011871358330222063), (685, 0.004739140064506008), (686, 0.0), (687, 0.00511838964431733), (688, 0.007919569221944615), (689, 0.01859014436854392), (690, 0.004292014505619626), (691, 0.022330801569338962), (692, 0.01577967045091189), (693, 0.02940723049563163), (694, 0.035124429377463934), (695, 0.01158036555960466), (696, 0.007195781068415268), (697, 0.009141124051525475), (698, 0.002399544762154424), (699, 0.0), (700, 0.0), (701, 0.015878620948365185), (702, 0.0), (703, 0.0022527066465232557), (704, 0.0), (705, 0.008060671056134337), (706, 0.023120250550801212), (707, 0.0021970853329773077), (708, 0.0), (709, 0.0), (710, 0.03578003620402349), (711, 0.0), (712, 0.0022406993971376544), (713, 0.0), (714, 0.0), (715, 0.010047304304865666), (716, 0.00749730430513755), (717, 0.0026448136161407753), (718, 0.0), (719, 0.011021069857465697), (720, 0.0), (721, 0.03336245332783653), (722, 0.002309086593987036), (723, 0.003905451704110582), (724, 0.0), (725, 0.0), (726, 0.0), (727, 0.007023296228442279), (728, 0.007711092923573802), (729, 0.007972578233613352), (730, 0.0), (731, 0.0024259246335130986), (732, 0.012246140444081056), (733, 0.012306039017932945), (734, 0.008526981319281902), (735, 0.003463159634339838), (736, 0.0), (737, 0.01026893790075737), (738, 0.0038004082431912062), (739, 0.002893817142389973), (740, 0.0017013288518258707), (741, 0.0), (742, 0.012894943260307042), (743, 0.007346838592574463), (744, 0.006611608448963113), (745, 0.006539960935857291), (746, 0.0), (747, 0.0), (748, 0.006970010524476296), (749, 0.0025374899687186105), (750, 0.007029752144012157), (751, 0.0), (752, 0.006873876501041625), (753, 0.013549278832237003), (754, 0.0), (755, 0.0024647317404651358), (756, 0.004050728096314972), (757, 0.018171478905814088), (758, 0.00661942859817275), (759, 0.002309117906857392), (760, 0.013408755868769412), (761, 0.050844325355354554), (762, 0.01538191168609804), (763, 0.02068653089104923), (764, 0.0), (765, 0.004875714723265432), (766, 0.028942549118168227), (767, 0.002405830891505593), (768, 0.01889780127429161), (769, 0.0070559764342692744), (770, 0.0), (771, 0.0), (772, 0.0), (773, 0.0), (774, 0.03653446982082753), (775, 0.013579403901622428), (776, 0.016907198857134393), (777, 0.003048206537715965), (778, 0.006760120126778052), (779, 0.019778519028090427), (780, 0.0), (781, 0.0), (782, 0.008718457535883952), (783, 0.0028976345849260005), (784, 0.0), (785, 0.0), (786, 0.0), (787, 0.030232869208411416), (788, 0.036775782506030336), (789, 0.0), (790, 0.011328819098868296), (791, 0.0027245490827624776), (792, 0.010222756878867782), (793, 0.0047911708785747225), (794, 0.016938690601848962), (795, 0.016724564291810132), (796, 0.017956923058284606), (797, 0.0), (798, 0.002419916924396656), (799, 0.013866844082999446), (800, 0.012330020065717276), (801, 0.010706527010059561), (802, 0.00504790855259478), (803, 0.004123194906999609), (804, 0.006433308629328812), (805, 0.0023452728300887567), (806, 0.009917257818341274), (807, 0.0), (808, 0.0178813433073401), (809, 0.011479133401637472), (810, 0.004309889252115742), (811, 0.004677175365825214), (812, 0.03134358646342912), (813, 0.0028484316450667173), (814, 0.013491398741942807), (815, 0.002265657665698933), (816, 0.007822688625960025), (817, 0.008811076124523943), (818, 0.03439755809850987), (819, 0.0), (820, 0.0), (821, 0.0060159760666970525), (822, 0.0), (823, 0.03170971693957012), (824, 0.024543077975361635), (825, 0.011502463058567088), (826, 0.002704815148187846), (827, 0.011641249331077354), (828, 0.009252538894557493), (829, 0.013066966695139522), (830, 0.03447452468561071), (831, 0.00523348437869602), (832, 0.02610503660845372), (833, 0.012768979339293338), (834, 0.006515346842433373), (835, 0.006210819751878022), (836, 0.028163617472560454), (837, 0.0), (838, 0.00846638251021233), (839, 0.0), (840, 0.0), (841, 0.0), (842, 0.014292048885850284), (843, 0.007487678947366412), (844, 0.012547501024285897), (845, 0.00747322489722964), (846, 0.0), (847, 0.01044101072550268), (848, 0.0025537626157852255), (849, 0.0046103472537448245), (850, 0.009269227266584062), (851, 0.00841917237797718), (852, 0.026315624754250793), (853, 0.01631617715415653), (854, 0.0024204130433707048), (855, 0.005267340940475514), (856, 0.0023022674986765018), (857, 0.0028006002890249497), (858, 0.01786248303974472), (859, 0.0), (860, 0.016481212100768684), (861, 0.006152454252576951), (862, 0.006222038266732452), (863, 0.0066557116346093615), (864, 0.031859646347617454), (865, 0.002598617784060375), (866, 0.013604347895324657), (867, 0.015447275691157163), (868, 0.0066380990252306385), (869, 0.00725369920474282), (870, 0.020332227193004895), (871, 0.002605764494056422), (872, 0.0027151279537172817), (873, 0.05064812913191185), (874, 0.03548922024062819), (875, 0.012827135012767513), (876, 0.01623582664127015), (877, 0.05120062839994659), (878, 0.013435345188327827), (879, 0.014840329123637929), (880, 0.007044914393886378), (881, 0.0), (882, 0.0), (883, 0.002459531836537566), (884, 0.0026386594931607945), (885, 0.02372906869332012), (886, 0.0023770796905807495), (887, 0.00275750271740672), (888, 0.016290144504907837), (889, 0.003263982140942741), (890, 0.0026361350016010534), (891, 0.0048594906043359035), (892, 0.0), (893, 0.004230207519402797), (894, 0.009520685601523226), (895, 0.01460237092913534), (896, 0.0155282835238262), (897, 0.009374290283122127), (898, 0.004155926036290059), (899, 0.014447475092827195), (900, 0.012826180872846045), (901, 0.0020998882174428596), (902, 0.004732429780589892), (903, 0.0272937967913948), (904, 0.04503803203387579), (905, 0.013517763546042599), (906, 0.013082769368796992), (907, 0.002331464192564902), (908, 0.0072232985081010555), (909, 0.0), (910, 0.006544699287657487), (911, 0.0358575708347082), (912, 0.0), (913, 0.0), (914, 0.0), (915, 0.011247273022572186), (916, 0.01685526670172187), (917, 0.02278255164081886), (918, 0.012095561193692973), (919, 0.004688274887806511), (920, 0.0), (921, 0.008473884306744563), (922, 0.00284543190818928), (923, 0.006884677855551787), (924, 0.008168564627291385), (925, 0.002916183387409237), (926, 0.0), (927, 0.004681796350516285), (928, 0.012197126426804043), (929, 0.015191575203200598), (930, 0.0075882861817929415), (931, 0.011402521374628449), (932, 0.0041240318599223), (933, 0.0025901424197287393), (934, 0.014284810246050515), (935, 0.0320740971372626), (936, 0.01234265025239465), (937, 0.01661899895760169), (938, 0.0), (939, 0.00905267486378268), (940, 0.0063655869901082926), (941, 0.0023610317887945015), (942, 0.025136817035286883), (943, 0.0), (944, 0.002362909437140335), (945, 0.0), (946, 0.0), (947, 0.01918803569573748), (948, 0.008908360175058827), (949, 0.010829412244014524), (950, 0.0), (951, 0.0021407661067155913), (952, 0.029031084004495476), (953, 0.005756440216546846), (954, 0.0), (955, 0.0), (956, 0.0), (957, 0.014312073755375083), (958, 0.006004028909589244), (959, 0.002519295121328106), (960, 0.0), (961, 0.0), (962, 0.008633517179123244), (963, 0.01282335978690511), (964, 0.0), (965, 0.0), (966, 0.008596738901221878), (967, 0.02484089246980712), (968, 0.019350112926022296), (969, 0.0025883776521248925), (970, 0.009447726677397602), (971, 0.0), (972, 0.0), (973, 0.0024986829749220254), (974, 0.004444813338135952), (975, 0.002374254485406639), (976, 0.028498609827027066), (977, 0.0), (978, 0.0), (979, 0.010057925544425323), (980, 0.007388284349042762), (981, 0.006436594763438926), (982, 0.0), (983, 0.0), (984, 0.0024591400478083366), (985, 0.002901203439820041), (986, 0.014213770613722879), (987, 0.002630563204847358), (988, 0.01412798260288335), (989, 0.014187028599892688), (990, 0.0), (991, 0.007674353531614659), (992, 0.004935502243441057), (993, 0.0025536949495416406), (994, 0.009765221265087332), (995, 0.0), (996, 0.00650992907297042), (997, 0.004149127110904068), (998, 0.002875096610449085), (999, 0.0028727435442566034), (1000, 0.012794194783292075), (1001, 0.006813960670605017), (1002, 0.0024164625079969525), (1003, 0.02040558863047458), (1004, 0.0023029854324171464), (1005, 0.012739766401619185), (1006, 0.00951241049788545), (1007, 0.002733710100497628), (1008, 0.0), (1009, 0.012169281258981316), (1010, 0.0), (1011, 0.0), (1012, 0.011073726061790794), (1013, 0.0), (1014, 0.007610412264289004), (1015, 0.022477148208897783), (1016, 0.0), (1017, 0.020619477261506515), (1018, 0.015916387917578455), (1019, 0.011046732439510036), (1020, 0.008734654757702338), (1021, 0.05671999964768967), (1022, 0.0), (1023, 0.04614573925419343), (1024, 0.037086309751285476), (1025, 0.0), (1026, 0.0024881655165551017), (1027, 0.0024232397708229556), (1028, 0.0), (1029, 0.0), (1030, 0.050582789674035046), (1031, 0.0), (1032, 0.002395440149663579), (1033, 0.02131872778807823), (1034, 0.0024286708976377844), (1035, 0.014106746239706187), (1036, 0.0023919151411633723), (1037, 0.007406593398245866), (1038, 0.0), (1039, 0.0), (1040, 0.002023565117761472), (1041, 0.006711122649795384), (1042, 0.0021181357917996525), (1043, 0.03019255761100538), (1044, 0.006925941771792754), (1045, 0.01573955133257391), (1046, 0.028770836246212773), (1047, 0.011899492820202449), (1048, 0.009456152424976076), (1049, 0.0030781701583572586), (1050, 0.008274435851827942), (1051, 0.0), (1052, 0.01949757886898508), (1053, 0.01130468493347921), (1054, 0.011041840595075358), (1055, 0.0), (1056, 0.0), (1057, 0.02343689806084697), (1058, 0.014326445616965337), (1059, 0.026187328256908955), (1060, 0.025524774616417), (1061, 0.010507632412785354), (1062, 0.0), (1063, 0.032999682519444545), (1064, 0.01723362178999547), (1065, 0.006960393355060788), (1066, 0.0), (1067, 0.0), (1068, 0.031078132923886184), (1069, 0.007348794508571239), (1070, 0.08105814311352261), (1071, 0.0076296938801074105), (1072, 0.002511969113336023), (1073, 0.0), (1074, 0.018313355636506795), (1075, 0.009591487522932454), (1076, 0.006899003513270089), (1077, 0.00930179774986171), (1078, 0.008378616017911296), (1079, 0.0023322559654003526), (1080, 0.0022827622277737593), (1081, 0.0), (1082, 0.0045297228916720235), (1083, 0.007564585809659097), (1084, 0.0024845823946548764), (1085, 0.036220050200905934), (1086, 0.0), (1087, 0.009256465476499658), (1088, 0.002168028396331156), (1089, 0.0), (1090, 0.011525432717525062), (1091, 0.0), (1092, 0.009742359298906326), (1093, 0.0), (1094, 0.006428490781993139), (1095, 0.0272442834935963), (1096, 0.008855025093090295), (1097, 0.0), (1098, 0.01988028147728714), (1099, 0.011857342491158735), (1100, 0.002494207439481666), (1101, 0.0), (1102, 0.05016977076463526), (1103, 0.0), (1104, 0.012302637341744903), (1105, 0.0), (1106, 0.0), (1107, 0.01323030195871474), (1108, 0.0), (1109, 0.002812253640075932), (1110, 0.0024929035561424492), (1111, 0.0067125880140789735), (1112, 0.017813605174201986), (1113, 0.0), (1114, 0.014436591435942683), (1115, 0.015070109446430932), (1116, 0.014454249635706785), (1117, 0.0024362761126163145), (1118, 0.05998954734066491), (1119, 0.015186381940099643), (1120, 0.003931649858036582), (1121, 0.003177352805467861), (1122, 0.0025773248766213287), (1123, 0.006798220571687323), (1124, 0.009439593845048234), (1125, 0.0067987645178981225), (1126, 0.0), (1127, 0.004540453876241827), (1128, 0.01336917289326851), (1129, 0.017757748873229732), (1130, 0.0), (1131, 0.0025445384934216705), (1132, 0.02024112189256083), (1133, 0.0), (1134, 0.06151117832128867), (1135, 0.0), (1136, 0.008174041992712653), (1137, 0.02751617873397682), (1138, 0.007232083949894817), (1139, 0.0), (1140, 0.007655221232160154), (1141, 0.022221388090035325), (1142, 0.0), (1143, 0.0), (1144, 0.007520963042904855), (1145, 0.0035070545267648348), (1146, 0.03193270995829649), (1147, 0.0), (1148, 0.05022542698748972), (1149, 0.0), (1150, 0.004975946962821241), (1151, 0.0), (1152, 0.01422901177340137), (1153, 0.00323459487742086), (1154, 0.004110044255880006), (1155, 0.0), (1156, 0.0), (1157, 0.012051794532274002), (1158, 0.005154276117296022), (1159, 0.0), (1160, 0.00912265594299187), (1161, 0.0022853482250700867), (1162, 0.027084968030862168), (1163, 0.0025317112602762436), (1164, 0.0037510237486072236), (1165, 0.0), (1166, 0.0), (1167, 0.004892193773412883), (1168, 0.0030455201632660664), (1169, 0.002968248475121234), (1170, 0.0025389247788597173), (1171, 0.0), (1172, 0.00656930525520132), (1173, 0.03115696736861681), (1174, 0.0073090099747231945), (1175, 0.01805031459570411), (1176, 0.0025888535739499907), (1177, 0.006734601464409512), (1178, 0.0), (1179, 0.007148580085663995), (1180, 0.0), (1181, 0.025353145098316), (1182, 0.009289577849239705), (1183, 0.013202196863777403), (1184, 0.016195572624646895), (1185, 0.012314336497917706), (1186, 0.023229264871711574), (1187, 0.002979770691711471), (1188, 0.007703615534959716), (1189, 0.0), (1190, 0.0), (1191, 0.007177768471697236), (1192, 0.0143731268998252), (1193, 0.0), (1194, 0.011920690598639651), (1195, 0.03160288863475456), (1196, 0.0), (1197, 0.004241553054379576), (1198, 0.0), (1199, 0.0022371843976474516), (1200, 0.0), (1201, 0.0), (1202, 0.019084438333982035), (1203, 0.043288373397248), (1204, 0.002573066675113581), (1205, 0.026572826699719294), (1206, 0.008511491354820998), (1207, 0.004400292069035962), (1208, 0.003233402541827205), (1209, 0.0021619168240861082), (1210, 0.003354331280691185), (1211, 0.004371438026142519), (1212, 0.0), (1213, 0.006215002337363142), (1214, 0.005932567568348967), (1215, 0.011742448125855624), (1216, 0.016218758000979574), (1217, 0.002200944491530199), (1218, 0.0), (1219, 0.0022751501201429243), (1220, 0.012381759539653547), (1221, 0.0), (1222, 0.0), (1223, 0.00717722505421251), (1224, 0.014848645936442455), (1225, 0.007542388898273974), (1226, 0.018073460855467367), (1227, 0.0), (1228, 0.0), (1229, 0.007463809392085244), (1230, 0.011218996224828769), (1231, 0.0067794289895738765), (1232, 0.014332272718424209), (1233, 0.0), (1234, 0.01017704717228794), (1235, 0.0), (1236, 0.03334196963686731), (1237, 0.012912305289275415), (1238, 0.006518627312471958), (1239, 0.013018313167508913), (1240, 0.0), (1241, 0.03526867161881802), (1242, 0.0), (1243, 0.05520158300072489), (1244, 0.0), (1245, 0.01733780597970789), (1246, 0.0), (1247, 0.0024486900215035007), (1248, 0.043161123373055346), (1249, 0.011389854850356616), (1250, 0.006690978303626991), (1251, 0.0022442177113677826), (1252, 0.014092427003677886), (1253, 0.0), (1254, 0.016063876077209334), (1255, 0.013033955545722106), (1256, 0.0), (1257, 0.04460086738980612), (1258, 0.0), (1259, 0.011174909984225899), (1260, 0.007891900175035863), (1261, 0.04456969916073905), (1262, 0.011472350547405401), (1263, 0.0), (1264, 0.011891929461674016), (1265, 0.0), (1266, 0.01140830004039545), (1267, 0.0063495129891409305), (1268, 0.0), (1269, 0.0), (1270, 0.02121018026952485), (1271, 0.0), (1272, 0.034794423140693004), (1273, 0.0024135438471228426), (1274, 0.01759247947637767), (1275, 0.016413131014958164), (1276, 0.008784897824275046), (1277, 0.0018965691925550338), (1278, 0.01468403973349571), (1279, 0.009412890555884736), (1280, 0.004906493585480382), (1281, 0.0042106596419898695), (1282, 0.007563614573916137), (1283, 0.023375973429109315), (1284, 0.002468849236494781), (1285, 0.0), (1286, 0.0025261745657015958), (1287, 0.0), (1288, 0.0), (1289, 0.0), (1290, 0.014777382188583715), (1291, 0.0), (1292, 0.04285331034785787), (1293, 0.012626438182478505), (1294, 0.00260356810870273), (1295, 0.0), (1296, 0.0), (1297, 0.0), (1298, 0.002429036080749888), (1299, 0.0), (1300, 0.009883442651908877), (1301, 0.002215696962822528), (1302, 0.044531189691413835), (1303, 0.011472774174722892), (1304, 0.002536952903640691), (1305, 0.0020963240360935887), (1306, 0.006637343136183915), (1307, 0.006181668255159588), (1308, 0.008353487600809638), (1309, 0.003948311713722663), (1310, 0.01185612654854879), (1311, 0.03394562412372114), (1312, 0.007683696684100865), (1313, 0.0024989918427235874), (1314, 0.026592309470275407), (1315, 0.0), (1316, 0.005910781285140436), (1317, 0.013108214877379084), (1318, 0.0022618699066821774), (1319, 0.0024882460941023266), (1320, 0.0397552488399696), (1321, 0.0), (1322, 0.0), (1323, 0.0), (1324, 0.0027052422455337774), (1325, 0.015417810296419088), (1326, 0.0), (1327, 0.006246469827302094), (1328, 0.0), (1329, 0.0064821061885452945), (1330, 0.006944817169517713), (1331, 0.014069567805799925), (1332, 0.005140102469137354), (1333, 0.0), (1334, 0.009629056307400734), (1335, 0.014374250246040573), (1336, 0.0), (1337, 0.014525128339516991), (1338, 0.009452837320157953), (1339, 0.010215355248166094), (1340, 0.0021534134800951757), (1341, 0.07732193166465193), (1342, 0.012810383884372372), (1343, 0.01389051771315445), (1344, 0.005721039864961347), (1345, 0.006551710426474492), (1346, 0.0), (1347, 0.004456071224498093), (1348, 0.010179442553051095), (1349, 0.00285762811025138), (1350, 0.002470461927847056), (1351, 0.024875575685802023), (1352, 0.0021542143681727733), (1353, 0.0), (1354, 0.0), (1355, 0.0025971791308945563), (1356, 0.006050994252213893), (1357, 0.0023369115668360266), (1358, 0.0418305667382064), (1359, 0.009783202046901831), (1360, 0.012945710875005366), (1361, 0.01559170524283206), (1362, 0.022486116233772672), (1363, 0.028717455504198453), (1364, 0.002633462452635989), (1365, 0.017784588946112626), (1366, 0.0022876624192571873), (1367, 0.03305318613145185), (1368, 0.0), (1369, 0.04026870066806862), (1370, 0.002186813531333692), (1371, 0.007858803506797442), (1372, 0.0023784011714550876), (1373, 0.0), (1374, 0.0065735766582562015), (1375, 0.006794952352512897), (1376, 0.012466645216347681), (1377, 0.01677239649729266), (1378, 0.002533967156317713), (1379, 0.03405568461873221), (1380, 0.004956075726573829), (1381, 0.0052941344423078724), (1382, 0.009397520106118782), (1383, 0.08407490116717593), (1384, 0.01776073215692501), (1385, 0.020819608375770078), (1386, 0.01883315792718334), (1387, 0.008675407386005198), (1388, 0.007105864043348033), (1389, 0.03445847482617645), (1390, 0.0), (1391, 0.005146892045916608), (1392, 0.0022549171667648254), (1393, 0.04178805890790345), (1394, 0.0022470021552231235), (1395, 0.0037135203999899623), (1396, 0.01169412559915647), (1397, 0.02160100381016067), (1398, 0.028222452550706812), (1399, 0.0), (1400, 0.007536440370065782), (1401, 0.013871911631009875), (1402, 0.0026593835268010186), (1403, 0.017089358343226592), (1404, 0.0023973664832842947), (1405, 0.028765339622841533), (1406, 0.01142356735170328), (1407, 0.011882829323888736), (1408, 0.0024699378463079466), (1409, 0.0027132641602936663), (1410, 0.0025632853630778354), (1411, 0.0025016552442112027), (1412, 0.023629897886256662), (1413, 0.014241597042222859), (1414, 0.006378299226169405), (1415, 0.0023007023866198953), (1416, 0.0024236082196454393), (1417, 0.016231265772845838), (1418, 0.010098426231237303), (1419, 0.011702375166221541), (1420, 0.011136701240334801), (1421, 0.007121559474328706), (1422, 0.0024693633273359873), (1423, 0.002273816553501302), (1424, 0.0), (1425, 0.006686168347645337), (1426, 0.004887726304196335), (1427, 0.002078982581591383), (1428, 0.0043727872006395765), (1429, 0.008595043377298776), (1430, 0.02653057804103264), (1431, 0.004707855445255266), (1432, 0.012532163350573918), (1433, 0.006651536462062502), (1434, 0.0023155273672975777), (1435, 0.004716569576995678), (1436, 0.012367187829493916), (1437, 0.0), (1438, 0.009518400966834185), (1439, 0.0026554823490857376), (1440, 0.009759613744201243), (1441, 0.0), (1442, 0.009588530770942587), (1443, 0.01831419707001223), (1444, 0.0), (1445, 0.01603828875201241), (1446, 0.008725319988941804), (1447, 0.0), (1448, 0.006606255011892964), (1449, 0.004844292863040346), (1450, 0.0021850312994399165), (1451, 0.004335646554742105), (1452, 0.004877884232580834), (1453, 0.005281383611515195), (1454, 0.00785217171348381), (1455, 0.011670215937804021), (1456, 0.0023538249935963463), (1457, 0.0), (1458, 0.003904651594659914), (1459, 0.0), (1460, 0.0), (1461, 0.013796549363393393), (1462, 0.006555839838675826), (1463, 0.0024452807156080236), (1464, 0.03242600299745582), (1465, 0.013588900862715182), (1466, 0.0), (1467, 0.0), (1468, 0.0), (1469, 0.004775833727275996), (1470, 0.0), (1471, 0.020290800155578558), (1472, 0.007232693801577943), (1473, 0.0), (1474, 0.0028262766006880995), (1475, 0.009491808199921726), (1476, 0.002569492630955095), (1477, 0.008397884947291882), (1478, 0.013620535837126016), (1479, 0.0027816518653624054), (1480, 0.00428785698015279), (1481, 0.013745882764066384), (1482, 0.028603312957890946), (1483, 0.014114297878227612), (1484, 0.0075625768759196195), (1485, 0.0), (1486, 0.007234166049300601), (1487, 0.0), (1488, 0.0071663501795851585), (1489, 0.008033719451971282), (1490, 0.0), (1491, 0.0), (1492, 0.02170796819819307), (1493, 0.01711277449731133), (1494, 0.009620636932142096), (1495, 0.0), (1496, 0.0), (1497, 0.00289446576555683), (1498, 0.007948536519158821), (1499, 0.030795662279307377), (1500, 0.02729943310930179), (1501, 0.006560512948820128), (1502, 0.004871803904837503), (1503, 0.002299441494239182), (1504, 0.007181461103399105), (1505, 0.02197962922086112), (1506, 0.042282195661912915), (1507, 0.008102011472032189), (1508, 0.0), (1509, 0.014205028339216105), (1510, 0.020492857251630348), (1511, 0.0), (1512, 0.015450085039927697), (1513, 0.01044338375062993), (1514, 0.008426393019628341), (1515, 0.022061747166271108), (1516, 0.0026119169121049377), (1517, 0.0), (1518, 0.002730801568733685), (1519, 0.012685818153036854), (1520, 0.0), (1521, 0.0), (1522, 0.0), (1523, 0.015826030293870766), (1524, 0.0), (1525, 0.0), (1526, 0.006277220093134095), (1527, 0.03945167296049171), (1528, 0.0023031666109183924), (1529, 0.0), (1530, 0.02422073045044451), (1531, 0.0048739592658088166), (1532, 0.0), (1533, 0.0025723610715668766), (1534, 0.0), (1535, 0.0), (1536, 0.007355085561389901), (1537, 0.007651517481164323), (1538, 0.00826452714849783), (1539, 0.008118828372420506), (1540, 0.008263789652468604), (1541, 0.0), (1542, 0.012086591734529275), (1543, 0.0023360652632001756), (1544, 0.024572280605182628), (1545, 0.0), (1546, 0.0039687964989061015), (1547, 0.0029538683671561368), (1548, 0.0), (1549, 0.0), (1550, 0.002500750796606092), (1551, 0.010990327322037603), (1552, 0.0062804575791378355), (1553, 0.008035451377132182), (1554, 0.005079354545010316), (1555, 0.00676177934499397), (1556, 0.0), (1557, 0.0), (1558, 0.0023575374933461103), (1559, 0.003992703732862145), (1560, 0.028142719658602232), (1561, 0.0), (1562, 0.004268105582155079), (1563, 0.0), (1564, 0.0), (1565, 0.0021678323941890097), (1566, 0.004617094549750663), (1567, 0.012359315313796792), (1568, 0.03407175603673968), (1569, 0.0), (1570, 0.0026672319410395466), (1571, 0.007527686704103847), (1572, 0.024743005739575757), (1573, 0.004544910721244759), (1574, 0.0025593435180176335), (1575, 0.00493962475567439), (1576, 0.003787439910540486), (1577, 0.0), (1578, 0.0), (1579, 0.01741169993185602), (1580, 0.0027985796143798237), (1581, 0.0), (1582, 0.00922233288426478), (1583, 0.007340569131653433), (1584, 0.0), (1585, 0.02294775132215635), (1586, 0.0), (1587, 0.004690497449034583), (1588, 0.004666107046023879), (1589, 0.0), (1590, 0.004022226006247371), (1591, 0.013536957187268665), (1592, 0.0), (1593, 0.003073536197767713), (1594, 0.002839568084275876), (1595, 0.013288810853055517), (1596, 0.0), (1597, 0.0024430773578123536), (1598, 0.002503578013704265), (1599, 0.0), (1600, 0.0), (1601, 0.0), (1602, 0.0), (1603, 0.0), (1604, 0.0), (1605, 0.002330988045936804), (1606, 0.0), (1607, 0.0), (1608, 0.006310388739057206), (1609, 0.01637974564657768), (1610, 0.0), (1611, 0.0), (1612, 0.009066688687457697), (1613, 0.0), (1614, 0.004935318091384703), (1615, 0.0), (1616, 0.0022287242389430373), (1617, 0.002475641912148761), (1618, 0.0), (1619, 0.009703084106321473), (1620, 0.008987057234226398), (1621, 0.014022952914941237), (1622, 0.004604372162691385), (1623, 0.004377028667971874), (1624, 0.00206363557205557), (1625, 0.0022805657073798956), (1626, 0.0), (1627, 0.006206439841574785), (1628, 0.0023205936685129582), (1629, 0.02146178758408391), (1630, 0.01109041057168381), (1631, 0.004376975220158413), (1632, 0.004423161818165871), (1633, 0.004408178160738385), (1634, 0.027265975858920755), (1635, 0.004524176574508102), (1636, 0.0), (1637, 0.0027204107824598135), (1638, 0.0), (1639, 0.0), (1640, 0.0), (1641, 0.0023518531695646367), (1642, 0.002347271044462082), (1643, 0.00750602651388331), (1644, 0.006561402643121727), (1645, 0.0024501016352676042), (1646, 0.0), (1647, 0.09392133631822708), (1648, 0.029774570647137483), (1649, 0.0), (1650, 0.008442906417332422), (1651, 0.0), (1652, 0.03914518063298302), (1653, 0.0069720422336954115), (1654, 0.012540041832924622), (1655, 0.011075509113125723), (1656, 0.0029077079992601354), (1657, 0.019727907484860367), (1658, 0.0100804736714881), (1659, 0.004917011296538151), (1660, 0.0026498822019617014), (1661, 0.005200023357999492), (1662, 0.010422019588148998), (1663, 0.0023892673771611765), (1664, 0.006219068012097911), (1665, 0.013510504513403267), (1666, 0.0025006655759200174), (1667, 0.01310952332403104), (1668, 0.0), (1669, 0.0), (1670, 0.0026693561451880065), (1671, 0.020616094198092412), (1672, 0.002321722396026475), (1673, 0.0), (1674, 0.007717885024911842), (1675, 0.040396587516422805), (1676, 0.03676455186967415), (1677, 0.001995276774496586), (1678, 0.020673887474664004), (1679, 0.0), (1680, 0.01291743018214525), (1681, 0.01309025935340851), (1682, 0.014696287016106866), (1683, 0.0027139443671448764), (1684, 0.005753769238278409), (1685, 0.009633240613946496), (1686, 0.0), (1687, 0.015081911122046706), (1688, 0.009282366167312775), (1689, 0.0), (1690, 0.008203297599856187), (1691, 0.002164018010334086), (1692, 0.006499365798951296), (1693, 0.00238125826288348), (1694, 0.010513472896726075), (1695, 0.005316808464005938), (1696, 0.010965269002219375), (1697, 0.0), (1698, 0.0), (1699, 0.003991411833239406), (1700, 0.0), (1701, 0.008833196773552146), (1702, 0.03401178055455821), (1703, 0.002624080641588584), (1704, 0.0), (1705, 0.007576010842390271), (1706, 0.002559280265609513), (1707, 0.02178246757983246), (1708, 0.00977923271618291), (1709, 0.0), (1710, 0.008620174584777585), (1711, 0.003172699215483429), (1712, 0.009732335194850533), (1713, 0.041056464531435785), (1714, 0.012178167385634266), (1715, 0.005883156475360245), (1716, 0.01595197124615093), (1717, 0.0026105094042225075), (1718, 0.006885352976791461), (1719, 0.002288791968775054), (1720, 0.026475090126577592), (1721, 0.025533989711209664), (1722, 0.0025610950655021386), (1723, 0.010497387610157081), (1724, 0.004967265351637268), (1725, 0.0), (1726, 0.0), (1727, 0.009993058828174554), (1728, 0.0), (1729, 0.0), (1730, 0.008530276826931605), (1731, 0.0), (1732, 0.004926698707405422), (1733, 0.00278081968063316), (1734, 0.0), (1735, 0.007294871497214966), (1736, 0.010050719738981532), (1737, 0.007006811882319925), (1738, 0.006715306892310192), (1739, 0.012958977357616433), (1740, 0.014510564426729732), (1741, 0.015474028235632738), (1742, 0.002398036686183952), (1743, 0.007749879009280711), (1744, 0.002419466647815223), (1745, 0.0), (1746, 0.006130600381762394), (1747, 0.007084357233851172), (1748, 0.002969277899912034), (1749, 0.024814387662836442), (1750, 0.030273505619146518), (1751, 0.0), (1752, 0.03333938657742233), (1753, 0.004039081477410935), (1754, 0.010587649198346934), (1755, 0.0), (1756, 0.0), (1757, 0.021517453249443916), (1758, 0.0), (1759, 0.016900019192624616), (1760, 0.006610240515573115), (1761, 0.011427305445703435), (1762, 0.008121235054200175), (1763, 0.024932016324609594), (1764, 0.007892329915581534), (1765, 0.002623080121500158), (1766, 0.0), (1767, 0.0), (1768, 0.002607405170650399), (1769, 0.0), (1770, 0.03278254752073779), (1771, 0.0), (1772, 0.004003174172358917), (1773, 0.010955897824683977), (1774, 0.015876691830685904), (1775, 0.0), (1776, 0.008461918590278467), (1777, 0.0), (1778, 0.0), (1779, 0.01460504186918228), (1780, 0.0016538716999227293), (1781, 0.010055381341056314), (1782, 0.0023196197449962324), (1783, 0.0), (1784, 0.004189175005907085), (1785, 0.0), (1786, 0.0), (1787, 0.012442697756126275), (1788, 0.029045998553708444), (1789, 0.010793270926753161), (1790, 0.007830652807786428), (1791, 0.004910391737817217), (1792, 0.002980454256720252), (1793, 0.008533810434469269), (1794, 0.0), (1795, 0.029575494162562194), (1796, 0.012978653060000052), (1797, 0.006201859242893764), (1798, 0.009774556470432893), (1799, 0.012247251568054), (1800, 0.0), (1801, 0.002129912236167644), (1802, 0.013074188414515001), (1803, 0.0), (1804, 0.0), (1805, 0.0027631607753971065), (1806, 0.007724060987961749), (1807, 0.008930900977394138), (1808, 0.0022744593461195644), (1809, 0.049588147032597375), (1810, 0.0), (1811, 0.007091707990328043), (1812, 0.011945304239266106), (1813, 0.002462243478839766), (1814, 0.002334949119064762), (1815, 0.013530410151107168), (1816, 0.0063775623836501835), (1817, 0.020764535380750283), (1818, 0.006224779631552357), (1819, 0.006660823685789856), (1820, 0.0), (1821, 0.04360775186675728), (1822, 0.002677246887881095), (1823, 0.0), (1824, 0.0), (1825, 0.0), (1826, 0.0023548044666423574), (1827, 0.002293422535226092), (1828, 0.0021883753970884136), (1829, 0.005021551239895667), (1830, 0.0022470486797392343), (1831, 0.0025076495173526085), (1832, 0.011937535410330451), (1833, 0.007794571521227683), (1834, 0.0), (1835, 0.0), (1836, 0.0), (1837, 0.032401259419869995), (1838, 0.019828781259888087), (1839, 0.0), (1840, 0.004197512097260954), (1841, 0.0065699351561527754), (1842, 0.0), (1843, 0.01777743540800436), (1844, 0.0), (1845, 0.027265399804362985), (1846, 0.004494050091536776), (1847, 0.026414408749898702), (1848, 0.0027301751429851424), (1849, 0.006466459434926366), (1850, 0.041463441400268045), (1851, 0.0026403793617911795), (1852, 0.011026946944593252), (1853, 0.015056577491359779), (1854, 0.009176046001831141), (1855, 0.0), (1856, 0.0), (1857, 0.004629260330179838), (1858, 0.010754515078436713), (1859, 0.004864612361744439), (1860, 0.00936372403435563), (1861, 0.022366892640085945), (1862, 0.0028404195325150506), (1863, 0.00593850281541773), (1864, 0.013194620422679212), (1865, 0.023290376870243032), (1866, 0.007806781469902531), (1867, 0.006487323100488623), (1868, 0.030647250708224397), (1869, 0.0022961797126961293), (1870, 0.011740752102274906), (1871, 0.04118847530446093), (1872, 0.01809054728158338), (1873, 0.011193286227882262), (1874, 0.010386980241245819), (1875, 0.008361119199879558), (1876, 0.013797207843950315), (1877, 0.002420130506591283), (1878, 0.048051506952639246), (1879, 0.0), (1880, 0.014966021703830552), (1881, 0.004825322882698362), (1882, 0.0025798343806490206), (1883, 0.0), (1884, 0.0024389814170476254), (1885, 0.0309975246079396), (1886, 0.06245502428196606), (1887, 0.0028738050689049942), (1888, 0.0), (1889, 0.0), (1890, 0.002814173123132308), (1891, 0.0025141756377858905), (1892, 0.006492138216479109), (1893, 0.002674980291477653), (1894, 0.0), (1895, 0.014460083088388845), (1896, 0.002690520691747851), (1897, 0.01487409258896271), (1898, 0.0), (1899, 0.0), (1900, 0.008883222611181612), (1901, 0.004723794746864936), (1902, 0.007514143495123054), (1903, 0.006144354773861418), (1904, 0.004878866675051578), (1905, 0.0027647434485528447), (1906, 0.015401803610698445), (1907, 0.0027299453987985325), (1908, 0.0066037384583795015), (1909, 0.0028786576539522103), (1910, 0.003897392208484155), (1911, 0.006821328213627279), (1912, 0.0), (1913, 0.0064824046591955295), (1914, 0.004335690964685718), (1915, 0.0), (1916, 0.0026726151622681773), (1917, 0.0), (1918, 0.007551945563332286), (1919, 0.014719806137395638), (1920, 0.008418412831952757), (1921, 0.00226658677711873), (1922, 0.009702305857966465), (1923, 0.010674188244428695), (1924, 0.008167720997016735), (1925, 0.004026636628533497), (1926, 0.0), (1927, 0.019666226186328104), (1928, 0.0), (1929, 0.0024176211432779104), (1930, 0.0046636733428292625), (1931, 0.007304627415428238), (1932, 0.0), (1933, 0.004496856753023992), (1934, 0.012539956907845921), (1935, 0.022777338759990606), (1936, 0.009303072561622772), (1937, 0.01842838754823932), (1938, 0.0), (1939, 0.006122496770723247), (1940, 0.005391940370749308), (1941, 0.005521670047666052), (1942, 0.02115515210916598), (1943, 0.002207459063465492), (1944, 0.0), (1945, 0.0137474566656582), (1946, 0.0026060093301533485), (1947, 0.002944168345871454), (1948, 0.009000162207463878), (1949, 0.012117068410179694), (1950, 0.007437122534097678), (1951, 0.009660200117561584), (1952, 0.004967734222026829), (1953, 0.004482532871190866), (1954, 0.0022463314615577493), (1955, 0.0), (1956, 0.0), (1957, 0.011137942106856136), (1958, 0.011930177810282319), (1959, 0.0027432664623438367), (1960, 0.007898781688927641), (1961, 0.0), (1962, 0.005139410447659317), (1963, 0.0), (1964, 0.006546796724764938), (1965, 0.0), (1966, 0.0), (1967, 0.013818817488233139), (1968, 0.008395950939914415), (1969, 0.0024474902764119815), (1970, 0.05299390678023471), (1971, 0.008146467998911179), (1972, 0.0), (1973, 0.02915657413264359), (1974, 0.0), (1975, 0.004856396715198114), (1976, 0.029555193895324648), (1977, 0.07509994703579169), (1978, 0.0), (1979, 0.0), (1980, 0.00227477464899649), (1981, 0.005907260129096912), (1982, 0.07246569778553744), (1983, 0.014814035816852505), (1984, 0.0), (1985, 0.02101068379839886), (1986, 0.013493135880573888), (1987, 0.006494419384748071), (1988, 0.012449725425893047), (1989, 0.011425033991382281), (1990, 0.02841823443604606), (1991, 0.035374681386582986), (1992, 0.010919745889197363), (1993, 0.004399207804214495), (1994, 0.08286895346053205), (1995, 0.0027271106496794184), (1996, 0.02223160192984543), (1997, 0.023141379590983783), (1998, 0.004669056138259162), (1999, 0.024674542916240657), (2000, 0.012490298103748571), (2001, 0.0), (2002, 0.0), (2003, 0.0), (2004, 0.0023836845211184176), (2005, 0.011813232567949578), (2006, 0.0), (2007, 0.0), (2008, 0.013341066428520627), (2009, 0.0), (2010, 0.002002916275374896), (2011, 0.025123628978433857), (2012, 0.042935532557081955), (2013, 0.02738980043834609), (2014, 0.030095920732595108), (2015, 0.004817274786074442), (2016, 0.009977672051937518), (2017, 0.0), (2018, 0.03643311789824351), (2019, 0.0), (2020, 0.024232446825006915), (2021, 0.0), (2022, 0.005211318806276052), (2023, 0.03015150758190247), (2024, 0.01362143661567416), (2025, 0.0), (2026, 0.05264157910788357), (2027, 0.0151191157039422), (2028, 0.0), (2029, 0.009383399674635615), (2030, 0.0), (2031, 0.006451642626205173), (2032, 0.0), (2033, 0.0), (2034, 0.002181624834955905), (2035, 0.017841694875906363), (2036, 0.0), (2037, 0.029818318344559037), (2038, 0.0), (2039, 0.002132989569375843), (2040, 0.022971083176738613), (2041, 0.0), (2042, 0.0), (2043, 0.0), (2044, 0.004900368156440432), (2045, 0.013941721469670178), (2046, 0.0), (2047, 0.002240283103913057), (2048, 0.025630662986200578), (2049, 0.010037773592981785), (2050, 0.0), (2051, 0.010344199308264645), (2052, 0.01225214405332025), (2053, 0.01468579094084932), (2054, 0.0), (2055, 0.020613855739721347), (2056, 0.006329973382063176), (2057, 0.011329229612680597), (2058, 0.005927826803031612), (2059, 0.0), (2060, 0.0025102838446113187), (2061, 0.007241444441148378), (2062, 0.010827602309256912), (2063, 0.0), (2064, 0.004799542883183538), (2065, 0.008634933847474484), (2066, 0.013148930864670519), (2067, 0.0025498858322904306), (2068, 0.0024099656054347002), (2069, 0.007024039587118212), (2070, 0.017784222323076814), (2071, 0.0), (2072, 0.0026280155284696), (2073, 0.002584456534424621), (2074, 0.00987182120936709), (2075, 0.009368083693250751), (2076, 0.008106110318529727), (2077, 0.008628455950862961), (2078, 0.0036690612024628845), (2079, 0.0), (2080, 0.009286183430238319), (2081, 0.0), (2082, 0.03185479182538151), (2083, 0.0026540822374636007), (2084, 0.00497883099639507), (2085, 0.0), (2086, 0.0), (2087, 0.00890534030263058), (2088, 0.007489667426377446), (2089, 0.00840106321112749), (2090, 0.0), (2091, 0.00724908335407164), (2092, 0.0), (2093, 0.017353497854371687), (2094, 0.02510748187337649), (2095, 0.00634399459508417), (2096, 0.022160704644622064), (2097, 0.01045894025071592), (2098, 0.005618802180484993), (2099, 0.0023704362102565024), (2100, 0.031466640098441356), (2101, 0.007188361400101866), (2102, 0.02846476996299127), (2103, 0.008865792807943298), (2104, 0.007635057893113117), (2105, 0.002700585410816367), (2106, 0.0), (2107, 0.0), (2108, 0.0028149681631918447), (2109, 0.034351193399480395), (2110, 0.017271256808444865), (2111, 0.0024840916321745288), (2112, 0.06218435141221765), (2113, 0.005139644107235918), (2114, 0.029511754608396723), (2115, 0.0), (2116, 0.009826879593775987), (2117, 0.002432738926313127), (2118, 0.0), (2119, 0.016934204248724848), (2120, 0.0), (2121, 0.013058990839796135), (2122, 0.03310797958980469), (2123, 0.03394554340436231), (2124, 0.0), (2125, 0.0), (2126, 0.009911946717288973), (2127, 0.002127650402087671), (2128, 0.0), (2129, 0.0023498773850399437), (2130, 0.004663428752584404), (2131, 0.002435991657350076), (2132, 0.0021184759679218857), (2133, 0.04895498218883095), (2134, 0.0028368228829513896), (2135, 0.0), (2136, 0.004999931651805338), (2137, 0.0035945925620135804), (2138, 0.0), (2139, 0.004329829930682734), (2140, 0.0), (2141, 0.00242412156867798), (2142, 0.002957911816921575), (2143, 0.008705052698799702), (2144, 0.009146366003507966), (2145, 0.011667846006835805), (2146, 0.0023320506009180775), (2147, 0.03211645644174453), (2148, 0.0026287367207624723), (2149, 0.017415457787932277), (2150, 0.0), (2151, 0.04489615902161054), (2152, 0.0), (2153, 0.0), (2154, 0.026634248456284985), (2155, 0.040051671403206965), (2156, 0.005848760720036045), (2157, 0.02224516374878037), (2158, 0.00824858981293774), (2159, 0.002796642519650155), (2160, 0.006181093167996022), (2161, 0.016492732764830178), (2162, 0.010511519475204902), (2163, 0.0022961115727766885), (2164, 0.0), (2165, 0.0), (2166, 0.002388495785792848), (2167, 0.01780073194851991), (2168, 0.0), (2169, 0.0025525752827928266), (2170, 0.0), (2171, 0.0), (2172, 0.0), (2173, 0.0251380259248296), (2174, 0.020610038972830633), (2175, 0.006065790209232859), (2176, 0.002799738652446759), (2177, 0.013196531145282497), (2178, 0.0113669134146629), (2179, 0.0), (2180, 0.0), (2181, 0.005236538353974075), (2182, 0.0), (2183, 0.0), (2184, 0.0066460697561804795), (2185, 0.005884559221760236), (2186, 0.0), (2187, 0.03763919382653321), (2188, 0.00872547504917266), (2189, 0.0035601273816176465), (2190, 0.002808636708020798), (2191, 0.050557727650637894), (2192, 0.002555580663001779), (2193, 0.009187482174840207), (2194, 0.0), (2195, 0.0025294940131200027), (2196, 0.015042024005156444), (2197, 0.009457416933090535), (2198, 0.028466562898500053), (2199, 0.003301396132983232), (2200, 0.0), (2201, 0.0023581837709317046), (2202, 0.006188384803965121), (2203, 0.006010409356250322), (2204, 0.0), (2205, 0.0061476156490337395), (2206, 0.011172010115684573), (2207, 0.016959013586731735), (2208, 0.004889342551866754), (2209, 0.010136547687141511), (2210, 0.021656005592106047), (2211, 0.007629219619822573), (2212, 0.036114079291876294), (2213, 0.0022616680757847943), (2214, 0.04836649295986437), (2215, 0.0), (2216, 0.013940524941684532), (2217, 0.0), (2218, 0.0), (2219, 0.0), (2220, 0.0), (2221, 0.028430482696010374), (2222, 0.0), (2223, 0.002883657739557414), (2224, 0.013497855033642384), (2225, 0.0), (2226, 0.0024799385815856712), (2227, 0.0), (2228, 0.009156965667265397), (2229, 0.015544826585311831), (2230, 0.0026046209600846023), (2231, 0.005222770253703091), (2232, 0.0045071342704136605), (2233, 0.0), (2234, 0.0), (2235, 0.012010628945253024), (2236, 0.008261179185132384), (2237, 0.01876993031567671), (2238, 0.0), (2239, 0.006407566328685134), (2240, 0.0022256256462686403), (2241, 0.0), (2242, 0.0024572358914804883), (2243, 0.0), (2244, 0.00722433085097401), (2245, 0.0044559238644446015), (2246, 0.004604591015093572), (2247, 0.0), (2248, 0.04144905622988321), (2249, 0.0), (2250, 0.009588941854042049), (2251, 0.0036584317781663896), (2252, 0.012593659017289198), (2253, 0.0), (2254, 0.015264388099765314), (2255, 0.009224149251331642), (2256, 0.0), (2257, 0.003265288941763766), (2258, 0.016643517179834394), (2259, 0.0), (2260, 0.002713062173204411), (2261, 0.0), (2262, 0.0), (2263, 0.0), (2264, 0.00853858282174428), (2265, 0.008265353461556869), (2266, 0.0031222595727628233), (2267, 0.0), (2268, 0.002449391524423003), (2269, 0.0029435278244624215), (2270, 0.00219130592332667), (2271, 0.0), (2272, 0.0), (2273, 0.005445167150185859), (2274, 0.0), (2275, 0.015316455005783686), (2276, 0.0260185306389693), (2277, 0.009229634965057291), (2278, 0.004680281026963687), (2279, 0.00947604700592093), (2280, 0.011339937790801367), (2281, 0.0), (2282, 0.0), (2283, 0.004916374937626596), (2284, 0.014301377390974099), (2285, 0.008192880614420481), (2286, 0.0032411344327654677), (2287, 0.002115909997010881), (2288, 0.0028031997356607573), (2289, 0.0025186187714120985), (2290, 0.01566356037352764), (2291, 0.005627749684426434), (2292, 0.0025830825071317524), (2293, 0.0027644911596349914), (2294, 0.04801663260090347), (2295, 0.03982190635490875), (2296, 0.0), (2297, 0.0), (2298, 0.01514742367875594), (2299, 0.004055627755214389), (2300, 0.0), (2301, 0.02062958394471402), (2302, 0.0028806560860410685), (2303, 0.008587247057459328), (2304, 0.007910628939044607), (2305, 0.0), (2306, 0.011519597561857308), (2307, 0.0), (2308, 0.03786870914432212), (2309, 0.008872605440498883), (2310, 0.0033909407420161346), (2311, 0.0), (2312, 0.0), (2313, 0.0025749114546800315), (2314, 0.005075043982713094), (2315, 0.0), (2316, 0.03605001327712352), (2317, 0.0023465749336340877), (2318, 0.057764275798435405), (2319, 0.0026346960439084625), (2320, 0.0029483683178666044), (2321, 0.040942442097976595), (2322, 0.0), (2323, 0.0022883090393237154), (2324, 0.0065440677869310244), (2325, 0.0), (2326, 0.0036886436863557306), (2327, 0.0), (2328, 0.005662324030417309), (2329, 0.0), (2330, 0.004877726866423949), (2331, 0.0), (2332, 0.0), (2333, 0.0), (2334, 0.014635391838504052), (2335, 0.006626868445508635), (2336, 0.011622841866254629), (2337, 0.0), (2338, 0.0022913946207671343), (2339, 0.0074593256238699975), (2340, 0.0025419778120071507), (2341, 0.0), (2342, 0.0), (2343, 0.02760157045044117), (2344, 0.007309694307379912), (2345, 0.0), (2346, 0.01092789141982469), (2347, 0.01639685823001414), (2348, 0.006733049818997142), (2349, 0.003511409679954017), (2350, 0.0033299247384292762), (2351, 0.0), (2352, 0.0), (2353, 0.016410806578490422), (2354, 0.0025386139817125445), (2355, 0.005960230743556647), (2356, 0.002835167909469329), (2357, 0.0), (2358, 0.05826769637272555), (2359, 0.002115185385052691), (2360, 0.0), (2361, 0.0026895835422427327), (2362, 0.019305653311181028), (2363, 0.008742993647019711), (2364, 0.0), (2365, 0.03251802786423902), (2366, 0.013612750486970526), (2367, 0.0024277017381169885), (2368, 0.018292825697735136), (2369, 0.0), (2370, 0.002642265734795532), (2371, 0.03544860769227722), (2372, 0.0), (2373, 0.0), (2374, 0.047351480752962534), (2375, 0.036029161296792664), (2376, 0.015381706835274796), (2377, 0.0), (2378, 0.002984702466710939), (2379, 0.0036601865946633357), (2380, 0.0), (2381, 0.0), (2382, 0.0021725123862182862), (2383, 0.012996311044988591), (2384, 0.0), (2385, 0.002670968055019653), (2386, 0.00259294748990694), (2387, 0.0025306061861458517), (2388, 0.006227393088748629), (2389, 0.0), (2390, 0.00278029308266928), (2391, 0.0027746971760363483), (2392, 0.0033114422157635385), (2393, 0.0027065538121768627), (2394, 0.02789649584789695), (2395, 0.0), (2396, 0.0025592317330554275), (2397, 0.0025791590991417574), (2398, 0.0), (2399, 0.0023410933373043154), (2400, 0.0028685555016257766), (2401, 0.002464829336269373), (2402, 0.0022967772982884667), (2403, 0.010493796539942174), (2404, 0.0034495650395905005), (2405, 0.0026353821640332188), (2406, 0.016708556127859726), (2407, 0.003505785923314623), (2408, 0.02472916343988951), (2409, 0.0), (2410, 0.0027822668653526748), (2411, 0.0028718128480025207), (2412, 0.012351300951143736), (2413, 0.029928191550148142), (2414, 0.0), (2415, 0.0030774782113262584), (2416, 0.0024995988683299913), (2417, 0.048975289561833585), (2418, 0.009651250070554153), (2419, 0.002664517725272706), (2420, 0.0), (2421, 0.011536178115762116), (2422, 0.0024618756983894995), (2423, 0.003196216137743943), (2424, 0.006412851568886809), (2425, 0.003286983090237742), (2426, 0.005920751565415964), (2427, 0.008304726949703233), (2428, 0.007890164359013144), (2429, 0.010834879177906962), (2430, 0.002573152120809181), (2431, 0.0), (2432, 0.004445080035122849), (2433, 0.0), (2434, 0.0030319578792125535), (2435, 0.0), (2436, 0.0101763666679201), (2437, 0.0028786888060857926), (2438, 0.003141434949500873), (2439, 0.005392550153331375), (2440, 0.020740361118753315), (2441, 0.002053665510773156), (2442, 0.004290553298955562), (2443, 0.029803434615890047), (2444, 0.007710432417777235), (2445, 0.0), (2446, 0.0023555939250982988), (2447, 0.0121981990548146), (2448, 0.003312180628444434), (2449, 0.021985066932388473), (2450, 0.0), (2451, 0.0), (2452, 0.0), (2453, 0.002329795727819206), (2454, 0.0030625130786813577), (2455, 0.0), (2456, 0.0), (2457, 0.0022813475876927573), (2458, 0.0), (2459, 0.008701978449926425), (2460, 0.013376869670064453), (2461, 0.002458866289132909), (2462, 0.0), (2463, 0.00894983822573773), (2464, 0.010540963361888974), (2465, 0.0), (2466, 0.0026046209947012903), (2467, 0.02552401265792079), (2468, 0.013656866052808383), (2469, 0.019146859249126912), (2470, 0.0), (2471, 0.0), (2472, 0.0), (2473, 0.008671326295738156), (2474, 0.012025234810505206), (2475, 0.0027274386737216644), (2476, 0.03244188996343836), (2477, 0.007724564644052247), (2478, 0.003049444704080606), (2479, 0.0), (2480, 0.01141380060264676), (2481, 0.02847926123774087), (2482, 0.0023377306593093767), (2483, 0.0), (2484, 0.02391517705724991), (2485, 0.0), (2486, 0.013345114807622599), (2487, 0.028167247887590854), (2488, 0.0030994924411226936), (2489, 0.009794792049552446), (2490, 0.003655433841287204), (2491, 0.0), (2492, 0.0025520544443002457), (2493, 0.0), (2494, 0.009816232741765765), (2495, 0.0025359570773834284), (2496, 0.0066855156816564955), (2497, 0.0), (2498, 0.0), (2499, 0.0), (2500, 0.0), (2501, 0.020059505094761957), (2502, 0.002237607618575952), (2503, 0.0065135371376780615), (2504, 0.0), (2505, 0.010331751373103264), (2506, 0.004628370144810393), (2507, 0.002755050857258632), (2508, 0.0), (2509, 0.0020841748846264375), (2510, 0.007529972715630197), (2511, 0.0), (2512, 0.009541774671390677), (2513, 0.018276897871510427), (2514, 0.0), (2515, 0.0), (2516, 0.0), (2517, 0.031512424391326496), (2518, 0.0), (2519, 0.007297757834375759), (2520, 0.0021985696707984234), (2521, 0.0), (2522, 0.015160218557647749), (2523, 0.0), (2524, 0.020512095836687585), (2525, 0.0023881792409710723), (2526, 0.002104531242435688), (2527, 0.0021812483909259893), (2528, 0.0023552329351234197), (2529, 0.0036815468729244245), (2530, 0.04481510146028207), (2531, 0.0026431568888262663), (2532, 0.0), (2533, 0.0025508245122476576), (2534, 0.001131257889178121), (2535, 0.0028109713012137647), (2536, 0.0), (2537, 0.0034791458040229705), (2538, 0.06801686844282605), (2539, 0.0), (2540, 0.037262447116274064), (2541, 0.003914935281133384), (2542, 0.0), (2543, 0.0), (2544, 0.0038751601407036682), (2545, 0.009526784859773532), (2546, 0.010238838114612257), (2547, 0.0), (2548, 0.0), (2549, 0.0), (2550, 0.04836540834452215), (2551, 0.0), (2552, 0.002370992199013418), (2553, 0.01743749009788074), (2554, 0.002558519538702846), (2555, 0.011014281773315506), (2556, 0.0024075603806372275), (2557, 0.0031447500689542568), (2558, 0.08267401633287075), (2559, 0.0033339816446641937), (2560, 0.024170835897050866), (2561, 0.0026457128645613385), (2562, 0.0), (2563, 0.007530270288055348), (2564, 0.0), (2565, 0.00965865847843089), (2566, 0.0), (2567, 0.005456826740041303), (2568, 0.011135731584107677), (2569, 0.0025060501697395116), (2570, 0.002984491528806008), (2571, 0.0024503212988856386), (2572, 0.008624926760274992), (2573, 0.0037816412403020687), (2574, 0.0), (2575, 0.0), (2576, 0.005218738765512786), (2577, 0.0), (2578, 0.0), (2579, 0.048167961252127585), (2580, 0.0063843835305345915), (2581, 0.008825431676152223), (2582, 0.020104138588029275), (2583, 0.0), (2584, 0.0), (2585, 0.002823318914999516), (2586, 0.0), (2587, 0.00808003809866371), (2588, 0.0), (2589, 0.0), (2590, 0.0), (2591, 0.002275293245328585), (2592, 0.0028077159504372807), (2593, 0.002339883436831163), (2594, 0.0), (2595, 0.0027450765906157837), (2596, 0.0), (2597, 0.0), (2598, 0.021286136322991416), (2599, 0.004986212320267052), (2600, 0.008926105435859566), (2601, 0.009495593230104763), (2602, 0.01278415308684145), (2603, 0.007647101042214018), (2604, 0.0), (2605, 0.0), (2606, 0.007198949096365795), (2607, 0.018968203006652203), (2608, 0.0), (2609, 0.0027051460174360585), (2610, 0.0026796022213479973), (2611, 0.0021756857314109636), (2612, 0.0024492938301705564), (2613, 0.002987833615753465), (2614, 0.029830404117247723), (2615, 0.0), (2616, 0.0), (2617, 0.012541240022816237), (2618, 0.019006886977873012), (2619, 0.0030541950397158135), (2620, 0.0), (2621, 0.03183646636949805), (2622, 0.03748821698202329), (2623, 0.0028711452225422974), (2624, 0.0027750372237105455), (2625, 0.01104219074147417), (2626, 0.005063083030087467), (2627, 0.0), (2628, 0.0033200750239033732), (2629, 0.0028789827889471042), (2630, 0.04898534827274639), (2631, 0.0), (2632, 0.013855750214519468), (2633, 0.010017576918046866), (2634, 0.0023697651035010894), (2635, 0.008290017471095085), (2636, 0.0019040413827305733), (2637, 0.0), (2638, 0.023625589296039667), (2639, 0.015060665745970907), (2640, 0.00952611762719149), (2641, 0.0), (2642, 0.0024448228261900688), (2643, 0.003280052907901832), (2644, 0.014604632621238843), (2645, 0.01830642082683205), (2646, 0.021358135818460758), (2647, 0.022787415270689934), (2648, 0.0), (2649, 0.0235700589676888), (2650, 0.01857903871456149), (2651, 0.002399527090955675), (2652, 0.002563989720311715), (2653, 0.046972780396162435), (2654, 0.017382359957643635), (2655, 0.009474781634864609), (2656, 0.0), (2657, 0.0), (2658, 0.0), (2659, 0.0), (2660, 0.004275592753028906), (2661, 0.0027225967815229855), (2662, 0.0), (2663, 0.0), (2664, 0.002703826942826442), (2665, 0.005408819363901473), (2666, 0.0), (2667, 0.0), (2668, 0.02139353486446478), (2669, 0.0), (2670, 0.0), (2671, 0.0), (2672, 0.0), (2673, 0.003373495441219171), (2674, 0.002324092929401197), (2675, 0.0), (2676, 0.0), (2677, 0.0), (2678, 0.004130445306673907), (2679, 0.002399247118524459), (2680, 0.010714347050969809), (2681, 0.0), (2682, 0.00430424398851454), (2683, 0.0051675037568785385), (2684, 0.0), (2685, 0.0), (2686, 0.0), (2687, 0.02649157921540691), (2688, 0.011270495067961695), (2689, 0.024527497165292594), (2690, 0.0), (2691, 0.006834099053790853), (2692, 1.0000000000000002), (2693, 0.0), (2694, 0.04368554902472678), (2695, 0.01423416163407648), (2696, 0.0029482119642483444), (2697, 0.01164326580438093), (2698, 0.008871041588029817), (2699, 0.02329842729851504), (2700, 0.005182671029789315), (2701, 0.0), (2702, 0.0028986752398810866), (2703, 0.0), (2704, 0.0), (2705, 0.0027461280207631174), (2706, 0.029422744288845587), (2707, 0.0029766094818745683), (2708, 0.006695604248962895), (2709, 0.0), (2710, 0.029886509110945304), (2711, 0.004388736063405934), (2712, 0.016746711251381167), (2713, 0.023432161916103617), (2714, 0.007566646462252822), (2715, 0.0), (2716, 0.03603309472599682), (2717, 0.0), (2718, 0.023196324557976503), (2719, 0.0), (2720, 0.0029723777019071674), (2721, 0.002202722880793724), (2722, 0.0035602458236608965), (2723, 0.02837260039695167), (2724, 0.006460043328349358), (2725, 0.002712359055125161), (2726, 0.006753743235935697), (2727, 0.014058481372388208), (2728, 0.0023085003156347404), (2729, 0.0), (2730, 0.0), (2731, 0.003404339062511265), (2732, 0.0066982567074251554), (2733, 0.005124706672572313), (2734, 0.0), (2735, 0.002341654335424115), (2736, 0.01900887034546454), (2737, 0.0), (2738, 0.002992961118255661), (2739, 0.010547486722511865), (2740, 0.01025165340770671), (2741, 0.0022835488818161043), (2742, 0.0169510462112069), (2743, 0.002174428378375937), (2744, 0.009436372522052039), (2745, 0.04420821149757878), (2746, 0.0025784806017702605), (2747, 0.0021974383460460125), (2748, 0.0027578844179992276), (2749, 0.0), (2750, 0.0), (2751, 0.03186976241331189), (2752, 0.009192679728709074), (2753, 0.0022338389368490885), (2754, 0.0), (2755, 0.0026816555758913995), (2756, 0.0), (2757, 0.0038818149563784156), (2758, 0.002153957079075249), (2759, 0.010896125543937797), (2760, 0.018708875717397135), (2761, 0.025056785877878327), (2762, 0.025978139799913626), (2763, 0.0), (2764, 0.003613273940570898), (2765, 0.0024104128282047286), (2766, 0.0020095890913874857), (2767, 0.019020439331965698), (2768, 0.02022019513311771), (2769, 0.01074689549252221), (2770, 0.0), (2771, 0.012067572961847038), (2772, 0.003004298617678023), (2773, 0.0), (2774, 0.005248845110588975), (2775, 0.003443022569045042), (2776, 0.0027315257028121924), (2777, 0.02151782398151878), (2778, 0.00864507950538454), (2779, 0.0024210805376161204), (2780, 0.01210224105429486), (2781, 0.0), (2782, 0.02944658831678445), (2783, 0.002552340094267794), (2784, 0.01453920272142293), (2785, 0.0), (2786, 0.002715966686361918), (2787, 0.004386794249015826), (2788, 0.011899567306988528), (2789, 0.009294658062080453), (2790, 0.004850603519905103), (2791, 0.027707263725674447), (2792, 0.0026869471767721692), (2793, 0.0), (2794, 0.0), (2795, 0.017963854794401393), (2796, 0.002902421975777824), (2797, 0.003104258374734227), (2798, 0.00924585532579227), (2799, 0.0), (2800, 0.0023960563274254454), (2801, 0.00391554935091619), (2802, 0.027519755326030487), (2803, 0.012793068741483529), (2804, 0.0), (2805, 0.01337622010500621), (2806, 0.0), (2807, 0.030117994968785384), (2808, 0.020148475915238922), (2809, 0.005339089482851617), (2810, 0.0), (2811, 0.0), (2812, 0.00858075314838778), (2813, 0.0), (2814, 0.0), (2815, 0.014499548102756396), (2816, 0.006796760437225053), (2817, 0.0), (2818, 0.0), (2819, 0.004887152493105063), (2820, 0.009779034642035583), (2821, 0.0026922695724973154), (2822, 0.02154563531990172), (2823, 0.01753869196282759), (2824, 0.0), (2825, 0.007194372492452519), (2826, 0.002549723716021327), (2827, 0.0), (2828, 0.0), (2829, 0.0), (2830, 0.002822430262311227), (2831, 0.00911547050081377), (2832, 0.0033282220784204342), (2833, 0.006306307397831771), (2834, 0.00314646446990567), (2835, 0.0), (2836, 0.0), (2837, 0.0), (2838, 0.0032378820459364383), (2839, 0.0), (2840, 0.007966676958942459), (2841, 0.019676348061339218), (2842, 0.0), (2843, 0.007294454990914622), (2844, 0.007519830937668814), (2845, 0.002376491836424702), (2846, 0.040251701278292695), (2847, 0.004554701802835585), (2848, 0.0030957310537843), (2849, 0.010160919483403277), (2850, 0.0), (2851, 0.0), (2852, 0.0), (2853, 0.0025234742839204257), (2854, 0.007939802084996258), (2855, 0.0), (2856, 0.0), (2857, 0.0031305287676233924), (2858, 0.003594793230747527), (2859, 0.038910452486316145), (2860, 0.0), (2861, 0.0033614085385007056), (2862, 0.00236358722606658), (2863, 0.002614997779838141), (2864, 0.0), (2865, 0.0), (2866, 0.0), (2867, 0.01918697767849236), (2868, 0.03470945898809307), (2869, 0.040554179176207086), (2870, 0.003437994548276846), (2871, 0.010392375754106323), (2872, 0.002919385177617543), (2873, 0.007460728637960147), (2874, 0.01265572234260289), (2875, 0.0), (2876, 0.0277538535105631), (2877, 0.0), (2878, 0.0026734722698293838), (2879, 0.008707067714400177), (2880, 0.0), (2881, 0.008097352464452926), (2882, 0.002753746997643273), (2883, 0.003432062958059232), (2884, 0.0029276416214828144), (2885, 0.01657485986980575), (2886, 0.009525537613077782), (2887, 0.03042186104241444), (2888, 0.0027472806692475423), (2889, 0.003491315543824116), (2890, 0.0027985606578063223), (2891, 0.0), (2892, 0.002407335455346581), (2893, 0.043187343639666156), (2894, 0.0026024828924779515), (2895, 0.003035734397694937), (2896, 0.0), (2897, 0.0067578748204000574), (2898, 0.0), (2899, 0.006720886243817159), (2900, 0.002603699703779661), (2901, 0.003256227513237159), (2902, 0.0018652926953995987), (2903, 0.10063787314386034), (2904, 0.002637905178614227), (2905, 0.0), (2906, 0.0), (2907, 0.0023521461999904784), (2908, 0.03473005957705643), (2909, 0.002473493900684701), (2910, 0.013917633478282367), (2911, 0.002639418521024462), (2912, 0.02658806044432691), (2913, 0.011605971956876526), (2914, 0.0029556840497431585), (2915, 0.009901438303503266), (2916, 0.0028408048332358568), (2917, 0.016466942404501018), (2918, 0.011259905548717232), (2919, 0.014694787924982376), (2920, 0.027341010288289676), (2921, 0.0), (2922, 0.0), (2923, 0.003417166947221909), (2924, 0.002941313927795408), (2925, 0.01142089851991689), (2926, 0.0027102986501509217), (2927, 0.0), (2928, 0.0), (2929, 0.00997316401811581), (2930, 0.0), (2931, 0.014891762816566897), (2932, 0.018807248735502158), (2933, 0.007732280496939367), (2934, 0.009681263395234521), (2935, 0.005833793426287631), (2936, 0.010306720091939782), (2937, 0.0036418513127225525), (2938, 0.0), (2939, 0.014557655967115493), (2940, 0.0027106087757908437), (2941, 0.0), (2942, 0.00787876782175488), (2943, 0.0025270661897384182), (2944, 0.05045351690735307), (2945, 0.0024825994654153038), (2946, 0.0024959286076673085), (2947, 0.004728489945670273), (2948, 0.009213541283917926), (2949, 0.007639155147339895), (2950, 0.023732959516752646), (2951, 0.0), (2952, 0.0), (2953, 0.002684490889512162), (2954, 0.0023494497365079852), (2955, 0.0), (2956, 0.0), (2957, 0.0031026792449565365), (2958, 0.0), (2959, 0.004856626562989746), (2960, 0.004705331125110952), (2961, 0.014001569133349953), (2962, 0.006732504339345314), (2963, 0.012480046815579984), (2964, 0.00972958693050268), (2965, 0.0024090265456669334), (2966, 0.003083110206798772), (2967, 0.0), (2968, 0.0), (2969, 0.012999702326476783), (2970, 0.002760203114146259), (2971, 0.04458612684459293), (2972, 0.025930707245690767), (2973, 0.0), (2974, 0.002847448826702877), (2975, 0.007998778621240987), (2976, 0.002392051864906016), (2977, 0.009322674076250256), (2978, 0.012709399900374011), (2979, 0.0), (2980, 0.009136655257671046), (2981, 0.03442583219886153), (2982, 0.0), (2983, 0.0), (2984, 0.004294641293168029), (2985, 0.05717355295839895), (2986, 0.0029999075948067633), (2987, 0.0029279224859267345), (2988, 0.014148959205037389), (2989, 0.003533948201952056), (2990, 0.0), (2991, 0.004848311160508553), (2992, 0.01082587940387749), (2993, 0.003059036294957494), (2994, 0.007314896880660335), (2995, 0.01996032958314584), (2996, 0.015653139750044374), (2997, 0.002443756233943338), (2998, 0.0038071115889879393), (2999, 0.002520447045533588), (3000, 0.018313196560767752), (3001, 0.0), (3002, 0.0), (3003, 0.0028172750635618265), (3004, 0.03258207064728205), (3005, 0.004662843276282043), (3006, 0.0), (3007, 0.002709427775494519), (3008, 0.007348555082520313), (3009, 0.0), (3010, 0.0475919192650606), (3011, 0.004454146411143808), (3012, 0.015947957006243817), (3013, 0.0028610165731193576), (3014, 0.0023942259924392586), (3015, 0.0032138288529427426), (3016, 0.0026036229481642107), (3017, 0.026433528583146154), (3018, 0.007385755842089634), (3019, 0.016559249698570755), (3020, 0.0030788992114505528), (3021, 0.0), (3022, 0.005367062238452818), (3023, 0.04447145760563039), (3024, 0.0020963231337985176), (3025, 0.0), (3026, 0.002802065432959627), (3027, 0.0022822077528129765), (3028, 0.026584450169584505), (3029, 0.0), (3030, 0.0034357627126280015), (3031, 0.003098080340964135), (3032, 0.008002698145813185), (3033, 0.006565105720620909), (3034, 0.0), (3035, 0.007050988265705068), (3036, 0.0170045976237138), (3037, 0.0026770809629725915), (3038, 0.0), (3039, 0.007433241299459784), (3040, 0.003541823977779952), (3041, 0.0), (3042, 0.0034363661000082163), (3043, 0.01610029046651232), (3044, 0.002764551763558158), (3045, 0.035003610298872175), (3046, 0.008930165950430557), (3047, 0.0), (3048, 0.0), (3049, 0.00590688383104202), (3050, 0.002321974366370569), (3051, 0.003617701658361142), (3052, 0.003633688631059583), (3053, 0.0732438108456325), (3054, 0.0), (3055, 0.0034510966937722886), (3056, 0.002101035489155866), (3057, 0.002492087476091946), (3058, 0.0), (3059, 0.0), (3060, 0.0), (3061, 0.0), (3062, 0.0027971357966570464), (3063, 0.0), (3064, 0.0027596699778360194), (3065, 0.011619083689333927), (3066, 0.006416566948306219), (3067, 0.008994553672545934), (3068, 0.021428198704923945), (3069, 0.0024767080275248632), (3070, 0.010598419375490312), (3071, 0.0023755248561706534), (3072, 0.0029477207530535492), (3073, 0.0), (3074, 0.003111508537740266), (3075, 0.002555503765432519), (3076, 0.012578428563124638), (3077, 0.0), (3078, 0.0), (3079, 0.004251719719739137), (3080, 0.0), (3081, 0.002984739096348554), (3082, 0.0), (3083, 0.020305822398005775), (3084, 0.002811513086887227), (3085, 0.017437934675130204), (3086, 0.015355891581794467), (3087, 0.0), (3088, 0.0), (3089, 0.0), (3090, 0.0), (3091, 0.04501840790205196), (3092, 0.0), (3093, 0.0024663734450088466), (3094, 0.01065336531088578), (3095, 0.02232378376646734), (3096, 0.007914395530888983), (3097, 0.018399578507274313), (3098, 0.01682852088519415), (3099, 0.010396584806118781), (3100, 0.0044346509884365115), (3101, 0.002801879477152593), (3102, 0.03452469488743669), (3103, 0.0), (3104, 0.0), (3105, 0.0), (3106, 0.0), (3107, 0.0), (3108, 0.01231220286640056), (3109, 0.0), (3110, 0.013148818620795283), (3111, 0.018849760702424365), (3112, 0.007688011853815088), (3113, 0.0026619932285811923), (3114, 0.006072588491821387), (3115, 0.0), (3116, 0.0027869581898004835), (3117, 0.005288555659435544), (3118, 0.010846767325738211), (3119, 0.013176467645873434), (3120, 0.008898032261174069), (3121, 0.0), (3122, 0.0068204751632027355), (3123, 0.008720722046885655), (3124, 0.0047897235355676224), (3125, 0.0071848861424403995), (3126, 0.004418094007533676), (3127, 0.036590721490267514), (3128, 0.0031969221400553454), (3129, 0.017151391865162083), (3130, 0.0), (3131, 0.004935719359181448), (3132, 0.0), (3133, 0.004336292620515619), (3134, 0.004815055879995134), (3135, 0.004240085245746897), (3136, 0.0043007581128555825), (3137, 0.0327916208226312), (3138, 0.0), (3139, 0.0035907551640025526), (3140, 0.003191775106003641), (3141, 0.0), (3142, 0.009780946378231925), (3143, 0.004283243996936223), (3144, 0.01868398340994474), (3145, 0.0), (3146, 0.02950375581868728), (3147, 0.002392832792332582), (3148, 0.0029293489549236393), (3149, 0.0068243582803357815), (3150, 0.002652993122789719), (3151, 0.008672589078999019), (3152, 0.007105099502527769), (3153, 0.02316836252551239), (3154, 0.026066916297209954), (3155, 0.009676211786595723), (3156, 0.025478564673155277), (3157, 0.030734252948015944), (3158, 0.00517037097662082), (3159, 0.0031385262897727128), (3160, 0.004107964692463813), (3161, 0.004550786352555818), (3162, 0.0), (3163, 0.005021375235815922), (3164, 0.0055627503744931995), (3165, 0.0029129982157773643), (3166, 0.0035179839931373026), (3167, 0.026076234240691325), (3168, 0.005194720584199786), (3169, 0.0), (3170, 0.0025297908603445127), (3171, 0.00947002614921426), (3172, 0.0), (3173, 0.0024976685366919467), (3174, 0.02743679517966769), (3175, 0.0), (3176, 0.0), (3177, 0.0), (3178, 0.004009837888876761), (3179, 0.004736922319653151), (3180, 0.005132573372863185), (3181, 0.0), (3182, 0.002583330168883425), (3183, 0.002878387941566039), (3184, 0.002724037993344761), (3185, 0.007000170786572425), (3186, 0.002875686598671847), (3187, 0.0026688975569496218), (3188, 0.0), (3189, 0.0), (3190, 0.0), (3191, 0.004749484075312184), (3192, 0.007802871140252527), (3193, 0.0), (3194, 0.002393520521243344), (3195, 0.007035857525779765), (3196, 0.008017179405249625), (3197, 0.0), (3198, 0.002619974529864259), (3199, 0.0019636013205480717), (3200, 0.002206068498727591), (3201, 0.0), (3202, 0.0), (3203, 0.0498349227897459), (3204, 0.0), (3205, 0.004886156117287779), (3206, 0.0030683342106372223), (3207, 0.0), (3208, 0.0), (3209, 0.0404720498947614), (3210, 0.014538289713480756), (3211, 0.002195827447807523), (3212, 0.0), (3213, 0.016732089386443567), (3214, 0.0024212685427485426), (3215, 0.009351852172126342), (3216, 0.002523810162634958), (3217, 0.0), (3218, 0.009706451974298726), (3219, 0.0034088103069913433), (3220, 0.002478609864769637), (3221, 0.0), (3222, 0.021059638111235027), (3223, 0.0), (3224, 0.002726949305854483), (3225, 0.0025988012119196355), (3226, 0.016748323767747708), (3227, 0.00720633680820793), (3228, 0.01664828857203829), (3229, 0.0), (3230, 0.0029279919041756575), (3231, 0.0), (3232, 0.010219025396684383), (3233, 0.007355187520740297), (3234, 0.002772188328120311), (3235, 0.002754564293973192), (3236, 0.0), (3237, 0.009138138840003165), (3238, 0.00218243589283963), (3239, 0.0031975367271760966), (3240, 0.011249340870596558), (3241, 0.0026458927031980622), (3242, 0.0026625690003108642), (3243, 0.0023753766953138553), (3244, 0.006017414560259967), (3245, 0.007148416664097887), (3246, 0.008728646467293667), (3247, 0.004172023027748465), (3248, 0.06679876545521254), (3249, 0.04101786522213684), (3250, 0.0), (3251, 0.0), (3252, 0.002113286442481704), (3253, 0.014939574082136198), (3254, 0.020009106435796443), (3255, 0.033861184392018406), (3256, 0.0076572783933819), (3257, 0.003055972375457137), (3258, 0.0027578268313340052), (3259, 0.00746104595264645), (3260, 0.0259547978921697), (3261, 0.0), (3262, 0.0032633245940029516), (3263, 0.005025888185502877), (3264, 0.009579020879864363), (3265, 0.006769470229076111), (3266, 0.0), (3267, 0.00872069487133468), (3268, 0.0024206147492601745), (3269, 0.0027434131677741983), (3270, 0.0), (3271, 0.0027403415978842337), (3272, 0.0), (3273, 0.00282353327570058), (3274, 0.0030609717966225826), (3275, 0.01662313552463738), (3276, 0.11904275527845871), (3277, 0.0), (3278, 0.0023399721234042313), (3279, 0.017105443739218438), (3280, 0.03633050021075282), (3281, 0.0), (3282, 0.0032890614008540533), (3283, 0.002578820344108862), (3284, 0.018580379689813888), (3285, 0.025535099925396786), (3286, 0.0), (3287, 0.0), (3288, 0.006416442052998402), (3289, 0.002598625704709855), (3290, 0.0026100030058059252), (3291, 0.0034081886534521894), (3292, 0.0033107771042186927), (3293, 0.009096209292500382), (3294, 0.04624323347380142), (3295, 0.013968875858135311), (3296, 0.0028845687282931273), (3297, 0.010212639038269283), (3298, 0.0024497865817119475), (3299, 0.015574789122903308), (3300, 0.0023832582871467947), (3301, 0.0019860420011163526), (3302, 0.003090102959529381), (3303, 0.0072756740838892334), (3304, 0.00229632738379208), (3305, 0.0), (3306, 0.01529741628500451), (3307, 0.0029460254497445243), (3308, 0.003002322936512594), (3309, 0.006272591746028671), (3310, 0.0), (3311, 0.0022952076860025504), (3312, 0.013575887940800117), (3313, 0.028787092659189734), (3314, 0.002688008744000576), (3315, 0.03368318725728786), (3316, 0.007002093165952461), (3317, 0.012168211701455187), (3318, 0.012819891469810527), (3319, 0.02042323292226775), (3320, 0.0), (3321, 0.0), (3322, 0.0032640971868044587), (3323, 0.0), (3324, 0.0), (3325, 0.012772646576997553), (3326, 0.02909964641823298), (3327, 0.0022748666683518074), (3328, 0.03025804121512122), (3329, 0.008444134913410346), (3330, 0.033615999671213884), (3331, 0.00595906920553952), (3332, 0.0), (3333, 0.0), (3334, 0.05583166085592837), (3335, 0.0025624988480590443), (3336, 0.0022827623066486316), (3337, 0.002926198541982872), (3338, 0.004405080972061886), (3339, 0.003970201087966742), (3340, 0.0), (3341, 0.0025432834702508117), (3342, 0.007031204450428434), (3343, 0.0), (3344, 0.02738273881182292), (3345, 0.021626760319634532), (3346, 0.009080805971871126), (3347, 0.0022209248551998072), (3348, 0.0024542324114160104), (3349, 0.007417544683405595), (3350, 0.0), (3351, 0.03422620342068501), (3352, 0.020597641005833636), (3353, 0.0026367027726778495), (3354, 0.0031930841877435712), (3355, 0.0029177269748354635), (3356, 0.013971822886881381), (3357, 0.0031524982659526623), (3358, 0.003078912235784866), (3359, 0.0029514371742459466), (3360, 0.052348832860019935), (3361, 0.004440109939100981), (3362, 0.036552120564371654), (3363, 0.003163022311998248), (3364, 0.0029277933783362665), (3365, 0.0017884137799670321), (3366, 0.0), (3367, 0.0046204046784988195), (3368, 0.0), (3369, 0.0023393798748198896), (3370, 0.01380703577095855), (3371, 0.0), (3372, 0.002794770916819468), (3373, 0.038926472514427574), (3374, 0.04659258370787397), (3375, 0.014880499821232832), (3376, 0.031092236059193583), (3377, 0.03163744650598561), (3378, 0.0), (3379, 0.0024864528702610404), (3380, 0.0022503213154766405), (3381, 0.002505839189831974), (3382, 0.01002898874098722), (3383, 0.0), (3384, 0.021404263877822273), (3385, 0.05898328865604495), (3386, 0.009225598651981193), (3387, 0.012347930653235598), (3388, 0.002672146305255844), (3389, 0.008539956196568005), (3390, 0.0024162906646588433), (3391, 0.005654239730508646), (3392, 0.0017505591111059142), (3393, 0.0021812533691201504), (3394, 0.0), (3395, 0.048164788157745886), (3396, 0.002925354196686554), (3397, 0.0), (3398, 0.00475799272399742), (3399, 0.008506480833147213), (3400, 0.0), (3401, 0.0), (3402, 0.002471358082443893), (3403, 0.018660157099761064), (3404, 0.00469377408637166), (3405, 0.003885954295147361), (3406, 0.0026765700485092483), (3407, 0.015188101228411119), (3408, 0.044038090641925834), (3409, 0.0380955187008168), (3410, 0.00732526954726423), (3411, 0.0), (3412, 0.002473500072167002), (3413, 0.0030462569383745484), (3414, 0.0028389857733314592), (3415, 0.0), (3416, 0.01824018993361663), (3417, 0.0027933086614350885), (3418, 0.008722324977241057), (3419, 0.002926833737465544), (3420, 0.02931512179853009), (3421, 0.014570533357246243), (3422, 0.0), (3423, 0.010659284770284681), (3424, 0.0), (3425, 0.002938660148668835), (3426, 0.010402151809410325), (3427, 0.041531685300663576), (3428, 0.02456923830922676), (3429, 0.00431563365055118), (3430, 0.03431716793134811), (3431, 0.0020366287014385314), (3432, 0.00457959570783518), (3433, 0.021966964386044636), (3434, 0.0026981585993175548), (3435, 0.007079886376109032), (3436, 0.007316313143148743), (3437, 0.014891037533611887), (3438, 0.004925075352046846), (3439, 0.0), (3440, 0.005360191089565495), (3441, 0.0025153505923608713), (3442, 0.0), (3443, 0.004550394474658327), (3444, 0.0), (3445, 0.002597374923532215), (3446, 0.02376118362596693), (3447, 0.02698011448032207), (3448, 0.00559647446856459), (3449, 0.0027404173408190242), (3450, 0.06274129874896524), (3451, 0.004944634468457536), (3452, 0.006795124165848758), (3453, 0.007781907770548946), (3454, 0.0), (3455, 0.0023541828679347343), (3456, 0.007637011017810727), (3457, 0.00700158715039489), (3458, 0.006237886369444205), (3459, 0.0), (3460, 0.006573188609908073), (3461, 0.0), (3462, 0.057434079728437545), (3463, 0.060706045656025415), (3464, 0.00749830788075648), (3465, 0.07497944796238434), (3466, 0.032114814160377606), (3467, 0.0), (3468, 0.004972065267270442), (3469, 0.020745192410467787), (3470, 0.03501442704271948), (3471, 0.020413598846250346), (3472, 0.0), (3473, 0.0), (3474, 0.00649658195092293), (3475, 0.0), (3476, 0.0), (3477, 0.002514868609303398), (3478, 0.0025361871902406415), (3479, 0.003384447156348332), (3480, 0.06560363079666712), (3481, 0.0), (3482, 0.0), (3483, 0.022015857129812924), (3484, 0.0038363392514141176), (3485, 0.0), (3486, 0.03732895351299438), (3487, 0.0068740778119156035), (3488, 0.027972950894929686), (3489, 0.0), (3490, 0.0), (3491, 0.002584597098618039), (3492, 0.021034828753309146), (3493, 0.0026545144823408597), (3494, 0.0), (3495, 0.004101847627868699), (3496, 0.002722348105245073), (3497, 0.002770165199090682), (3498, 0.036163887622597285), (3499, 0.007023650271851442), (3500, 0.002352966728399302), (3501, 0.007493829341555888), (3502, 0.0055839873596376976), (3503, 0.0024318549872998254), (3504, 0.019914683604169117), (3505, 0.0), (3506, 0.002925090773173954), (3507, 0.012112273835045064), (3508, 0.019890126481332447), (3509, 0.005676146915333578), (3510, 0.0), (3511, 0.03711419658637134), (3512, 0.0038888587083709945), (3513, 0.004833569400596494), (3514, 0.007349128979700565), (3515, 0.007141528642855162), (3516, 0.0077752748174817095), (3517, 0.0026259815785324952), (3518, 0.04319206462177971), (3519, 0.0), (3520, 0.00467025158615055), (3521, 0.008807933706918614), (3522, 0.0), (3523, 0.003635675158808224), (3524, 0.010961937364451937), (3525, 0.0), (3526, 0.002595457553876735), (3527, 0.0028230830883620114), (3528, 0.017064378305444217), (3529, 0.0), (3530, 0.0), (3531, 0.006862294924219214), (3532, 0.0), (3533, 0.0), (3534, 0.004277272036348951), (3535, 0.01384066315171278), (3536, 0.009447284878491278), (3537, 0.0031456443257482846), (3538, 0.0020222362037236926), (3539, 0.0), (3540, 0.0029579871411557017), (3541, 0.01576609594822901), (3542, 0.002594891823392815), (3543, 0.0), (3544, 0.0030871824814445417), (3545, 0.0), (3546, 0.0018921856768456724), (3547, 0.0), (3548, 0.0022253079089800494), (3549, 0.0), (3550, 0.0), (3551, 0.002559352020593217), (3552, 0.04302665477519422), (3553, 0.0210499452925294), (3554, 0.0), (3555, 0.0044675807246291705), (3556, 0.033840048590073044), (3557, 0.0025476003244389637), (3558, 0.014470291425645933), (3559, 0.04250405816899348), (3560, 0.00284932873090512), (3561, 0.003438052370675986), (3562, 0.0), (3563, 0.0023113982064680936), (3564, 0.0025460210758847046), (3565, 0.0025090185189275897), (3566, 0.006170320282172521), (3567, 0.0), (3568, 0.0), (3569, 0.0021744290295385165), (3570, 0.007030425581829401), (3571, 0.007310855744198967), (3572, 0.02940961122181051), (3573, 0.02554701781763867), (3574, 0.027301137102037586), (3575, 0.002048741152784783), (3576, 0.0046855570241939055), (3577, 0.003134300423040642), (3578, 0.0), (3579, 0.007769932651808634), (3580, 0.015038373034198032), (3581, 0.0), (3582, 0.011259061337536048), (3583, 0.004479553777020868), (3584, 0.00495460907849746), (3585, 0.0), (3586, 0.007614155228395089), (3587, 0.0028569324986325506), (3588, 0.005668212447753092), (3589, 0.0), (3590, 0.0026887908772678147), (3591, 0.0), (3592, 0.0), (3593, 0.002831081760296785), (3594, 0.006823314230344264), (3595, 0.0), (3596, 0.009010933192656957), (3597, 0.030775366208795923), (3598, 0.0058148858738907615), (3599, 0.009506050817401746), (3600, 0.0), (3601, 0.002704796924602712), (3602, 0.004535743611149327), (3603, 0.0), (3604, 0.005066457300787267), (3605, 0.02727626839240265), (3606, 0.002585895851771812), (3607, 0.0), (3608, 0.0022212422868994304), (3609, 0.0), (3610, 0.0), (3611, 0.0028815671372074895), (3612, 0.009607770668871866), (3613, 0.0031282114428502436), (3614, 0.002295291013045528), (3615, 0.002388296766524122), (3616, 0.0031463873753146514), (3617, 0.0), (3618, 0.007578451625313122), (3619, 0.004047587780381726), (3620, 0.0030882893020226327), (3621, 0.0029843451284689345), (3622, 0.0), (3623, 0.0073752527102832355), (3624, 0.00708332047076107), (3625, 0.0), (3626, 0.00208384498526865), (3627, 0.0024222762295814065), (3628, 0.0), (3629, 0.020937690266942786), (3630, 0.013248693386756738), (3631, 0.0), (3632, 0.006714251426310356), (3633, 0.0), (3634, 0.007697075656882035), (3635, 0.009665858977192597), (3636, 0.002613638129283211), (3637, 0.01243969337920028), (3638, 0.008913892551018446), (3639, 0.0029025843465260875), (3640, 0.015863756083686856), (3641, 0.0024493907161684263), (3642, 0.015425038196230128), (3643, 0.009249751025514882), (3644, 0.0), (3645, 0.00724440879850767), (3646, 0.002398125884687227), (3647, 0.0025396383879653732), (3648, 0.006792514892537665), (3649, 0.0), (3650, 0.0), (3651, 0.003007786913404557), (3652, 0.041202775143612466), (3653, 0.007438992137952425), (3654, 0.002667297611504451), (3655, 0.050377205680392896), (3656, 0.0328840451231678), (3657, 0.0021402453501994092), (3658, 0.005944868210432029), (3659, 0.012739067427470985), (3660, 0.013715714758141272), (3661, 0.01564577425342385), (3662, 0.0), (3663, 0.0), (3664, 0.004434450523125298), (3665, 0.021010623387236353), (3666, 0.007556052445226202), (3667, 0.008900171105382566), (3668, 0.0021466330461738714), (3669, 0.0021577986845559157), (3670, 0.014636928645548691), (3671, 0.0), (3672, 0.003603859110894286), (3673, 0.0025258154830280965), (3674, 0.009866519236776755), (3675, 0.016956370936491695), (3676, 0.0), (3677, 0.0027839214224453152), (3678, 0.0026979790125276097), (3679, 0.009695639399177612), (3680, 0.008084768946688057), (3681, 0.0), (3682, 0.0), (3683, 0.0), (3684, 0.02617013397365263), (3685, 0.0), (3686, 0.0), (3687, 0.0031677160464612685), (3688, 0.026503326352086173), (3689, 0.00941773693384183), (3690, 0.0), (3691, 0.0024132941512466618), (3692, 0.024224464065459233), (3693, 0.0), (3694, 0.015394318681617917), (3695, 0.0), (3696, 0.006894880242524032), (3697, 0.0), (3698, 0.0), (3699, 0.014528971303086509), (3700, 0.0), (3701, 0.028142362872818294), (3702, 0.0), (3703, 0.0), (3704, 0.007726207293318316), (3705, 0.006468711029239542), (3706, 0.002475037453188161), (3707, 0.0025812562026774188), (3708, 0.013488430566793386), (3709, 0.0), (3710, 0.004903916307312567), (3711, 0.02491200660691427), (3712, 0.0), (3713, 0.01563636497117768), (3714, 0.002772130097690375), (3715, 0.0059530536022729275), (3716, 0.0), (3717, 0.0), (3718, 0.0), (3719, 0.002922197816436192), (3720, 0.030103653738207493), (3721, 0.006120051103397477), (3722, 0.0), (3723, 0.004417806067790252), (3724, 0.0), (3725, 0.002361398110079443), (3726, 0.0), (3727, 0.007088736271485593), (3728, 0.05632331020404153), (3729, 0.002939207932414357), (3730, 0.0), (3731, 0.0348845792305827), (3732, 0.0), (3733, 0.008670908237947302), (3734, 0.006743290499240995), (3735, 0.0), (3736, 0.0), (3737, 0.0028319594615577055), (3738, 0.0), (3739, 0.0025638916579710726), (3740, 0.0), (3741, 0.013573253988566418), (3742, 0.002316604456287793), (3743, 0.0), (3744, 0.005614568383030678), (3745, 0.002983416534820059), (3746, 0.024583337427732433), (3747, 0.011810499294329865), (3748, 0.00573859364181665), (3749, 0.002765280753409115), (3750, 0.012526912155733273), (3751, 0.027141688054117364), (3752, 0.00558054137277933), (3753, 0.04423112263249478), (3754, 0.00294123732407041), (3755, 0.0023343451556642448), (3756, 0.011635471912017534), (3757, 0.0027856996595460883), (3758, 0.0), (3759, 0.0), (3760, 0.0), (3761, 0.0), (3762, 0.00330411757499818), (3763, 0.002988962008197595), (3764, 0.0), (3765, 0.0024635650073260478), (3766, 0.01696331878300543), (3767, 0.02918221667630718), (3768, 0.01255985800340293), (3769, 0.0048235044193955905), (3770, 0.0026521310442793435), (3771, 0.007743107472789034), (3772, 0.0028850796603033125), (3773, 0.023393650403413152), (3774, 0.005058729108492917), (3775, 0.010845748481928298), (3776, 0.003950843897390089), (3777, 0.015028360199048494), (3778, 0.021875654909352157), (3779, 0.10185805797079382), (3780, 0.007633302155336192), (3781, 0.0027174020257633258), (3782, 0.004941626446775452), (3783, 0.0), (3784, 0.008666453071715974), (3785, 0.0), (3786, 0.0), (3787, 0.005049897907909315), (3788, 0.00431205665197856), (3789, 0.0), (3790, 0.0), (3791, 0.0), (3792, 0.002579030678823231), (3793, 0.044287917473408704), (3794, 0.011070808538151015), (3795, 0.0022679875189512847), (3796, 0.0), (3797, 0.015180192825309777), (3798, 0.0), (3799, 0.0024039388973454263), (3800, 0.0), (3801, 0.024933979127794374), (3802, 0.00505140082592496), (3803, 0.0), (3804, 0.002829137270933287), (3805, 0.0), (3806, 0.00406535368580349), (3807, 0.014618430955839725), (3808, 0.0), (3809, 0.002598493390633651), (3810, 0.023564144129146345), (3811, 0.0023905982060630077), (3812, 0.0), (3813, 0.0027671797773669462), (3814, 0.029939845599700934), (3815, 0.004703487539245398), (3816, 0.0), (3817, 0.0), (3818, 0.0), (3819, 0.013430526732527343), (3820, 0.0), (3821, 0.007754071922441732), (3822, 0.010223052421538082), (3823, 0.0043353398841754764), (3824, 0.004403203520833348), (3825, 0.005930759586690873), (3826, 0.00875332692435902), (3827, 0.00254719173144868), (3828, 0.017989862890400707), (3829, 0.008463525265057722), (3830, 0.0), (3831, 0.0), (3832, 0.003096146879951484), (3833, 0.00466868695918554), (3834, 0.0), (3835, 0.029118499325463853), (3836, 0.0), (3837, 0.0), (3838, 0.0), (3839, 0.02252722704222763), (3840, 0.0), (3841, 0.006411534845514813), (3842, 0.006656056037350804), (3843, 0.0), (3844, 0.005781129296899576), (3845, 0.0026453120619755123), (3846, 0.0), (3847, 0.0), (3848, 0.0032176256582615117), (3849, 0.012136778904133085), (3850, 0.030375083993213238), (3851, 0.0), (3852, 0.027180211068101628), (3853, 0.018848891794499875), (3854, 0.06161566270378365), (3855, 0.002151981507583706), (3856, 0.0), (3857, 0.019864910138943533), (3858, 0.0), (3859, 0.0), (3860, 0.010596852864015089), (3861, 0.013592128894296429), (3862, 0.014842136261142808), (3863, 0.0023778043831377306), (3864, 0.006198950838403933), (3865, 0.005858147278425384), (3866, 0.0029234354102327348), (3867, 0.040054590386141994), (3868, 0.02332731372109037), (3869, 0.0), (3870, 0.0), (3871, 0.027741800504891185), (3872, 0.024064408682811175), (3873, 0.0027111675335296207), (3874, 0.0031013363262410347), (3875, 0.018078943775698533), (3876, 0.006562681043930192), (3877, 0.0028237072620805217), (3878, 0.0033333249663985306), (3879, 0.0), (3880, 0.03002517213021349), (3881, 0.004399498239922743), (3882, 0.002667621298008595), (3883, 0.01621442671515648), (3884, 0.0029508011050974983), (3885, 0.0), (3886, 0.0044303397095256415), (3887, 0.0), (3888, 0.009504858503433095), (3889, 0.0027503611083962223), (3890, 0.002453598050363158), (3891, 0.022644363801908637), (3892, 0.0032969468162486887), (3893, 0.0027395827006288535), (3894, 0.0022242858410916593), (3895, 0.01565752388060252), (3896, 0.0), (3897, 0.004891332365552052), (3898, 0.0025643139867568797), (3899, 0.007704160140244185), (3900, 0.002438771217157476), (3901, 0.008620129601195054), (3902, 0.0026388324543919197), (3903, 0.010429036686855615), (3904, 0.026076749500281174), (3905, 0.007479387515750015), (3906, 0.0024939983837025627), (3907, 0.004786368378027254), (3908, 0.0048168515222398), (3909, 0.006077272733111632), (3910, 0.0063721343841497274), (3911, 0.00303052451245541), (3912, 0.0), (3913, 0.02250739185219301), (3914, 0.0), (3915, 0.0027547260209605175), (3916, 0.021278915392035185), (3917, 0.0024351685433663043), (3918, 0.0), (3919, 0.009518026688365582), (3920, 0.0026269850198830523), (3921, 0.0), (3922, 0.0031308493874409268), (3923, 0.02029069850345378), (3924, 0.010565245191918267), (3925, 0.0037750382833963), (3926, 0.006579383573264013), (3927, 0.02110630173281142), (3928, 0.002118505549736894), (3929, 0.0), (3930, 0.0), (3931, 0.0), (3932, 0.004678398488262888), (3933, 0.0), (3934, 0.019671452130892175), (3935, 0.0029885096547979943), (3936, 0.0), (3937, 0.0), (3938, 0.0050016014177825755), (3939, 0.0033779025927503665), (3940, 0.00541580878603716), (3941, 0.009006310584675216), (3942, 0.005626762559506897), (3943, 0.0), (3944, 0.0038131942102109903), (3945, 0.007385100505287984), (3946, 0.06577120166835922), (3947, 0.0387498132259521), (3948, 0.0), (3949, 0.009725553805078438), (3950, 0.0), (3951, 0.011248990575539243), (3952, 0.002908452739992948), (3953, 0.002356219582668888), (3954, 0.008568096341345817), (3955, 0.03994760394636266), (3956, 0.00856647521911965), (3957, 0.011607958307563657), (3958, 0.013163592055294058), (3959, 0.02683911116641474), (3960, 0.0081051448898174), (3961, 0.03264229664682677), (3962, 0.002848391112204595), (3963, 0.024787115409651922), (3964, 0.0), (3965, 0.0), (3966, 0.004302620439293622), (3967, 0.0028036445992062004), (3968, 0.0), (3969, 0.0), (3970, 0.00441235901817224), (3971, 0.0), (3972, 0.0), (3973, 0.04191108684498302), (3974, 0.04564920918028945), (3975, 0.006013273983329386), (3976, 0.016645328263089863), (3977, 0.0), (3978, 0.02031608323873614), (3979, 0.0), (3980, 0.0), (3981, 0.0), (3982, 0.0), (3983, 0.0334519178853037), (3984, 0.01010705541509902), (3985, 0.0), (3986, 0.0022819497828374434), (3987, 0.0027012118924889077), (3988, 0.0), (3989, 0.003715806094534846), (3990, 0.003500660434369241), (3991, 0.0), (3992, 0.01086432393823145), (3993, 0.01095591809089824), (3994, 0.0), (3995, 0.004782866395926851), (3996, 0.0), (3997, 0.005045518360715694), (3998, 0.0063284474489425134), (3999, 0.011834468356820938), (4000, 0.014407155502978934), (4001, 0.0065798866522937954), (4002, 0.0029453637825473953), (4003, 0.0), (4004, 0.029992838221305277), (4005, 0.03603237425304265), (4006, 0.0), (4007, 0.019400521420680113), (4008, 0.00681681436839867), (4009, 0.0060694965649699005), (4010, 0.0), (4011, 0.0023818585917991975), (4012, 0.01748298013842142), (4013, 0.007783479215222057), (4014, 0.0025661071943593977), (4015, 0.002092001302306393), (4016, 0.02100276004932242), (4017, 0.0034416299225726275), (4018, 0.0), (4019, 0.0032877144876280353), (4020, 0.0024880419139022072), (4021, 0.0), (4022, 0.0), (4023, 0.04160114476508129), (4024, 0.0028405990919784414), (4025, 0.009445947734436947), (4026, 0.0), (4027, 0.0), (4028, 0.018654871009725956), (4029, 0.0), (4030, 0.0030600481089510037), (4031, 0.0), (4032, 0.01062426291591163), (4033, 0.010139571461229513), (4034, 0.0), (4035, 0.028844313228595903), (4036, 0.002478077422724702), (4037, 0.0), (4038, 0.007642289499858959), (4039, 0.004497181173511471), (4040, 0.0), (4041, 0.0), (4042, 0.0028011681307968453), (4043, 0.005142156064116709), (4044, 0.004185917988001526), (4045, 0.007474521320913149), (4046, 0.007837863472015384), (4047, 0.0058310531983781005), (4048, 0.010521792466705355), (4049, 0.002573949972108381), (4050, 0.022052871866018453), (4051, 0.002829427324343822), (4052, 0.009622904531408717), (4053, 0.022649732315453208), (4054, 0.002689155830042102), (4055, 0.005924818293621736), (4056, 0.0025224767280474544), (4057, 0.005838625756794191), (4058, 0.0), (4059, 0.0023717520410445306), (4060, 0.009553517487109293), (4061, 0.007175096904403546), (4062, 0.05895899420588936), (4063, 0.0), (4064, 0.03630173900756346), (4065, 0.0), (4066, 0.0022644765621362356), (4067, 0.0), (4068, 0.014451184354152647), (4069, 0.0024950912800511477), (4070, 0.0), (4071, 0.004364971402322597), (4072, 0.0), (4073, 0.0), (4074, 0.0022822348402180594), (4075, 0.0029592426902674803), (4076, 0.004970043121679035), (4077, 0.007237935229267639), (4078, 0.0), (4079, 0.002629117011058859), (4080, 0.0022740107861656984), (4081, 0.017985275912985554), (4082, 0.00358280122205307), (4083, 0.002647721910892649), (4084, 0.0), (4085, 0.002454185153162894), (4086, 0.0), (4087, 0.002757014892292607), (4088, 0.01922832251426591), (4089, 0.007444294164478699), (4090, 0.00497122442224054), (4091, 0.005069099168848594), (4092, 0.0084067983835877), (4093, 0.007491537116758557), (4094, 0.007642265428519464), (4095, 0.012383389059452028), (4096, 0.03175875014016261), (4097, 0.0), (4098, 0.007327888089485729), (4099, 0.006567093402415353), (4100, 0.0), (4101, 0.0027681114618960017), (4102, 0.003220052982399362), (4103, 0.004638354930990023), (4104, 0.044651126235844864), (4105, 0.00794742626125399), (4106, 0.010011298899255085), (4107, 0.0031316484334973902), (4108, 0.0), (4109, 0.0), (4110, 0.005829848863480053), (4111, 0.0027150310497208023), (4112, 0.0), (4113, 0.0028169003700762424), (4114, 0.0), (4115, 0.0), (4116, 0.07263323214717171), (4117, 0.0028951057091739976), (4118, 0.007629579528410197), (4119, 0.005127533389383312), (4120, 0.005142394346497135), (4121, 0.013294058510116134), (4122, 0.008786711827347365), (4123, 0.05255262820554276), (4124, 0.01345966408865568), (4125, 0.0), (4126, 0.0029512048892630515), (4127, 0.0), (4128, 0.021763835526702892), (4129, 0.0024538704569894982), (4130, 0.0027720301380200125), (4131, 0.0), (4132, 0.0027295757697937194), (4133, 0.007795656118729809), (4134, 0.015345894727775013), (4135, 0.0025721544003564083), (4136, 0.002699258040282811), (4137, 0.06155397462402231), (4138, 0.002916222234928384), (4139, 0.0024490787046745617), (4140, 0.002771074176592469), (4141, 0.02659035673909084), (4142, 0.0032425169740557275), (4143, 0.0022796579148896953), (4144, 0.0), (4145, 0.0029791881546168577), (4146, 0.0), (4147, 0.0030881294441047137), (4148, 0.011855844933081963), (4149, 0.01872831087468419), (4150, 0.0), (4151, 0.004357507674573638), (4152, 0.03363223725516116), (4153, 0.0), (4154, 0.006460444818820417), (4155, 0.0024227346586685574), (4156, 0.01949743389303669), (4157, 0.0), (4158, 0.009751867548943579), (4159, 0.0), (4160, 0.027334340235441686), (4161, 0.002728197536290695), (4162, 0.0054926169913268), (4163, 0.00828909244186234), (4164, 0.010673730619986933), (4165, 0.03529172143254559), (4166, 0.0), (4167, 0.0), (4168, 0.0), (4169, 0.0027014128283684366), (4170, 0.0), (4171, 0.0017923477782648997), (4172, 0.0033528725699006785), (4173, 0.0), (4174, 0.0023343076852770607), (4175, 0.029293305955632627), (4176, 0.021134554566218156), (4177, 0.02821768382122208), (4178, 0.014936139212549819), (4179, 0.0), (4180, 0.0), (4181, 0.0), (4182, 0.006974039998966095), (4183, 0.0024597537663465004), (4184, 0.007103928823641512), (4185, 0.0), (4186, 0.0), (4187, 0.010905512014133225), (4188, 0.0), (4189, 0.02126938217959492), (4190, 0.0), (4191, 0.0), (4192, 0.00930711991890133), (4193, 0.004195492760646212), (4194, 0.0), (4195, 0.033212478943244333), (4196, 0.007152503548435217), (4197, 0.0025854969931686654), (4198, 0.0), (4199, 0.0), (4200, 0.0020968865998536737), (4201, 0.0), (4202, 0.003546305715914872), (4203, 0.01875506443394477), (4204, 0.0), (4205, 0.00813259415956046), (4206, 0.0024090792775228152), (4207, 0.0), (4208, 0.005772631262084199), (4209, 0.03371052248760336), (4210, 0.006662434193601295), (4211, 0.004528549105191521), (4212, 0.0), (4213, 0.002411633257182007), (4214, 0.0), (4215, 0.0), (4216, 0.011146761005533329), (4217, 0.006344514387184781), (4218, 0.0), (4219, 0.0059307558518514976), (4220, 0.0022373580615292327), (4221, 0.00339072828055136), (4222, 0.003401127932583099), (4223, 0.0), (4224, 0.0), (4225, 0.0028169839547998233), (4226, 0.007180847686961676), (4227, 0.013305220394611121), (4228, 0.00277782483968257), (4229, 0.0), (4230, 0.003249625623118119), (4231, 0.015723365320349278), (4232, 0.008355629863574444), (4233, 0.007493424222150827), (4234, 0.0), (4235, 0.010709589001293521), (4236, 0.00607498699543385), (4237, 0.0), (4238, 0.0), (4239, 0.0), (4240, 0.005036241334993982), (4241, 0.0), (4242, 0.026461169972595094), (4243, 0.0028872437447467303), (4244, 0.01629601541420167), (4245, 0.0027249016733194827), (4246, 0.015893931602475153), (4247, 0.0022290187030187107), (4248, 0.004584328851782155), (4249, 0.007499648391381132), (4250, 0.0), (4251, 0.004729825034580443), (4252, 0.06059815508412411), (4253, 0.0), (4254, 0.0024513225643261883), (4255, 0.013890036307368781), (4256, 0.0), (4257, 0.009023152151567019), (4258, 0.0), (4259, 0.002862097470523436), (4260, 0.0), (4261, 0.005249130933861092), (4262, 0.0026330476415983117), (4263, 0.0027932939885677625), (4264, 0.0045349052714828446), (4265, 0.012370029362516657), (4266, 0.002559182443926289), (4267, 0.002912157176210678), (4268, 0.04897698840881427), (4269, 0.0027203418268720568), (4270, 0.0), (4271, 0.0), (4272, 0.02992436166111102), (4273, 0.0025953107452440383), (4274, 0.004230225814165784), (4275, 0.004783253066031127), (4276, 0.0), (4277, 0.0023230286175405803), (4278, 0.0), (4279, 0.0), (4280, 0.0030057193500140156), (4281, 0.023693093986547096), (4282, 0.006581235977916588), (4283, 0.026170776624460865), (4284, 0.007015060521553908), (4285, 0.00541390337248493), (4286, 0.002680860525590258), (4287, 0.002620111867243265), (4288, 0.02174538242935304), (4289, 0.0074566540096514785), (4290, 0.004163826251867192), (4291, 0.0), (4292, 0.004346641270334503), (4293, 0.01072496987906045), (4294, 0.02557831459377292), (4295, 0.0028956476258980364), (4296, 0.0022688214477861756), (4297, 0.0), (4298, 0.0031114236658140513), (4299, 0.0069789543228782214), (4300, 0.0), (4301, 0.001881648020866405), (4302, 0.0), (4303, 0.006306425954648116), (4304, 0.0022752649506362676), (4305, 0.0), (4306, 0.0031245675077691206), (4307, 0.005179380097485313), (4308, 0.002854400132708627), (4309, 0.00697819374420941), (4310, 0.004618064119380746), (4311, 0.0022847227956534827), (4312, 0.004956559811046084), (4313, 0.0), (4314, 0.014796459761395613), (4315, 0.0), (4316, 0.0), (4317, 0.0), (4318, 0.0027267945088646677), (4319, 0.0), (4320, 0.0025297404552931534), (4321, 0.017025147418025858), (4322, 0.004224059410919858), (4323, 0.0), (4324, 0.0), (4325, 0.01084142860251558), (4326, 0.0023252246844545858), (4327, 0.0), (4328, 0.004309779076309047), (4329, 0.0), (4330, 0.00253759563114658), (4331, 0.005314131386390756), (4332, 0.0), (4333, 0.0028538356132755452), (4334, 0.002677142828083361), (4335, 0.008057813323189715), (4336, 0.008794656199100885), (4337, 0.012416145648083689), (4338, 0.0), (4339, 0.004214172565029606), (4340, 0.0026230583862476183), (4341, 0.0), (4342, 0.006053130571462052), (4343, 0.002312388332716849), (4344, 0.011726694019006622), (4345, 0.0024519916279127116), (4346, 0.0), (4347, 0.0), (4348, 0.0023787692625601175), (4349, 0.01758778225581641), (4350, 0.0022859700538679396), (4351, 0.007043702489314952), (4352, 0.0), (4353, 0.0), (4354, 0.025994395360737256), (4355, 0.0027018875230114072), (4356, 0.0023585632396986318), (4357, 0.0027034679302635803), (4358, 0.0), (4359, 0.0023153772985977632), (4360, 0.004637754463865542), (4361, 0.0026386334816726476), (4362, 0.03662915792058017), (4363, 0.002656280498809686), (4364, 0.0), (4365, 0.004063496237183203), (4366, 0.010659267262385468), (4367, 0.006365175287760793), (4368, 0.002854344086319595), (4369, 0.0029178234754435894), (4370, 0.0), (4371, 0.009762962232144623), (4372, 0.0), (4373, 0.004944859265814224), (4374, 0.013502219765834437), (4375, 0.09117158121324019), (4376, 0.00472987449563689), (4377, 0.004892532487577618), (4378, 0.0789388517236268), (4379, 0.014736548155236593), (4380, 0.01909520187198896), (4381, 0.002458728622652153), (4382, 0.020364996372131905), (4383, 0.00462950343379809), (4384, 0.0048863605224429355), (4385, 0.0057171346122519605), (4386, 0.0024398183928011755), (4387, 0.013870068941198363), (4388, 0.006755130022591245), (4389, 0.05962555280287477), (4390, 0.007344360002958869), (4391, 0.0026167579138556087), (4392, 0.0048578911171751425), (4393, 0.0), (4394, 0.002516685249546862), (4395, 0.02048836738664774), (4396, 0.036691969771720574), (4397, 0.0028225842511361253), (4398, 0.05848106495843603), (4399, 0.01690382353828356), (4400, 0.00323306097982072), (4401, 0.002833462848061686), (4402, 0.028725825667323023), (4403, 0.037695251803000804), (4404, 0.0), (4405, 0.0), (4406, 0.0), (4407, 0.003317270500646156), (4408, 0.0), (4409, 0.002567214499482566), (4410, 0.0), (4411, 0.002194804964508281), (4412, 0.008375126016394905), (4413, 0.0), (4414, 0.0), (4415, 0.0), (4416, 0.0029853335777020916), (4417, 0.0), (4418, 0.003330912615368857), (4419, 0.0026439719893291574), (4420, 0.002673107484263222), (4421, 0.0), (4422, 0.0026673765428150134), (4423, 0.003288729379767851), (4424, 0.0), (4425, 0.0), (4426, 0.003980631223261024), (4427, 0.0025331920714824854), (4428, 0.0024806711969321297), (4429, 0.002202062550120158), (4430, 0.007631155642985315), (4431, 0.007871492893902324), (4432, 0.006257694887807377), (4433, 0.0), (4434, 0.0), (4435, 0.009657090753751577), (4436, 0.019687104256688303), (4437, 0.0), (4438, 0.004422951263287813), (4439, 0.0), (4440, 0.01744862397356858), (4441, 0.004462010722926113), (4442, 0.009322506640795744), (4443, 0.035517277554201775), (4444, 0.009365163175242898), (4445, 0.0019456336811123085), (4446, 0.002782149984041176), (4447, 0.0), (4448, 0.0026486240455653193), (4449, 0.0), (4450, 0.027311747667741446), (4451, 0.0), (4452, 0.03699444775560218), (4453, 0.0), (4454, 0.0), (4455, 0.0), (4456, 0.04581415655156011), (4457, 0.0), (4458, 0.003096902608390036), (4459, 0.006319462824825345), (4460, 0.0), (4461, 0.0024415519508728914), (4462, 0.005211603263244989), (4463, 0.0), (4464, 0.005865917370922849), (4465, 0.019123743707399048), (4466, 0.020787788619053546), (4467, 0.0069136501028478166), (4468, 0.0042367003454183046), (4469, 0.012008625600884141), (4470, 0.00737038066610831), (4471, 0.002689451482618859), (4472, 0.0024515403373360205), (4473, 0.0022480445070445893), (4474, 0.015197193596313215), (4475, 0.013240933729776284), (4476, 0.002170187980453366), (4477, 0.011228310788786396), (4478, 0.0), (4479, 0.0023358563951205434), (4480, 0.0), (4481, 0.011167684757927798), (4482, 0.015224187733738171), (4483, 0.0), (4484, 0.0033814476312483683), (4485, 0.0), (4486, 0.014392360792476595), (4487, 0.0024906799430377564), (4488, 0.039716903106450485), (4489, 0.0026898571212910427), (4490, 0.00847884672726767), (4491, 0.0), (4492, 0.019899268614655036), (4493, 0.0), (4494, 0.008076927428852684), (4495, 0.0029424250716664118), (4496, 0.0), (4497, 0.0026552611205088346), (4498, 0.0), (4499, 0.0), (4500, 0.0), (4501, 0.0025623314809338042), (4502, 0.008826008311482815), (4503, 0.05022606893696077), (4504, 0.01746404208006734), (4505, 0.0026845407116629577), (4506, 0.0), (4507, 0.003011750179632966), (4508, 0.0), (4509, 0.0), (4510, 0.012405884400525893), (4511, 0.009055944146683143), (4512, 0.013093704759115733), (4513, 0.003816259526860173), (4514, 0.00558021931038109), (4515, 0.005354643956445898), (4516, 0.0029082392469185234), (4517, 0.007192818112932041), (4518, 0.005599776538853728), (4519, 0.0), (4520, 0.00251065636202738), (4521, 0.0031656248700788828), (4522, 0.00779142357392963), (4523, 0.0072068252299383635), (4524, 0.013344104735653138), (4525, 0.0), (4526, 0.0), (4527, 0.005926845908030898), (4528, 0.0027542947624417113), (4529, 0.0034005010522372646), (4530, 0.002695401909222743), (4531, 0.01576378990483101), (4532, 0.0), (4533, 0.03178286889373967), (4534, 0.022880025826455132), (4535, 0.0029156376897389634), (4536, 0.0024230497488252263), (4537, 0.006005299509575737), (4538, 0.028714680514426775), (4539, 0.0), (4540, 0.002724994506701142), (4541, 0.0), (4542, 0.0), (4543, 0.011558284384464147), (4544, 0.003163843742069543), (4545, 0.0027445443902041006), (4546, 0.009241565345370469), (4547, 0.0), (4548, 0.026746394406841196), (4549, 0.0), (4550, 0.002458169658126654), (4551, 0.010613172359685247), (4552, 0.004781914462610898), (4553, 0.010218964168198983), (4554, 0.02471715878629297), (4555, 0.003822246383248059), (4556, 0.0), (4557, 0.007504709643115498), (4558, 0.0), (4559, 0.0), (4560, 0.0), (4561, 0.0), (4562, 0.0), (4563, 0.0026006699960084098), (4564, 0.006324868664687002), (4565, 0.0), (4566, 0.0026735546109579985), (4567, 0.0024231801082381346), (4568, 0.0), (4569, 0.0), (4570, 0.0), (4571, 0.00403004995905347), (4572, 0.0031126376024216505), (4573, 0.002458614741936614), (4574, 0.002715543513395254), (4575, 0.002683455745897461), (4576, 0.013322565100077892), (4577, 0.0), (4578, 0.0), (4579, 0.008009009326970448), (4580, 0.0), (4581, 0.007140956745791369), (4582, 0.0041147748468671076), (4583, 0.015508694731240181), (4584, 0.0029816502268501864), (4585, 0.004316825219797294), (4586, 0.0048038743900341956), (4587, 0.004396915493480532), (4588, 0.040768301448868956), (4589, 0.0029677632157899367), (4590, 0.030203371027642804), (4591, 0.006649489713339693), (4592, 0.0), (4593, 0.008133005662656604), (4594, 0.0624699521049894), (4595, 0.004991963728483643), (4596, 0.011579153357762677), (4597, 0.0), (4598, 0.0019896436003544976), (4599, 0.0), (4600, 0.0), (4601, 0.007824181317491352), (4602, 0.03194663943884777), (4603, 0.008641754441478895), (4604, 0.002549826102430259), (4605, 0.010113684386539628), (4606, 0.0032107990543004962), (4607, 0.003682819782953627), (4608, 0.02163472384787619), (4609, 0.0), (4610, 0.013744585645274584), (4611, 0.0033805137878272673), (4612, 0.008900541314353928), (4613, 0.0), (4614, 0.09362023653857772), (4615, 0.0), (4616, 0.002437583081277481), (4617, 0.013145152122535166), (4618, 0.0), (4619, 0.01060441183101697), (4620, 0.002375059791384573), (4621, 0.004820093271231993), (4622, 0.0), (4623, 0.011645129844427069), (4624, 0.007496209773978815), (4625, 0.0026333505042846904), (4626, 0.002050481727273585), (4627, 0.01533892397197596), (4628, 0.0), (4629, 0.007458366306468024), (4630, 0.005173595112168345), (4631, 0.0), (4632, 0.0029900152728193187), (4633, 0.0029805712061734815), (4634, 0.0023656250689736333), (4635, 0.0), (4636, 0.0022251876370924612), (4637, 0.01724460205261897), (4638, 0.0023135084446129625), (4639, 0.0048267851089869125), (4640, 0.017919357514542884), (4641, 0.03444472756108918), (4642, 0.005444257857523773), (4643, 0.0026102967277850005), (4644, 0.0), (4645, 0.02833924807672003), (4646, 0.005882073074407983), (4647, 0.0), (4648, 0.0), (4649, 0.00836168035627167), (4650, 0.00291369931069786), (4651, 0.0), (4652, 0.006959441062191511), (4653, 0.005640484385845355), (4654, 0.0), (4655, 0.0), (4656, 0.007629219763180771), (4657, 0.002729384454217424), (4658, 0.0199904648539231), (4659, 0.0235718202463927), (4660, 0.008816293072121558), (4661, 0.00633700806139028), (4662, 0.0), (4663, 0.03279450213536398), (4664, 0.008516099300011862), (4665, 0.004574577939636234), (4666, 0.00624575032328202), (4667, 0.0), (4668, 0.028690496767730313), (4669, 0.015492525466058645), (4670, 0.006848594424887118), (4671, 0.0), (4672, 0.0), (4673, 0.013734970947057203), (4674, 0.005787447162717754), (4675, 0.0), (4676, 0.0), (4677, 0.007226291498591362), (4678, 0.004715176978610753), (4679, 0.018725799861996212), (4680, 0.0027116711744928136), (4681, 0.0), (4682, 0.047556482090810835), (4683, 0.0), (4684, 0.027592473887778385), (4685, 0.008939084683528015), (4686, 0.002551439673555756), (4687, 0.0024798705471827), (4688, 0.0), (4689, 0.04291454282972678), (4690, 0.0), (4691, 0.006248887308908626), (4692, 0.0031658445386857584), (4693, 0.0024635743266324837), (4694, 0.0029799396515033144), (4695, 0.011784777485543659), (4696, 0.0033226057436817526), (4697, 0.004282632908804984), (4698, 0.005566055076203875), (4699, 0.008066732917858166), (4700, 0.0), (4701, 0.026813402701318656), (4702, 0.0), (4703, 0.03343412394967265), (4704, 0.0034548564055374175), (4705, 0.0036260817428888804), (4706, 0.002863082443233246), (4707, 0.007924309197114073), (4708, 0.004578152801117167), (4709, 0.016276050700873845), (4710, 0.00903722525774957), (4711, 0.0), (4712, 0.0022842843283032827), (4713, 0.0029359206463355366), (4714, 0.0), (4715, 0.007168016491301172), (4716, 0.0), (4717, 0.0029946805054474088), (4718, 0.0029893855148694607), (4719, 0.004912020457018882), (4720, 0.0), (4721, 0.035509709695989544), (4722, 0.0180897110972239), (4723, 0.00310090615463497), (4724, 0.0470198964390734), (4725, 0.0), (4726, 0.005357462984646266), (4727, 0.031066252344282376), (4728, 0.0), (4729, 0.0026114125651850832), (4730, 0.0), (4731, 0.025474366897877264), (4732, 0.0027661061184490994), (4733, 0.005965512302462513), (4734, 0.002805786801946896), (4735, 0.016832454872681257), (4736, 0.0), (4737, 0.0), (4738, 0.00656566364430875), (4739, 0.032994541915988086), (4740, 0.0), (4741, 0.0), (4742, 0.0), (4743, 0.0024756567166289707), (4744, 0.0023836827745778344), (4745, 0.0), (4746, 0.00523258618884702), (4747, 0.013449666613431041), (4748, 0.007871909172076148), (4749, 0.0034036456368132157), (4750, 0.0), (4751, 0.0), (4752, 0.0018166640108966652), (4753, 0.0028919487884017663), (4754, 0.0), (4755, 0.0), (4756, 0.0025730702820495376), (4757, 0.007507657892105576), (4758, 0.0), (4759, 0.0)]\n"
          ]
        }
      ]
    },
    {
      "cell_type": "code",
      "source": [
        "len(Recommendation_Score)"
      ],
      "metadata": {
        "colab": {
          "base_uri": "https://localhost:8080/"
        },
        "id": "SuNiShLYQYGa",
        "outputId": "2408ee88-10dd-4c8b-979f-b72efc32ba0f"
      },
      "execution_count": 46,
      "outputs": [
        {
          "output_type": "execute_result",
          "data": {
            "text/plain": [
              "4760"
            ]
          },
          "metadata": {},
          "execution_count": 46
        }
      ]
    },
    {
      "cell_type": "code",
      "source": [
        "Sorted_Similar_Movies = sorted(Recommendation_Score, key = lambda x:x[1], reverse = True)\n",
        "print(Sorted_Similar_Movies)"
      ],
      "metadata": {
        "colab": {
          "base_uri": "https://localhost:8080/"
        },
        "id": "nzdEIVlAQgZe",
        "outputId": "1724eb1e-558d-4b72-c716-e6a028b5ae9c"
      },
      "execution_count": 48,
      "outputs": [
        {
          "output_type": "stream",
          "name": "stdout",
          "text": [
            "[(2692, 1.0000000000000002), (3276, 0.11904275527845871), (3779, 0.10185805797079382), (62, 0.10128854703131326), (2903, 0.10063787314386034), (1647, 0.09392133631822708), (4614, 0.09362023653857772), (4375, 0.09117158121324019), (45, 0.08996331544687566), (110, 0.08489901154275127), (1383, 0.08407490116717593), (628, 0.08334515876919323), (1994, 0.08286895346053205), (2558, 0.08267401633287075), (1070, 0.08105814311352261), (4378, 0.0789388517236268), (1341, 0.07732193166465193), (1977, 0.07509994703579169), (3465, 0.07497944796238434), (3053, 0.0732438108456325), (4116, 0.07263323214717171), (1982, 0.07246569778553744), (2538, 0.06801686844282605), (3248, 0.06679876545521254), (3946, 0.06577120166835922), (3480, 0.06560363079666712), (590, 0.06389125800668875), (254, 0.06351452702158421), (3450, 0.06274129874896524), (4594, 0.0624699521049894), (1886, 0.06245502428196606), (2112, 0.06218435141221765), (84, 0.06181962844998546), (675, 0.06176991517572303), (3854, 0.06161566270378365), (4137, 0.06155397462402231), (1134, 0.06151117832128867), (3463, 0.060706045656025415), (4252, 0.06059815508412411), (1118, 0.05998954734066491), (4389, 0.05962555280287477), (3385, 0.05898328865604495), (4062, 0.05895899420588936), (282, 0.058780797616944463), (4398, 0.05848106495843603), (424, 0.0583952756150975), (2358, 0.05826769637272555), (2318, 0.057764275798435405), (3462, 0.057434079728437545), (2985, 0.05717355295839895), (1021, 0.05671999964768967), (3728, 0.05632331020404153), (3334, 0.05583166085592837), (1243, 0.05520158300072489), (1970, 0.05299390678023471), (2026, 0.05264157910788357), (4123, 0.05255262820554276), (137, 0.05248618592824439), (3360, 0.052348832860019935), (877, 0.05120062839994659), (292, 0.05110461872364794), (479, 0.05090919315718398), (761, 0.050844325355354554), (873, 0.05064812913191185), (1030, 0.050582789674035046), (2191, 0.050557727650637894), (2944, 0.05045351690735307), (3655, 0.050377205680392896), (213, 0.050336492123290805), (4503, 0.05022606893696077), (1148, 0.05022542698748972), (1102, 0.05016977076463526), (3203, 0.0498349227897459), (1809, 0.049588147032597375), (227, 0.049272711641777656), (519, 0.049132143967920615), (2630, 0.04898534827274639), (4268, 0.04897698840881427), (2417, 0.048975289561833585), (2133, 0.04895498218883095), (384, 0.048561612573761986), (2214, 0.04836649295986437), (2550, 0.04836540834452215), (2579, 0.048167961252127585), (3395, 0.048164788157745886), (1878, 0.048051506952639246), (2294, 0.04801663260090347), (3010, 0.0475919192650606), (4682, 0.047556482090810835), (2374, 0.047351480752962534), (4724, 0.0470198964390734), (2653, 0.046972780396162435), (3374, 0.04659258370787397), (3294, 0.04624323347380142), (1023, 0.04614573925419343), (4456, 0.04581415655156011), (3974, 0.04564920918028945), (67, 0.04506617878405939), (412, 0.04505630348339674), (904, 0.04503803203387579), (3091, 0.04501840790205196), (2151, 0.04489615902161054), (2530, 0.04481510146028207), (4104, 0.044651126235844864), (682, 0.044629856272861555), (1257, 0.04460086738980612), (2971, 0.04458612684459293), (1261, 0.04456969916073905), (1302, 0.044531189691413835), (3023, 0.04447145760563039), (3793, 0.044287917473408704), (3753, 0.04423112263249478), (637, 0.044214370060605246), (2745, 0.04420821149757878), (3408, 0.044038090641925834), (328, 0.04375860708065464), (2694, 0.04368554902472678), (615, 0.043627287472934005), (1821, 0.04360775186675728), (161, 0.04350231968158566), (1203, 0.043288373397248), (3518, 0.04319206462177971), (2893, 0.043187343639666156), (1248, 0.043161123373055346), (277, 0.043056933195160275), (438, 0.04305454556025499), (3552, 0.04302665477519422), (2012, 0.042935532557081955), (4689, 0.04291454282972678), (1292, 0.04285331034785787), (673, 0.042771129509752294), (408, 0.04269519176334115), (3559, 0.04250405816899348), (1506, 0.042282195661912915), (455, 0.04213396440391408), (3973, 0.04191108684498302), (1358, 0.0418305667382064), (1393, 0.04178805890790345), (172, 0.041690425384126525), (4023, 0.04160114476508129), (3427, 0.041531685300663576), (1850, 0.041463441400268045), (2248, 0.04144905622988321), (360, 0.04140490881144238), (3652, 0.041202775143612466), (1871, 0.04118847530446093), (1713, 0.041056464531435785), (3249, 0.04101786522213684), (2321, 0.040942442097976595), (4588, 0.040768301448868956), (2869, 0.040554179176207086), (3209, 0.0404720498947614), (1675, 0.040396587516422805), (1369, 0.04026870066806862), (2846, 0.040251701278292695), (89, 0.04014172069257633), (3867, 0.040054590386141994), (2155, 0.040051671403206965), (3955, 0.03994760394636266), (2295, 0.03982190635490875), (185, 0.03980711555312548), (1320, 0.0397552488399696), (4488, 0.039716903106450485), (44, 0.03961500756520397), (1527, 0.03945167296049171), (632, 0.0392122687552506), (1652, 0.03914518063298302), (3373, 0.038926472514427574), (2859, 0.038910452486316145), (210, 0.038872494075225), (3947, 0.0387498132259521), (108, 0.03870776084834192), (109, 0.038488255428289986), (3409, 0.0380955187008168), (126, 0.03803330889536933), (2308, 0.03786870914432212), (4403, 0.037695251803000804), (2187, 0.03763919382653321), (2622, 0.03748821698202329), (3486, 0.03732895351299438), (2540, 0.037262447116274064), (3511, 0.03711419658637134), (1024, 0.037086309751285476), (4452, 0.03699444775560218), (788, 0.036775782506030336), (1676, 0.03676455186967415), (4396, 0.036691969771720574), (4362, 0.03662915792058017), (3127, 0.036590721490267514), (3362, 0.036552120564371654), (774, 0.03653446982082753), (2018, 0.03643311789824351), (3280, 0.03633050021075282), (4064, 0.03630173900756346), (1085, 0.036220050200905934), (3498, 0.036163887622597285), (2212, 0.036114079291876294), (2316, 0.03605001327712352), (2716, 0.03603309472599682), (4005, 0.03603237425304265), (2375, 0.036029161296792664), (911, 0.0358575708347082), (710, 0.03578003620402349), (4443, 0.035517277554201775), (4721, 0.035509709695989544), (874, 0.03548922024062819), (2371, 0.03544860769227722), (1991, 0.035374681386582986), (4165, 0.03529172143254559), (1241, 0.03526867161881802), (694, 0.035124429377463934), (3470, 0.03501442704271948), (3045, 0.035003610298872175), (3731, 0.0348845792305827), (1272, 0.034794423140693004), (2908, 0.03473005957705643), (2868, 0.03470945898809307), (3102, 0.03452469488743669), (830, 0.03447452468561071), (540, 0.03445972856479224), (1389, 0.03445847482617645), (4641, 0.03444472756108918), (2981, 0.03442583219886153), (818, 0.03439755809850987), (2109, 0.034351193399480395), (3430, 0.03431716793134811), (3351, 0.03422620342068501), (1568, 0.03407175603673968), (1379, 0.03405568461873221), (1702, 0.03401178055455821), (1311, 0.03394562412372114), (2123, 0.03394554340436231), (3255, 0.033861184392018406), (3556, 0.033840048590073044), (4209, 0.03371052248760336), (3315, 0.03368318725728786), (4152, 0.03363223725516116), (3330, 0.033615999671213884), (3983, 0.0334519178853037), (4703, 0.03343412394967265), (721, 0.03336245332783653), (547, 0.033359706532800286), (1236, 0.03334196963686731), (1752, 0.03333938657742233), (578, 0.03327659698334768), (4195, 0.033212478943244333), (2122, 0.03310797958980469), (334, 0.03309574460421296), (1367, 0.03305318613145185), (1063, 0.032999682519444545), (4739, 0.032994541915988086), (3656, 0.0328840451231678), (4663, 0.03279450213536398), (138, 0.03279443946295701), (3137, 0.0327916208226312), (1770, 0.03278254752073779), (3961, 0.03264229664682677), (3004, 0.03258207064728205), (2365, 0.03251802786423902), (387, 0.032510131604096076), (2476, 0.03244188996343836), (1464, 0.03242600299745582), (1837, 0.032401259419869995), (166, 0.0323661098486464), (462, 0.03225758483924034), (2147, 0.03211645644174453), (3466, 0.032114814160377606), (935, 0.0320740971372626), (4602, 0.03194663943884777), (1146, 0.03193270995829649), (2751, 0.03186976241331189), (864, 0.031859646347617454), (2082, 0.03185479182538151), (2621, 0.03183646636949805), (4533, 0.03178286889373967), (4096, 0.03175875014016261), (823, 0.03170971693957012), (65, 0.031680929113056686), (3377, 0.03163744650598561), (1195, 0.03160288863475456), (2517, 0.031512424391326496), (2100, 0.031466640098441356), (812, 0.03134358646342912), (1173, 0.03115696736861681), (3376, 0.031092236059193583), (1068, 0.031078132923886184), (4727, 0.031066252344282376), (1885, 0.0309975246079396), (1499, 0.030795662279307377), (3597, 0.030775366208795923), (3157, 0.030734252948015944), (179, 0.030707903325990372), (1868, 0.030647250708224397), (174, 0.030569480499441422), (2887, 0.03042186104241444), (3850, 0.030375083993213238), (1750, 0.030273505619146518), (3328, 0.03025804121512122), (787, 0.030232869208411416), (4590, 0.030203371027642804), (1043, 0.03019255761100538), (2023, 0.03015150758190247), (2807, 0.030117994968785384), (3720, 0.030103653738207493), (2014, 0.030095920732595108), (3880, 0.03002517213021349), (4004, 0.029992838221305277), (3814, 0.029939845599700934), (2413, 0.029928191550148142), (4272, 0.02992436166111102), (2710, 0.029886509110945304), (2614, 0.029830404117247723), (2037, 0.029818318344559037), (2443, 0.029803434615890047), (1648, 0.029774570647137483), (618, 0.029763248798137576), (530, 0.02972724760265825), (250, 0.029604530085672168), (1795, 0.029575494162562194), (1976, 0.029555193895324648), (2114, 0.029511754608396723), (3146, 0.02950375581868728), (629, 0.029453959844537546), (2782, 0.02944658831678445), (2706, 0.029422744288845587), (3572, 0.02940961122181051), (693, 0.02940723049563163), (3420, 0.02931512179853009), (4175, 0.029293305955632627), (193, 0.029212491040047014), (3767, 0.02918221667630718), (1973, 0.02915657413264359), (3835, 0.029118499325463853), (3326, 0.02909964641823298), (1788, 0.029045998553708444), (952, 0.029031084004495476), (766, 0.028942549118168227), (112, 0.028883857117453057), (4035, 0.028844313228595903), (3313, 0.028787092659189734), (1046, 0.028770836246212773), (1405, 0.028765339622841533), (4402, 0.028725825667323023), (1363, 0.028717455504198453), (4538, 0.028714680514426775), (4668, 0.028690496767730313), (1482, 0.028603312957890946), (976, 0.028498609827027066), (2481, 0.02847926123774087), (430, 0.028474447896110415), (2198, 0.028466562898500053), (2102, 0.02846476996299127), (2221, 0.028430482696010374), (1990, 0.02841823443604606), (2723, 0.02837260039695167), (4645, 0.02833924807672003), (465, 0.02831646493528287), (1398, 0.028222452550706812), (4177, 0.02821768382122208), (2487, 0.028167247887590854), (836, 0.028163617472560454), (1560, 0.028142719658602232), (3701, 0.028142362872818294), (3488, 0.027972950894929686), (428, 0.027941476362352217), (2394, 0.02789649584789695), (241, 0.02786768092960492), (371, 0.027757337402640993), (2876, 0.0277538535105631), (3871, 0.027741800504891185), (670, 0.027727287273577036), (2791, 0.027707263725674447), (2343, 0.02760157045044117), (4684, 0.027592473887778385), (2802, 0.027519755326030487), (1137, 0.02751617873397682), (421, 0.02749177219642947), (3174, 0.02743679517966769), (2013, 0.02738980043834609), (3344, 0.02738273881182292), (2920, 0.027341010288289676), (4160, 0.027334340235441686), (4450, 0.027311747667741446), (3574, 0.027301137102037586), (1500, 0.02729943310930179), (903, 0.0272937967913948), (3605, 0.02727626839240265), (1634, 0.027265975858920755), (1845, 0.027265399804362985), (1095, 0.0272442834935963), (284, 0.027210766517313724), (176, 0.027183803724459624), (3852, 0.027180211068101628), (3751, 0.027141688054117364), (1162, 0.027084968030862168), (593, 0.0269834518549629), (3447, 0.02698011448032207), (3959, 0.02683911116641474), (4701, 0.026813402701318656), (4548, 0.026746394406841196), (522, 0.026698875614092985), (2154, 0.026634248456284985), (1314, 0.026592309470275407), (4141, 0.02659035673909084), (2912, 0.02658806044432691), (3028, 0.026584450169584505), (167, 0.026576509643169363), (1205, 0.026572826699719294), (1430, 0.02653057804103264), (3688, 0.026503326352086173), (2687, 0.02649157921540691), (1720, 0.026475090126577592), (4242, 0.026461169972595094), (3017, 0.026433528583146154), (1847, 0.026414408749898702), (240, 0.02640845016796004), (852, 0.026315624754250793), (1059, 0.026187328256908955), (4283, 0.026170776624460865), (3684, 0.02617013397365263), (832, 0.02610503660845372), (381, 0.02609320340969504), (3904, 0.026076749500281174), (3167, 0.026076234240691325), (3154, 0.026066916297209954), (459, 0.026041390263338297), (2276, 0.0260185306389693), (4354, 0.025994395360737256), (2762, 0.025978139799913626), (3260, 0.0259547978921697), (2972, 0.025930707245690767), (2048, 0.025630662986200578), (25, 0.025599735051648736), (4294, 0.02557831459377292), (3573, 0.02554701781763867), (3285, 0.025535099925396786), (1721, 0.025533989711209664), (1060, 0.025524774616417), (2467, 0.02552401265792079), (3156, 0.025478564673155277), (4731, 0.025474366897877264), (1181, 0.025353145098316), (2173, 0.0251380259248296), (942, 0.025136817035286883), (2011, 0.025123628978433857), (2094, 0.02510748187337649), (2761, 0.025056785877878327), (124, 0.024984856011144883), (3801, 0.024933979127794374), (1763, 0.024932016324609594), (3711, 0.02491200660691427), (1351, 0.024875575685802023), (967, 0.02484089246980712), (1749, 0.024814387662836442), (345, 0.024810017603901623), (3963, 0.024787115409651922), (1572, 0.024743005739575757), (2408, 0.02472916343988951), (269, 0.024721903537036544), (4554, 0.02471715878629297), (1999, 0.024674542916240657), (3746, 0.024583337427732433), (1544, 0.024572280605182628), (3428, 0.02456923830922676), (824, 0.024543077975361635), (657, 0.024534899755103357), (2689, 0.024527497165292594), (2020, 0.024232446825006915), (3692, 0.024224464065459233), (1530, 0.02422073045044451), (116, 0.02419830146584777), (2560, 0.024170835897050866), (3872, 0.024064408682811175), (2484, 0.02391517705724991), (3446, 0.02376118362596693), (2950, 0.023732959516752646), (885, 0.02372906869332012), (4281, 0.023693093986547096), (1412, 0.023629897886256662), (2638, 0.023625589296039667), (4659, 0.0235718202463927), (2649, 0.0235700589676888), (3810, 0.023564144129146345), (155, 0.023537392491492296), (1057, 0.02343689806084697), (2713, 0.023432161916103617), (3773, 0.023393650403413152), (1283, 0.023375973429109315), (175, 0.023330531483932517), (3868, 0.02332731372109037), (2699, 0.02329842729851504), (1865, 0.023290376870243032), (29, 0.023288277583204436), (1186, 0.023229264871711574), (2718, 0.023196324557976503), (3153, 0.02316836252551239), (1997, 0.023141379590983783), (706, 0.023120250550801212), (2040, 0.022971083176738613), (1585, 0.02294775132215635), (4534, 0.022880025826455132), (515, 0.022803734079076352), (2647, 0.022787415270689934), (917, 0.02278255164081886), (1935, 0.022777338759990606), (641, 0.022733185998566535), (4053, 0.022649732315453208), (3891, 0.022644363801908637), (68, 0.022589410734540884), (15, 0.022555309119982825), (3839, 0.02252722704222763), (3913, 0.02250739185219301), (1362, 0.022486116233772672), (1015, 0.022477148208897783), (1861, 0.022366892640085945), (691, 0.022330801569338962), (3095, 0.02232378376646734), (261, 0.02232369294417245), (88, 0.022301178722772527), (2157, 0.02224516374878037), (1996, 0.02223160192984543), (1141, 0.022221388090035325), (2096, 0.022160704644622064), (613, 0.02210391733671185), (1515, 0.022061747166271108), (4050, 0.022052871866018453), (3483, 0.022015857129812924), (398, 0.02199487279417078), (2449, 0.021985066932388473), (1505, 0.02197962922086112), (3433, 0.021966964386044636), (3778, 0.021875654909352157), (257, 0.021798986073708497), (1707, 0.02178246757983246), (4128, 0.021763835526702892), (4288, 0.02174538242935304), (672, 0.021739478274217176), (1492, 0.02170796819819307), (2210, 0.021656005592106047), (4608, 0.02163472384787619), (3345, 0.021626760319634532), (1397, 0.02160100381016067), (2822, 0.02154563531990172), (2777, 0.02151782398151878), (1757, 0.021517453249443916), (1629, 0.02146178758408391), (3068, 0.021428198704923945), (3384, 0.021404263877822273), (2668, 0.02139353486446478), (2646, 0.021358135818460758), (1033, 0.02131872778807823), (442, 0.021288297567688543), (2598, 0.021286136322991416), (3916, 0.021278915392035185), (4189, 0.02126938217959492), (1270, 0.02121018026952485), (1942, 0.02115515210916598), (4176, 0.021134554566218156), (3927, 0.02110630173281142), (3222, 0.021059638111235027), (3553, 0.0210499452925294), (3492, 0.021034828753309146), (1985, 0.02101068379839886), (3665, 0.021010623387236353), (4016, 0.02100276004932242), (3629, 0.020937690266942786), (1385, 0.020819608375770078), (4466, 0.020787788619053546), (1817, 0.020764535380750283), (3469, 0.020745192410467787), (2440, 0.020740361118753315), (763, 0.02068653089104923), (1678, 0.020673887474664004), (2301, 0.02062958394471402), (1017, 0.020619477261506515), (1671, 0.020616094198092412), (2055, 0.020613855739721347), (2174, 0.020610038972830633), (3352, 0.020597641005833636), (2524, 0.020512095836687585), (1510, 0.020492857251630348), (4395, 0.02048836738664774), (3319, 0.02042323292226775), (3471, 0.020413598846250346), (1003, 0.02040558863047458), (4382, 0.020364996372131905), (870, 0.020332227193004895), (3978, 0.02031608323873614), (3083, 0.020305822398005775), (1471, 0.020290800155578558), (3923, 0.02029069850345378), (1132, 0.02024112189256083), (2768, 0.02022019513311771), (643, 0.020148967367649786), (2808, 0.020148475915238922), (2582, 0.020104138588029275), (2501, 0.020059505094761957), (3254, 0.020009106435796443), (4658, 0.0199904648539231), (2995, 0.01996032958314584), (3504, 0.019914683604169117), (4492, 0.019899268614655036), (330, 0.01989813316934488), (3508, 0.019890126481332447), (1098, 0.01988028147728714), (199, 0.01987879051622169), (3857, 0.019864910138943533), (1838, 0.019828781259888087), (779, 0.019778519028090427), (1657, 0.019727907484860367), (4436, 0.019687104256688303), (2841, 0.019676348061339218), (329, 0.01967474530279273), (3934, 0.019671452130892175), (1927, 0.019666226186328104), (1052, 0.01949757886898508), (4156, 0.01949743389303669), (383, 0.019467817150654654), (4007, 0.019400521420680113), (968, 0.019350112926022296), (2362, 0.019305653311181028), (463, 0.019270774055312006), (142, 0.01924033807026037), (4088, 0.01922832251426591), (947, 0.01918803569573748), (2867, 0.01918697767849236), (2469, 0.019146859249126912), (33, 0.019130266147757837), (669, 0.01912890018109188), (145, 0.019128060100674707), (4465, 0.019123743707399048), (4380, 0.01909520187198896), (566, 0.019085435302379772), (1202, 0.019084438333982035), (2767, 0.019020439331965698), (2736, 0.01900887034546454), (2618, 0.019006886977873012), (2607, 0.018968203006652203), (768, 0.01889780127429161), (3111, 0.018849760702424365), (3853, 0.018848891794499875), (1386, 0.01883315792718334), (2932, 0.018807248735502158), (2237, 0.01876993031567671), (4203, 0.01875506443394477), (4149, 0.01872831087468419), (4679, 0.018725799861996212), (2760, 0.018708875717397135), (204, 0.018686269670332167), (553, 0.01868549971500158), (3144, 0.01868398340994474), (3403, 0.018660157099761064), (4028, 0.018654871009725956), (689, 0.01859014436854392), (3284, 0.018580379689813888), (2650, 0.01857903871456149), (46, 0.018550346824932534), (83, 0.018499253040803937), (1937, 0.01842838754823932), (3097, 0.018399578507274313), (1443, 0.01831419707001223), (1074, 0.018313355636506795), (3000, 0.018313196560767752), (2645, 0.01830642082683205), (160, 0.018296700095121736), (2368, 0.018292825697735136), (2513, 0.018276897871510427), (123, 0.018256088885426403), (3416, 0.01824018993361663), (757, 0.018171478905814088), (364, 0.018118667495208754), (1872, 0.01809054728158338), (4722, 0.0180897110972239), (3875, 0.018078943775698533), (1226, 0.018073460855467367), (1175, 0.01805031459570411), (3828, 0.017989862890400707), (4081, 0.017985275912985554), (147, 0.017981508534884325), (2795, 0.017963854794401393), (796, 0.017956923058284606), (4640, 0.017919357514542884), (808, 0.0178813433073401), (858, 0.01786248303974472), (222, 0.017856013028360415), (2035, 0.017841694875906363), (1112, 0.017813605174201986), (2167, 0.01780073194851991), (1365, 0.017784588946112626), (2070, 0.017784222323076814), (1843, 0.01777743540800436), (1384, 0.01776073215692501), (1129, 0.017757748873229732), (61, 0.017658795452635247), (342, 0.017625924860547256), (1274, 0.01759247947637767), (4349, 0.01758778225581641), (2823, 0.01753869196282759), (106, 0.01750978735299645), (4012, 0.01748298013842142), (4504, 0.01746404208006734), (4440, 0.01744862397356858), (3085, 0.017437934675130204), (2553, 0.01743749009788074), (2149, 0.017415457787932277), (1579, 0.01741169993185602), (2654, 0.017382359957643635), (2093, 0.017353497854371687), (144, 0.017350164505517556), (1245, 0.01733780597970789), (2110, 0.017271256808444865), (173, 0.017248987581175608), (4637, 0.01724460205261897), (1064, 0.01723362178999547), (203, 0.017224644176647017), (3129, 0.017151391865162083), (1493, 0.01711277449731133), (3279, 0.017105443739218438), (1403, 0.017089358343226592), (3528, 0.017064378305444217), (409, 0.017054100820530427), (4321, 0.017025147418025858), (3036, 0.0170045976237138), (3766, 0.01696331878300543), (2207, 0.016959013586731735), (3675, 0.016956370936491695), (2742, 0.0169510462112069), (794, 0.016938690601848962), (2119, 0.016934204248724848), (776, 0.016907198857134393), (4399, 0.01690382353828356), (1759, 0.016900019192624616), (916, 0.01685526670172187), (4735, 0.016832454872681257), (3098, 0.01682852088519415), (677, 0.01682212880742526), (1377, 0.01677239649729266), (3226, 0.016748323767747708), (2712, 0.016746711251381167), (279, 0.01674439634537899), (212, 0.01673880855230024), (3213, 0.016732089386443567), (795, 0.016724564291810132), (2406, 0.016708556127859726), (3228, 0.01664828857203829), (3976, 0.016645328263089863), (2258, 0.016643517179834394), (3275, 0.01662313552463738), (937, 0.01661899895760169), (433, 0.016594829303328437), (2885, 0.01657485986980575), (3019, 0.016559249698570755), (2161, 0.016492732764830178), (638, 0.01648509407336536), (860, 0.016481212100768684), (2917, 0.016466942404501018), (1275, 0.016413131014958164), (2353, 0.016410806578490422), (2347, 0.01639685823001414), (1609, 0.01637974564657768), (209, 0.016326637209159098), (218, 0.01632411518885713), (853, 0.01631617715415653), (4244, 0.01629601541420167), (888, 0.016290144504907837), (551, 0.016277960178301926), (4709, 0.016276050700873845), (876, 0.01623582664127015), (1417, 0.016231265772845838), (1216, 0.016218758000979574), (3883, 0.01621442671515648), (1184, 0.016195572624646895), (511, 0.016166552419491664), (280, 0.016137491106088885), (3043, 0.01610029046651232), (1254, 0.016063876077209334), (1445, 0.01603828875201241), (533, 0.016010926523649965), (586, 0.015988875724913573), (1716, 0.01595197124615093), (3012, 0.015947957006243817), (1018, 0.015916387917578455), (4246, 0.015893931602475153), (701, 0.015878620948365185), (1774, 0.015876691830685904), (458, 0.015870023605061873), (3640, 0.015863756083686856), (1523, 0.015826030293870766), (343, 0.01579152187174405), (692, 0.01577967045091189), (3541, 0.01576609594822901), (4531, 0.01576378990483101), (1045, 0.01573955133257391), (4231, 0.015723365320349278), (48, 0.015673410180680997), (2290, 0.01566356037352764), (3895, 0.01565752388060252), (2996, 0.015653139750044374), (3661, 0.01564577425342385), (3713, 0.01563636497117768), (450, 0.01560752704400831), (1361, 0.01559170524283206), (3299, 0.015574789122903308), (85, 0.015565012350455393), (2229, 0.015544826585311831), (896, 0.0155282835238262), (4583, 0.015508694731240181), (4669, 0.015492525466058645), (1741, 0.015474028235632738), (481, 0.0154679891026844), (374, 0.015463425047547465), (1512, 0.015450085039927697), (867, 0.015447275691157163), (3642, 0.015425038196230128), (1325, 0.015417810296419088), (1906, 0.015401803610698445), (3694, 0.015394318681617917), (620, 0.015388316054734364), (762, 0.01538191168609804), (2376, 0.015381706835274796), (3086, 0.015355891581794467), (4134, 0.015345894727775013), (4627, 0.01533892397197596), (2275, 0.015316455005783686), (40, 0.015305064222782005), (3306, 0.01529741628500451), (2254, 0.015264388099765314), (358, 0.015243608715788372), (4482, 0.015224187733738171), (21, 0.015211614027840471), (4474, 0.015197193596313215), (929, 0.015191575203200598), (3407, 0.015188101228411119), (1119, 0.015186381940099643), (287, 0.015182057023698533), (3797, 0.015180192825309777), (2522, 0.015160218557647749), (296, 0.01515965845256877), (2298, 0.01514742367875594), (2027, 0.0151191157039422), (622, 0.015113986092994434), (1687, 0.015081911122046706), (1115, 0.015070109446430932), (2639, 0.015060665745970907), (1853, 0.015056577491359779), (2196, 0.015042024005156444), (3580, 0.015038373034198032), (3777, 0.015028360199048494), (1880, 0.014966021703830552), (51, 0.014965979411782002), (3253, 0.014939574082136198), (4178, 0.014936139212549819), (2931, 0.014891762816566897), (3437, 0.014891037533611887), (3375, 0.014880499821232832), (1897, 0.01487409258896271), (502, 0.014871504175210649), (437, 0.014861035759572141), (43, 0.014850933437336278), (1224, 0.014848645936442455), (3862, 0.014842136261142808), (879, 0.014840329123637929), (543, 0.01481514022208621), (1983, 0.014814035816852505), (4314, 0.014796459761395613), (1290, 0.014777382188583715), (447, 0.01477043861892446), (4379, 0.014736548155236593), (1919, 0.014719806137395638), (584, 0.014716743508964514), (429, 0.014707881042073087), (1682, 0.014696287016106866), (2919, 0.014694787924982376), (2053, 0.01468579094084932), (1278, 0.01468403973349571), (3670, 0.014636928645548691), (2334, 0.014635391838504052), (3807, 0.014618430955839725), (1779, 0.01460504186918228), (2644, 0.014604632621238843), (895, 0.01460237092913534), (3421, 0.014570533357246243), (208, 0.014564317291621241), (2939, 0.014557655967115493), (652, 0.01454961180007468), (2784, 0.01453920272142293), (3210, 0.014538289713480756), (3699, 0.014528971303086509), (1337, 0.014525128339516991), (1740, 0.014510564426729732), (2815, 0.014499548102756396), (3558, 0.014470291425645933), (470, 0.014467727368183025), (1895, 0.014460083088388845), (1116, 0.014454249635706785), (4068, 0.014451184354152647), (899, 0.014447475092827195), (1114, 0.014436591435942683), (4000, 0.014407155502978934), (4486, 0.014392360792476595), (1335, 0.014374250246040573), (1192, 0.0143731268998252), (1232, 0.014332272718424209), (1058, 0.014326445616965337), (482, 0.014312251205569164), (957, 0.014312073755375083), (2284, 0.014301377390974099), (510, 0.014296999476996843), (842, 0.014292048885850284), (934, 0.014284810246050515), (1413, 0.014241597042222859), (2695, 0.01423416163407648), (1152, 0.01422901177340137), (986, 0.014213770613722879), (1509, 0.014205028339216105), (370, 0.01420054720460225), (989, 0.014187028599892688), (2988, 0.014148959205037389), (988, 0.01412798260288335), (1483, 0.014114297878227612), (1035, 0.014106746239706187), (1252, 0.014092427003677886), (1331, 0.014069567805799925), (2727, 0.014058481372388208), (181, 0.014055923457905324), (534, 0.01404914416124758), (1621, 0.014022952914941237), (2961, 0.014001569133349953), (406, 0.013996421309263717), (3356, 0.013971822886881381), (3295, 0.013968875858135311), (2045, 0.013941721469670178), (2216, 0.013940524941684532), (2910, 0.013917633478282367), (1343, 0.01389051771315445), (4255, 0.013890036307368781), (252, 0.013883632146620802), (1401, 0.013871911631009875), (4387, 0.013870068941198363), (251, 0.013867966455367267), (799, 0.013866844082999446), (2632, 0.013855750214519468), (3535, 0.01384066315171278), (1967, 0.013818817488233139), (3370, 0.01380703577095855), (1876, 0.013797207843950315), (1461, 0.013796549363393393), (52, 0.013794151590779393), (676, 0.013789398295783881), (231, 0.013776051933969073), (1945, 0.0137474566656582), (1481, 0.013745882764066384), (4610, 0.013744585645274584), (4673, 0.013734970947057203), (87, 0.013731711116033066), (317, 0.013718664877306868), (3660, 0.013715714758141272), (2468, 0.013656866052808383), (18, 0.013639140329970214), (2024, 0.01362143661567416), (1478, 0.013620535837126016), (2366, 0.013612750486970526), (866, 0.013604347895324657), (3861, 0.013592128894296429), (1465, 0.013588900862715182), (775, 0.013579403901622428), (3312, 0.013575887940800117), (3741, 0.013573253988566418), (753, 0.013549278832237003), (1591, 0.013536957187268665), (1815, 0.013530410151107168), (905, 0.013517763546042599), (1665, 0.013510504513403267), (4374, 0.013502219765834437), (2224, 0.013497855033642384), (1986, 0.013493135880573888), (814, 0.013491398741942807), (3708, 0.013488430566793386), (545, 0.013484509510887666), (4124, 0.01345966408865568), (4747, 0.013449666613431041), (878, 0.013435345188327827), (3819, 0.013430526732527343), (276, 0.013411097022715944), (760, 0.013408755868769412), (496, 0.013380597753649607), (2460, 0.013376869670064453), (2805, 0.01337622010500621), (1128, 0.01336917289326851), (236, 0.013361417399169878), (2486, 0.013345114807622599), (4524, 0.013344104735653138), (2008, 0.013341066428520627), (4576, 0.013322565100077892), (4227, 0.013305220394611121), (4121, 0.013294058510116134), (332, 0.013291392972049707), (1595, 0.013288810853055517), (604, 0.013249894763485962), (3630, 0.013248693386756738), (4475, 0.013240933729776284), (1107, 0.01323030195871474), (1183, 0.013202196863777403), (207, 0.013200856531198197), (2177, 0.013196531145282497), (1864, 0.013194620422679212), (3119, 0.013176467645873434), (3958, 0.013163592055294058), (2066, 0.013148930864670519), (3110, 0.013148818620795283), (4617, 0.013145152122535166), (1667, 0.01310952332403104), (1317, 0.013108214877379084), (4512, 0.013093704759115733), (1681, 0.01309025935340851), (356, 0.013085040436305779), (906, 0.013082769368796992), (1802, 0.013074188414515001), (829, 0.013066966695139522), (2121, 0.013058990839796135), (7, 0.013052833623717551), (1255, 0.013033955545722106), (70, 0.013024158326231012), (1239, 0.013018313167508913), (2969, 0.012999702326476783), (2383, 0.012996311044988591), (1796, 0.012978653060000052), (1739, 0.012958977357616433), (1360, 0.012945710875005366), (1680, 0.01291743018214525), (1237, 0.012912305289275415), (13, 0.012904730427356216), (742, 0.012894943260307042), (75, 0.012892746449532828), (875, 0.012827135012767513), (900, 0.012826180872846045), (963, 0.01282335978690511), (3318, 0.012819891469810527), (1342, 0.012810383884372372), (125, 0.012801531158627047), (1000, 0.012794194783292075), (2803, 0.012793068741483529), (2602, 0.01278415308684145), (3325, 0.012772646576997553), (833, 0.012768979339293338), (678, 0.012742047816080886), (1005, 0.012739766401619185), (3659, 0.012739067427470985), (537, 0.012728576163409102), (2978, 0.012709399900374011), (1519, 0.012685818153036854), (2874, 0.01265572234260289), (1293, 0.012626438182478505), (2252, 0.012593659017289198), (3076, 0.012578428563124638), (407, 0.012576162839507807), (3768, 0.01255985800340293), (844, 0.012547501024285897), (2617, 0.012541240022816237), (1654, 0.012540041832924622), (1934, 0.012539956907845921), (1432, 0.012532163350573918), (3750, 0.012526912155733273), (2000, 0.012490298103748571), (2963, 0.012480046815579984), (1376, 0.012466645216347681), (1988, 0.012449725425893047), (1787, 0.012442697756126275), (3637, 0.01243969337920028), (609, 0.012435461383005303), (4337, 0.012416145648083689), (527, 0.012408426657113936), (4510, 0.012405884400525893), (4095, 0.012383389059452028), (1220, 0.012381759539653547), (653, 0.012375534050153165), (4265, 0.012370029362516657), (1436, 0.012367187829493916), (418, 0.012363494963790644), (1567, 0.012359315313796792), (2412, 0.012351300951143736), (3387, 0.012347930653235598), (936, 0.01234265025239465), (800, 0.012330020065717276), (654, 0.012319247296879221), (1185, 0.012314336497917706), (3108, 0.01231220286640056), (733, 0.012306039017932945), (1104, 0.012302637341744903), (667, 0.012288709705708509), (648, 0.012276976101265272), (2052, 0.01225214405332025), (1799, 0.012247251568054), (732, 0.012246140444081056), (664, 0.012230253012714354), (635, 0.012208498691708229), (2447, 0.0121981990548146), (928, 0.012197126426804043), (201, 0.012194922563079247), (1714, 0.012178167385634266), (1009, 0.012169281258981316), (3317, 0.012168211701455187), (190, 0.012138750265674795), (3849, 0.012136778904133085), (130, 0.012121552250700485), (1949, 0.012117068410179694), (3507, 0.012112273835045064), (2780, 0.01210224105429486), (918, 0.012095561193692973), (1542, 0.012086591734529275), (2771, 0.012067572961847038), (1157, 0.012051794532274002), (341, 0.012040276910772649), (2474, 0.012025234810505206), (2235, 0.012010628945253024), (4469, 0.012008625600884141), (1812, 0.011945304239266106), (1832, 0.011937535410330451), (1958, 0.011930177810282319), (1194, 0.011920690598639651), (2788, 0.011899567306988528), (1047, 0.011899492820202449), (82, 0.011893562226239041), (1264, 0.011891929461674016), (1407, 0.011882829323888736), (684, 0.011871358330222063), (1099, 0.011857342491158735), (1310, 0.01185612654854879), (4148, 0.011855844933081963), (3999, 0.011834468356820938), (2005, 0.011813232567949578), (3747, 0.011810499294329865), (452, 0.011805040282430304), (4695, 0.011784777485543659), (523, 0.01175475224186366), (149, 0.011746502833415905), (1215, 0.011742448125855624), (1870, 0.011740752102274906), (86, 0.011733600538844122), (4344, 0.011726694019006622), (560, 0.011722801684245478), (1419, 0.011702375166221541), (1396, 0.01169412559915647), (1455, 0.011670215937804021), (2145, 0.011667846006835805), (72, 0.011646896738359485), (4623, 0.011645129844427069), (2697, 0.01164326580438093), (827, 0.011641249331077354), (3756, 0.011635471912017534), (2336, 0.011622841866254629), (3065, 0.011619083689333927), (3957, 0.011607958307563657), (2913, 0.011605971956876526), (313, 0.011588694147227201), (695, 0.01158036555960466), (4596, 0.011579153357762677), (4543, 0.011558284384464147), (2421, 0.011536178115762116), (1090, 0.011525432717525062), (2306, 0.011519597561857308), (825, 0.011502463058567088), (809, 0.011479133401637472), (1303, 0.011472774174722892), (1262, 0.011472350547405401), (244, 0.011432084378915757), (1761, 0.011427305445703435), (1989, 0.011425033991382281), (1406, 0.01142356735170328), (2925, 0.01142089851991689), (2480, 0.01141380060264676), (1266, 0.01140830004039545), (931, 0.011402521374628449), (500, 0.011394640286044188), (1249, 0.011389854850356616), (2178, 0.0113669134146629), (2280, 0.011339937790801367), (2057, 0.011329229612680597), (790, 0.011328819098868296), (1053, 0.01130468493347921), (2688, 0.011270495067961695), (2918, 0.011259905548717232), (3582, 0.011259061337536048), (3240, 0.011249340870596558), (3951, 0.011248990575539243), (915, 0.011247273022572186), (4477, 0.011228310788786396), (1230, 0.011218996224828769), (1873, 0.011193286227882262), (1259, 0.011174909984225899), (2206, 0.011172010115684573), (4481, 0.011167684757927798), (4216, 0.011146761005533329), (1957, 0.011137942106856136), (1420, 0.011136701240334801), (2568, 0.011135731584107677), (1630, 0.01109041057168381), (1655, 0.011075509113125723), (402, 0.01107405936980512), (1012, 0.011073726061790794), (3794, 0.011070808538151015), (1019, 0.011046732439510036), (2625, 0.01104219074147417), (1054, 0.011041840595075358), (274, 0.011035641459288753), (1852, 0.011026946944593252), (719, 0.011021069857465697), (2555, 0.011014281773315506), (322, 0.011011274215599966), (1551, 0.010990327322037603), (321, 0.010986472140838744), (1696, 0.010965269002219375), (3524, 0.010961937364451937), (3993, 0.01095591809089824), (1773, 0.010955897824683977), (2346, 0.01092789141982469), (1992, 0.010919745889197363), (4187, 0.010905512014133225), (2759, 0.010896125543937797), (3992, 0.01086432393823145), (417, 0.010857053144102818), (532, 0.010853692109028056), (273, 0.010851325289581416), (281, 0.010850110374057989), (683, 0.010849053346866724), (3118, 0.010846767325738211), (3775, 0.010845748481928298), (4325, 0.01084142860251558), (538, 0.010837176004175735), (57, 0.010835008478228547), (2429, 0.010834879177906962), (949, 0.010829412244014524), (2062, 0.010827602309256912), (2992, 0.01082587940387749), (555, 0.010805867563405055), (1789, 0.010793270926753161), (304, 0.010771237257394612), (1858, 0.010754515078436713), (2769, 0.01074689549252221), (4293, 0.01072496987906045), (2680, 0.010714347050969809), (4235, 0.010709589001293521), (801, 0.010706527010059561), (1923, 0.010674188244428695), (4164, 0.010673730619986933), (3423, 0.010659284770284681), (4366, 0.010659267262385468), (266, 0.01065778357874695), (291, 0.010653646520640754), (3094, 0.01065336531088578), (4032, 0.01062426291591163), (4551, 0.010613172359685247), (148, 0.010606847740924956), (4619, 0.01060441183101697), (3070, 0.010598419375490312), (3860, 0.010596852864015089), (170, 0.010590419372720969), (1754, 0.010587649198346934), (3924, 0.010565245191918267), (2739, 0.010547486722511865), (2464, 0.010540963361888974), (4048, 0.010521792466705355), (271, 0.010513499130038398), (1694, 0.010513472896726075), (2162, 0.010511519475204902), (1061, 0.010507632412785354), (1723, 0.010497387610157081), (501, 0.01049493367325733), (2403, 0.010493796539942174), (468, 0.010463311697229982), (2097, 0.01045894025071592), (1513, 0.01044338375062993), (847, 0.01044101072550268), (3903, 0.010429036686855615), (1662, 0.010422019588148998), (3426, 0.010402151809410325), (3099, 0.010396584806118781), (333, 0.010396337231622678), (2871, 0.010392375754106323), (1874, 0.010386980241245819), (47, 0.010374759033888029), (2051, 0.010344199308264645), (2505, 0.010331751373103264), (2936, 0.010306720091939782), (485, 0.010299890463609936), (737, 0.01026893790075737), (2740, 0.01025165340770671), (2546, 0.010238838114612257), (354, 0.010230546896631672), (3822, 0.010223052421538082), (792, 0.010222756878867782), (3232, 0.010219025396684383), (4553, 0.010218964168198983), (1339, 0.010215355248166094), (3297, 0.010212639038269283), (206, 0.010195242814014389), (1348, 0.010179442553051095), (1234, 0.01017704717228794), (2436, 0.0101763666679201), (2849, 0.010160919483403277), (483, 0.010147679894977592), (4033, 0.010139571461229513), (2209, 0.010136547687141511), (4605, 0.010113684386539628), (99, 0.01010872536394476), (3984, 0.01010705541509902), (1418, 0.010098426231237303), (1658, 0.0100804736714881), (979, 0.010057925544425323), (1781, 0.010055381341056314), (270, 0.010051574363539168), (1736, 0.010050719738981532), (715, 0.010047304304865666), (2049, 0.010037773592981785), (327, 0.010031091446491825), (3382, 0.01002898874098722), (2633, 0.010017576918046866), (4106, 0.010011298899255085), (1727, 0.009993058828174554), (2016, 0.009977672051937518), (2929, 0.00997316401811581), (542, 0.009967431534984025), (5, 0.0099650467187842), (216, 0.009963290254012122), (806, 0.009917257818341274), (2126, 0.009911946717288973), (120, 0.009909233957809672), (2915, 0.009901438303503266), (621, 0.009889241145799683), (1300, 0.009883442651908877), (2074, 0.00987182120936709), (3674, 0.009866519236776755), (2116, 0.009826879593775987), (2494, 0.009816232741765765), (0, 0.009804663142131673), (2489, 0.009794792049552446), (1359, 0.009783202046901831), (3142, 0.009780946378231925), (1708, 0.00977923271618291), (2820, 0.009779034642035583), (1798, 0.009774556470432893), (994, 0.009765221265087332), (288, 0.009765024267620279), (4371, 0.009762962232144623), (1440, 0.009759613744201243), (544, 0.009753397860988314), (4158, 0.009751867548943579), (1092, 0.009742359298906326), (1712, 0.009732335194850533), (2964, 0.00972958693050268), (3949, 0.009725553805078438), (3218, 0.009706451974298726), (105, 0.009705320700138752), (1619, 0.009703084106321473), (1922, 0.009702305857966465), (3679, 0.009695639399177612), (2934, 0.009681263395234521), (3155, 0.009676211786595723), (3635, 0.009665858977192597), (1951, 0.009660200117561584), (2565, 0.00965865847843089), (243, 0.009657125074563578), (4435, 0.009657090753751577), (2418, 0.009651250070554153), (1685, 0.009633240613946496), (1334, 0.009629056307400734), (4052, 0.009622904531408717), (1494, 0.009620636932142096), (3612, 0.009607770668871866), (1075, 0.009591487522932454), (2250, 0.009588941854042049), (1442, 0.009588530770942587), (3264, 0.009579020879864363), (4060, 0.009553517487109293), (2512, 0.009541774671390677), (2545, 0.009526784859773532), (2640, 0.00952611762719149), (2886, 0.009525537613077782), (894, 0.009520685601523226), (1438, 0.009518400966834185), (3919, 0.009518026688365582), (1006, 0.00951241049788545), (3599, 0.009506050817401746), (3888, 0.009504858503433095), (2601, 0.009495593230104763), (1475, 0.009491808199921726), (2279, 0.00947604700592093), (435, 0.009475263814794346), (2655, 0.009474781634864609), (3171, 0.00947002614921426), (2197, 0.009457416933090535), (1048, 0.009456152424976076), (1338, 0.009452837320157953), (970, 0.009447726677397602), (3536, 0.009447284878491278), (4025, 0.009445947734436947), (1124, 0.009439593845048234), (2744, 0.009436372522052039), (3689, 0.00941773693384183), (1279, 0.009412890555884736), (78, 0.009399606571884909), (1382, 0.009397520106118782), (2029, 0.009383399674635615), (897, 0.009374290283122127), (472, 0.009373398474922641), (2075, 0.009368083693250751), (4444, 0.009365163175242898), (1860, 0.00936372403435563), (631, 0.009355753114462769), (3215, 0.009351852172126342), (2977, 0.009322674076250256), (4442, 0.009322506640795744), (4192, 0.00930711991890133), (1936, 0.009303072561622772), (1077, 0.00930179774986171), (2789, 0.009294658062080453), (1182, 0.009289577849239705), (2080, 0.009286183430238319), (1688, 0.009282366167312775), (850, 0.009269227266584062), (1087, 0.009256465476499658), (828, 0.009252538894557493), (3643, 0.009249751025514882), (353, 0.009247125239823462), (668, 0.009246961926863213), (2798, 0.00924585532579227), (4546, 0.009241565345370469), (396, 0.009236073372609652), (2277, 0.009229634965057291), (3386, 0.009225598651981193), (2255, 0.009224149251331642), (1582, 0.00922233288426478), (2948, 0.009213541283917926), (464, 0.009197457341167534), (2752, 0.009192679728709074), (2193, 0.009187482174840207), (182, 0.009177613098031678), (1854, 0.009176046001831141), (104, 0.00916249023695782), (2228, 0.009156965667265397), (2144, 0.009146366003507966), (697, 0.009141124051525475), (3237, 0.009138138840003165), (2980, 0.009136655257671046), (1160, 0.00912265594299187), (2831, 0.00911547050081377), (3293, 0.009096209292500382), (434, 0.009089588400297183), (3346, 0.009080805971871126), (79, 0.009076618790839581), (1612, 0.009066688687457697), (4511, 0.009055944146683143), (939, 0.00905267486378268), (346, 0.00904732990567095), (4710, 0.00903722525774957), (651, 0.009026111961319224), (4257, 0.009023152151567019), (3596, 0.009010933192656957), (3941, 0.009006310584675216), (1948, 0.009000162207463878), (3067, 0.008994553672545934), (1620, 0.008987057234226398), (2463, 0.00894983822573773), (4685, 0.008939084683528015), (119, 0.008931608055390767), (1807, 0.008930900977394138), (3046, 0.008930165950430557), (111, 0.008928177405785696), (2600, 0.008926105435859566), (3638, 0.008913892551018446), (948, 0.008908360175058827), (2087, 0.00890534030263058), (4612, 0.008900541314353928), (3667, 0.008900171105382566), (3120, 0.008898032261174069), (96, 0.00889503611625313), (1900, 0.008883222611181612), (446, 0.00888200665157438), (2309, 0.008872605440498883), (197, 0.00887201102949162), (2698, 0.008871041588029817), (2103, 0.008865792807943298), (558, 0.008862695499612721), (1096, 0.008855025093090295), (1701, 0.008833196773552146), (4502, 0.008826008311482815), (2581, 0.008825431676152223), (4660, 0.008816293072121558), (817, 0.008811076124523943), (3521, 0.008807933706918614), (4336, 0.008794656199100885), (4122, 0.008786711827347365), (1276, 0.008784897824275046), (19, 0.008784739948684396), (3826, 0.00875332692435902), (2363, 0.008742993647019711), (1020, 0.008734654757702338), (3246, 0.008728646467293667), (2188, 0.00872547504917266), (1446, 0.008725319988941804), (3418, 0.008722324977241057), (3123, 0.008720722046885655), (3267, 0.00872069487133468), (782, 0.008718457535883952), (2879, 0.008707067714400177), (2143, 0.008705052698799702), (285, 0.008703615455301121), (2459, 0.008701978449926425), (1387, 0.008675407386005198), (3151, 0.008672589078999019), (2473, 0.008671326295738156), (3733, 0.008670908237947302), (3784, 0.008666453071715974), (164, 0.008663650485561706), (2778, 0.00864507950538454), (4603, 0.008641754441478895), (2065, 0.008634933847474484), (962, 0.008633517179123244), (2077, 0.008628455950862961), (2572, 0.008624926760274992), (1710, 0.008620174584777585), (3901, 0.008620129601195054), (966, 0.008596738901221878), (1429, 0.008595043377298776), (2303, 0.008587247057459328), (2812, 0.00858075314838778), (3954, 0.008568096341345817), (3956, 0.00856647521911965), (307, 0.008543112949894228), (3389, 0.008539956196568005), (2264, 0.00853858282174428), (1793, 0.008533810434469269), (1730, 0.008530276826931605), (734, 0.008526981319281902), (4664, 0.008516099300011862), (1206, 0.008511491354820998), (3399, 0.008506480833147213), (368, 0.00849246998822155), (4490, 0.00847884672726767), (921, 0.008473884306744563), (838, 0.00846638251021233), (3829, 0.008463525265057722), (1776, 0.008461918590278467), (3329, 0.008444134913410346), (1650, 0.008442906417332422), (1514, 0.008426393019628341), (851, 0.00841917237797718), (1920, 0.008418412831952757), (4092, 0.0084067983835877), (2089, 0.00840106321112749), (1477, 0.008397884947291882), (1968, 0.008395950939914415), (1078, 0.008378616017911296), (461, 0.008378393185575846), (4412, 0.008375126016394905), (4649, 0.00836168035627167), (1875, 0.008361119199879558), (4232, 0.008355629863574444), (1308, 0.008353487600809638), (183, 0.008350342502147893), (2427, 0.008304726949703233), (2635, 0.008290017471095085), (4163, 0.00828909244186234), (1050, 0.008274435851827942), (443, 0.00826944426866319), (2265, 0.008265353461556869), (1538, 0.00826452714849783), (1540, 0.008263789652468604), (2236, 0.008261179185132384), (2158, 0.00824858981293774), (445, 0.00822407393413234), (449, 0.0082178067298357), (1690, 0.008203297599856187), (2285, 0.008192880614420481), (597, 0.008182082523530025), (1136, 0.008174041992712653), (924, 0.008168564627291385), (1924, 0.008167720997016735), (1971, 0.008146467998911179), (4593, 0.008133005662656604), (4205, 0.00813259415956046), (1762, 0.008121235054200175), (1539, 0.008118828372420506), (107, 0.00810878589263473), (2076, 0.008106110318529727), (3960, 0.0081051448898174), (1507, 0.008102011472032189), (2881, 0.008097352464452926), (38, 0.008085428274959462), (3680, 0.008084768946688057), (2587, 0.00808003809866371), (4494, 0.008076927428852684), (4699, 0.008066732917858166), (705, 0.008060671056134337), (4335, 0.008057813323189715), (1553, 0.008035451377132182), (1489, 0.008033719451971282), (3196, 0.008017179405249625), (4579, 0.008009009326970448), (3, 0.008003859220195959), (3032, 0.008002698145813185), (436, 0.00799890548966512), (2975, 0.007998778621240987), (32, 0.007984548069367697), (729, 0.007972578233613352), (2840, 0.007966676958942459), (224, 0.007959563163942614), (1498, 0.007948536519158821), (4105, 0.00794742626125399), (2854, 0.007939802084996258), (139, 0.00793805341964405), (4707, 0.007924309197114073), (688, 0.007919569221944615), (3096, 0.007914395530888983), (2304, 0.007910628939044607), (1960, 0.007898781688927641), (1764, 0.007892329915581534), (1260, 0.007891900175035863), (2428, 0.007890164359013144), (242, 0.007883152373824122), (2942, 0.00787876782175488), (4748, 0.007871909172076148), (4431, 0.007871492893902324), (1371, 0.007858803506797442), (1454, 0.00785217171348381), (4046, 0.007837863472015384), (385, 0.00783173484858618), (1790, 0.007830652807786428), (4601, 0.007824181317491352), (816, 0.007822688625960025), (1866, 0.007806781469902531), (3192, 0.007802871140252527), (4133, 0.007795656118729809), (1833, 0.007794571521227683), (4522, 0.00779142357392963), (60, 0.0077879738955692005), (4013, 0.007783479215222057), (350, 0.007783455522120415), (3453, 0.007781907770548946), (3516, 0.0077752748174817095), (162, 0.007770799696963449), (3579, 0.007769932651808634), (3821, 0.007754071922441732), (1743, 0.007749879009280711), (3771, 0.007743107472789034), (582, 0.007738614071243571), (2933, 0.007732280496939367), (3704, 0.007726207293318316), (2477, 0.007724564644052247), (1806, 0.007724060987961749), (1674, 0.007717885024911842), (403, 0.007717320665807713), (728, 0.007711092923573802), (2444, 0.007710432417777235), (3899, 0.007704160140244185), (1188, 0.007703615534959716), (3634, 0.007697075656882035), (3112, 0.007688011853815088), (1312, 0.007683696684100865), (991, 0.007674353531614659), (3256, 0.0076572783933819), (1140, 0.007655221232160154), (1537, 0.007651517481164323), (2603, 0.007647101042214018), (4038, 0.007642289499858959), (4094, 0.007642265428519464), (2949, 0.007639155147339895), (3456, 0.007637011017810727), (2104, 0.007635057893113117), (3780, 0.007633302155336192), (4430, 0.007631155642985315), (1071, 0.0076296938801074105), (4118, 0.007629579528410197), (4656, 0.007629219763180771), (2211, 0.007629219619822573), (3586, 0.007614155228395089), (1014, 0.007610412264289004), (493, 0.007590301018070414), (930, 0.0075882861817929415), (616, 0.0075874063363518315), (3618, 0.007578451625313122), (1705, 0.007576010842390271), (2714, 0.007566646462252822), (1083, 0.007564585809659097), (1282, 0.007563614573916137), (1484, 0.0075625768759196195), (3666, 0.007556052445226202), (180, 0.0075549045946575214), (606, 0.007552021695985683), (1918, 0.007551945563332286), (1225, 0.007542388898273974), (10, 0.007539724639541887), (1400, 0.007536440370065782), (2563, 0.007530270288055348), (2510, 0.007529972715630197), (1571, 0.007527686704103847), (441, 0.007524058999258837), (1144, 0.007520963042904855), (156, 0.007520035086118061), (2844, 0.007519830937668814), (1902, 0.007514143495123054), (4757, 0.007507657892105576), (1643, 0.00750602651388331), (4557, 0.007504709643115498), (4249, 0.007499648391381132), (3464, 0.00749830788075648), (716, 0.00749730430513755), (4624, 0.007496209773978815), (3501, 0.007493829341555888), (4233, 0.007493424222150827), (4093, 0.007491537116758557), (2088, 0.007489667426377446), (843, 0.007487678947366412), (113, 0.007487310843562389), (255, 0.007486787644460759), (3905, 0.007479387515750015), (4045, 0.007474521320913149), (845, 0.00747322489722964), (580, 0.007470414352999052), (660, 0.007467868708296813), (1229, 0.007463809392085244), (3259, 0.00746104595264645), (2873, 0.007460728637960147), (2339, 0.0074593256238699975), (4629, 0.007458366306468024), (4289, 0.0074566540096514785), (4089, 0.007444294164478699), (3653, 0.007438992137952425), (34, 0.007438314585936167), (1950, 0.007437122534097678), (474, 0.007434113526945559), (3039, 0.007433241299459784), (143, 0.0074218727251426225), (3349, 0.007417544683405595), (1037, 0.007406593398245866), (980, 0.007388284349042762), (3018, 0.007385755842089634), (3945, 0.007385100505287984), (3623, 0.0073752527102832355), (4470, 0.00737038066610831), (3233, 0.007355187520740297), (1536, 0.007355085561389901), (3514, 0.007349128979700565), (1069, 0.007348794508571239), (3008, 0.007348555082520313), (743, 0.007346838592574463), (4390, 0.007344360002958869), (1583, 0.007340569131653433), (509, 0.00733202705436811), (4098, 0.007327888089485729), (3410, 0.00732526954726423), (3436, 0.007316313143148743), (2994, 0.007314896880660335), (3571, 0.007310855744198967), (2344, 0.007309694307379912), (1174, 0.0073090099747231945), (1931, 0.007304627415428238), (2519, 0.007297757834375759), (1735, 0.007294871497214966), (2843, 0.007294454990914622), (238, 0.007292058096564207), (3303, 0.0072756740838892334), (159, 0.007261516690942341), (869, 0.00725369920474282), (2091, 0.00724908335407164), (3645, 0.00724440879850767), (2061, 0.007241444441148378), (4077, 0.007237935229267639), (63, 0.007237195420932536), (42, 0.007236825272071698), (1486, 0.007234166049300601), (1472, 0.007232693801577943), (1138, 0.007232083949894817), (309, 0.007227423804981944), (4677, 0.007226291498591362), (2244, 0.00722433085097401), (908, 0.0072232985081010555), (636, 0.007220498423054623), (4523, 0.0072068252299383635), (3227, 0.00720633680820793), (2606, 0.007198949096365795), (696, 0.007195781068415268), (2825, 0.007194372492452519), (4517, 0.007192818112932041), (2101, 0.007188361400101866), (3125, 0.0071848861424403995), (1504, 0.007181461103399105), (4226, 0.007180847686961676), (256, 0.007180422705514563), (363, 0.007177918653319793), (1191, 0.007177768471697236), (1223, 0.00717722505421251), (4061, 0.007175096904403546), (4715, 0.007168016491301172), (1488, 0.0071663501795851585), (4196, 0.007152503548435217), (1179, 0.007148580085663995), (3245, 0.007148416664097887), (3515, 0.007141528642855162), (4581, 0.007140956745791369), (1421, 0.007121559474328706), (494, 0.007107534761405225), (1388, 0.007105864043348033), (3152, 0.007105099502527769), (4184, 0.007103928823641512), (1811, 0.007091707990328043), (3727, 0.007088736271485593), (1747, 0.007084357233851172), (3624, 0.00708332047076107), (3435, 0.007079886376109032), (232, 0.007072494943779912), (340, 0.007057651379332426), (769, 0.0070559764342692744), (3035, 0.007050988265705068), (880, 0.007044914393886378), (4351, 0.007043702489314952), (3195, 0.007035857525779765), (3342, 0.007031204450428434), (3570, 0.007030425581829401), (750, 0.007029752144012157), (2069, 0.007024039587118212), (3499, 0.007023650271851442), (727, 0.007023296228442279), (4284, 0.007015060521553908), (413, 0.007013217754268369), (81, 0.007009943535800456), (1737, 0.007006811882319925), (3316, 0.007002093165952461), (3457, 0.00700158715039489), (3185, 0.007000170786572425), (50, 0.006986992676753986), (4299, 0.0069789543228782214), (4309, 0.00697819374420941), (4182, 0.006974039998966095), (1653, 0.0069720422336954115), (748, 0.006970010524476296), (1065, 0.006960393355060788), (4652, 0.006959441062191511), (301, 0.0069485776645648555), (1330, 0.006944817169517713), (1044, 0.006925941771792754), (539, 0.006923300446519886), (4467, 0.0069136501028478166), (600, 0.006911806256969908), (1076, 0.006899003513270089), (217, 0.006895401774909929), (3696, 0.006894880242524032), (1718, 0.006885352976791461), (923, 0.006884677855551787), (503, 0.006882371442124131), (3487, 0.0068740778119156035), (752, 0.006873876501041625), (3531, 0.006862294924219214), (4670, 0.006848594424887118), (386, 0.006839159391988557), (2691, 0.006834099053790853), (3149, 0.0068243582803357815), (3594, 0.006823314230344264), (1911, 0.006821328213627279), (3122, 0.0068204751632027355), (4008, 0.00681681436839867), (1001, 0.006813960670605017), (1125, 0.0067987645178981225), (1123, 0.006798220571687323), (2816, 0.006796760437225053), (3452, 0.006795124165848758), (1375, 0.006794952352512897), (3648, 0.006792514892537665), (644, 0.006791787033115819), (671, 0.00678266432978512), (1231, 0.0067794289895738765), (367, 0.0067768035165527395), (3265, 0.006769470229076111), (1555, 0.00676177934499397), (778, 0.006760120126778052), (2897, 0.0067578748204000574), (4388, 0.006755130022591245), (2726, 0.006753743235935697), (3734, 0.006743290499240995), (1177, 0.006734601464409512), (2348, 0.006733049818997142), (2962, 0.006732504339345314), (31, 0.0067236514118236), (2899, 0.006720886243817159), (1738, 0.006715306892310192), (3632, 0.006714251426310356), (1111, 0.0067125880140789735), (1041, 0.006711122649795384), (2732, 0.0066982567074251554), (2708, 0.006695604248962895), (1250, 0.006690978303626991), (56, 0.006687995450791239), (1425, 0.006686168347645337), (2496, 0.0066855156816564955), (422, 0.006680764872885278), (4210, 0.006662434193601295), (1819, 0.006660823685789856), (283, 0.006659509031075638), (3842, 0.006656056037350804), (863, 0.0066557116346093615), (131, 0.006655142039509908), (1433, 0.006651536462062502), (4591, 0.006649489713339693), (2184, 0.0066460697561804795), (311, 0.006640720103355573), (868, 0.0066380990252306385), (1306, 0.006637343136183915), (2335, 0.006626868445508635), (758, 0.00661942859817275), (744, 0.006611608448963113), (1760, 0.006610240515573115), (1448, 0.006606255011892964), (1908, 0.0066037384583795015), (4282, 0.006581235977916588), (4001, 0.0065798866522937954), (3926, 0.006579383573264013), (1374, 0.0065735766582562015), (3460, 0.006573188609908073), (1841, 0.0065699351561527754), (1172, 0.00656930525520132), (4099, 0.006567093402415353), (4738, 0.00656566364430875), (3033, 0.006565105720620909), (3876, 0.006562681043930192), (1644, 0.006561402643121727), (1501, 0.006560512948820128), (1462, 0.006555839838675826), (1345, 0.006551710426474492), (1964, 0.006546796724764938), (910, 0.006544699287657487), (2324, 0.0065440677869310244), (745, 0.006539960935857291), (22, 0.006521982715653494), (16, 0.00651878258419246), (1238, 0.006518627312471958), (122, 0.006517403480064114), (834, 0.006515346842433373), (2503, 0.0065135371376780615), (996, 0.00650992907297042), (1692, 0.006499365798951296), (3474, 0.00649658195092293), (1987, 0.006494419384748071), (1892, 0.006492138216479109), (1867, 0.006487323100488623), (1913, 0.0064824046591955295), (1329, 0.0064821061885452945), (608, 0.0064806047604348315), (3705, 0.006468711029239542), (1849, 0.006466459434926366), (4154, 0.006460444818820417), (2724, 0.006460043328349358), (2031, 0.006451642626205173), (563, 0.006446642107448731), (981, 0.006436594763438926), (581, 0.006434876941641566), (804, 0.006433308629328812), (1094, 0.006428490781993139), (3066, 0.006416566948306219), (3288, 0.006416442052998402), (2424, 0.006412851568886809), (3841, 0.006411534845514813), (2239, 0.006407566328685134), (230, 0.00639704758425901), (2580, 0.0063843835305345915), (1414, 0.006378299226169405), (1816, 0.0063775623836501835), (3910, 0.0063721343841497274), (940, 0.0063655869901082926), (4367, 0.006365175287760793), (1267, 0.0063495129891409305), (4217, 0.006344514387184781), (2095, 0.00634399459508417), (4661, 0.00633700806139028), (2056, 0.006329973382063176), (3998, 0.0063284474489425134), (4564, 0.006324868664687002), (521, 0.006324250727724211), (4459, 0.006319462824825345), (200, 0.006316674416876772), (1608, 0.006310388739057206), (4303, 0.006306425954648116), (2833, 0.006306307397831771), (497, 0.006295754792786333), (1552, 0.0062804575791378355), (1526, 0.006277220093134095), (3309, 0.006272591746028671), (300, 0.006258139455269685), (4432, 0.006257694887807377), (4691, 0.006248887308908626), (1327, 0.006246469827302094), (4666, 0.00624575032328202), (3458, 0.006237886369444205), (2388, 0.006227393088748629), (1818, 0.006224779631552357), (862, 0.006222038266732452), (1664, 0.006219068012097911), (263, 0.006216251561942655), (1213, 0.006215002337363142), (835, 0.006210819751878022), (1627, 0.006206439841574785), (1797, 0.006201859242893764), (3864, 0.006198950838403933), (2202, 0.006188384803965121), (1307, 0.006181668255159588), (2160, 0.006181093167996022), (642, 0.0061754634143968735), (617, 0.006170495290183273), (3566, 0.006170320282172521), (861, 0.006152454252576951), (2205, 0.0061476156490337395), (1903, 0.006144354773861418), (1746, 0.006130600381762394), (1939, 0.006122496770723247), (3721, 0.006120051103397477), (568, 0.00609145057601534), (9, 0.00607882290416431), (3909, 0.006077272733111632), (248, 0.006076488349051575), (4236, 0.00607498699543385), (3114, 0.006072588491821387), (4009, 0.0060694965649699005), (2175, 0.006065790209232859), (35, 0.0060612328203774185), (4342, 0.006053130571462052), (1356, 0.006050994252213893), (3244, 0.006017414560259967), (821, 0.0060159760666970525), (3975, 0.006013273983329386), (2203, 0.006010409356250322), (4537, 0.006005299509575737), (958, 0.006004028909589244), (4733, 0.005965512302462513), (2355, 0.005960230743556647), (3331, 0.00595906920553952), (583, 0.005954587128257524), (3715, 0.0059530536022729275), (3658, 0.005944868210432029), (1863, 0.00593850281541773), (1214, 0.005932567568348967), (3825, 0.005930759586690873), (4219, 0.0059307558518514976), (2058, 0.005927826803031612), (4527, 0.005926845908030898), (4055, 0.005924818293621736), (2426, 0.005920751565415964), (1316, 0.005910781285140436), (1981, 0.005907260129096912), (3049, 0.00590688383104202), (2185, 0.005884559221760236), (1715, 0.005883156475360245), (4646, 0.005882073074407983), (4464, 0.005865917370922849), (3865, 0.005858147278425384), (2156, 0.005848760720036045), (4057, 0.005838625756794191), (2935, 0.005833793426287631), (4047, 0.0058310531983781005), (4110, 0.005829848863480053), (3598, 0.0058148858738907615), (4674, 0.005787447162717754), (3844, 0.005781129296899576), (4208, 0.005772631262084199), (953, 0.005756440216546846), (1684, 0.005753769238278409), (3748, 0.00573859364181665), (1344, 0.005721039864961347), (4385, 0.0057171346122519605), (3509, 0.005676146915333578), (3588, 0.005668212447753092), (2328, 0.005662324030417309), (3391, 0.005654239730508646), (4653, 0.005640484385845355), (2291, 0.005627749684426434), (3942, 0.005626762559506897), (2098, 0.005618802180484993), (3744, 0.005614568383030678), (177, 0.005599808753936733), (4518, 0.005599776538853728), (3448, 0.00559647446856459), (3502, 0.0055839873596376976), (3752, 0.00558054137277933), (4514, 0.00558021931038109), (4698, 0.005566055076203875), (3164, 0.0055627503744931995), (1941, 0.005521670047666052), (571, 0.00551243089187356), (4162, 0.0054926169913268), (512, 0.005480214628465595), (2567, 0.005456826740041303), (369, 0.005454562266206484), (2273, 0.005445167150185859), (4642, 0.005444257857523773), (562, 0.00542395644575802), (3940, 0.00541580878603716), (4285, 0.00541390337248493), (2665, 0.005408819363901473), (2439, 0.005392550153331375), (1940, 0.005391940370749308), (3022, 0.005367062238452818), (3440, 0.005360191089565495), (4726, 0.005357462984646266), (4515, 0.005354643956445898), (2809, 0.005339089482851617), (168, 0.0053289700813810605), (1695, 0.005316808464005938), (4331, 0.005314131386390756), (380, 0.0052998836952428295), (1381, 0.0052941344423078724), (3117, 0.005288555659435544), (1453, 0.005281383611515195), (855, 0.005267340940475514), (4261, 0.005249130933861092), (2774, 0.005248845110588975), (477, 0.005239369680270199), (2181, 0.005236538353974075), (425, 0.005233540201929489), (831, 0.00523348437869602), (4746, 0.00523258618884702), (2231, 0.005222770253703091), (2576, 0.005218738765512786), (4462, 0.005211603263244989), (2022, 0.005211318806276052), (1661, 0.005200023357999492), (3168, 0.005194720584199786), (666, 0.005191363840721598), (2700, 0.005182671029789315), (4307, 0.005179380097485313), (4630, 0.005173595112168345), (3158, 0.00517037097662082), (2683, 0.0051675037568785385), (1158, 0.005154276117296022), (1391, 0.005146892045916608), (4120, 0.005142394346497135), (4043, 0.005142156064116709), (1332, 0.005140102469137354), (2113, 0.005139644107235918), (1962, 0.005139410447659317), (3180, 0.005132573372863185), (4119, 0.005127533389383312), (2733, 0.005124706672572313), (687, 0.00511838964431733), (128, 0.005117624517331958), (550, 0.005095713449789213), (1554, 0.005079354545010316), (2314, 0.005075043982713094), (595, 0.005073766918951453), (4091, 0.005069099168848594), (3604, 0.005066457300787267), (69, 0.00506551508596364), (2626, 0.005063083030087467), (3774, 0.005058729108492917), (3802, 0.00505140082592496), (3787, 0.005049897907909315), (802, 0.00504790855259478), (3997, 0.005045518360715694), (102, 0.0050401893607578485), (4240, 0.005036241334993982), (3263, 0.005025888185502877), (1829, 0.005021551239895667), (3163, 0.005021375235815922), (513, 0.005015028264463551), (303, 0.005005856556268257), (514, 0.005003024616850094), (3938, 0.0050016014177825755), (2136, 0.004999931651805338), (4595, 0.004991963728483643), (2599, 0.004986212320267052), (2084, 0.00497883099639507), (1150, 0.004975946962821241), (3468, 0.004972065267270442), (4090, 0.00497122442224054), (4076, 0.004970043121679035), (1952, 0.004967734222026829), (1724, 0.004967265351637268), (6, 0.004962646721282994), (420, 0.004960574443149057), (4312, 0.004956559811046084), (1380, 0.004956075726573829), (3584, 0.00495460907849746), (4373, 0.004944859265814224), (3451, 0.004944634468457536), (3782, 0.004941626446775452), (1575, 0.00493962475567439), (3131, 0.004935719359181448), (992, 0.004935502243441057), (1614, 0.004935318091384703), (414, 0.00493284652771533), (1732, 0.004926698707405422), (3438, 0.004925075352046846), (1659, 0.004917011296538151), (2283, 0.004916374937626596), (4719, 0.004912020457018882), (1791, 0.004910391737817217), (1280, 0.004906493585480382), (3710, 0.004903916307312567), (2044, 0.004900368156440432), (239, 0.004893411026998544), (4377, 0.004892532487577618), (1167, 0.004892193773412883), (3897, 0.004891332365552052), (2208, 0.004889342551866754), (1426, 0.004887726304196335), (2819, 0.004887152493105063), (4384, 0.0048863605224429355), (3205, 0.004886156117287779), (1904, 0.004878866675051578), (1452, 0.004877884232580834), (2330, 0.004877726866423949), (220, 0.004877383327231498), (765, 0.004875714723265432), (1531, 0.0048739592658088166), (1502, 0.004871803904837503), (1859, 0.004864612361744439), (891, 0.0048594906043359035), (4392, 0.0048578911171751425), (2959, 0.004856626562989746), (1975, 0.004856396715198114), (2790, 0.004850603519905103), (2991, 0.004848311160508553), (1449, 0.004844292863040346), (561, 0.004843805886274633), (320, 0.004833584283489667), (3513, 0.004833569400596494), (4639, 0.0048267851089869125), (1881, 0.004825322882698362), (3769, 0.0048235044193955905), (4621, 0.004820093271231993), (2015, 0.004817274786074442), (3908, 0.0048168515222398), (3134, 0.004815055879995134), (4586, 0.0048038743900341956), (2064, 0.004799542883183538), (793, 0.0047911708785747225), (27, 0.004790893912949594), (3124, 0.0047897235355676224), (3907, 0.004786368378027254), (4275, 0.004783253066031127), (3995, 0.004782866395926851), (4552, 0.004781914462610898), (189, 0.004777355844485406), (1469, 0.004775833727275996), (3398, 0.00475799272399742), (3191, 0.004749484075312184), (95, 0.004745609331166691), (685, 0.004739140064506008), (3179, 0.004736922319653151), (902, 0.004732429780589892), (118, 0.004730932877439952), (4376, 0.00472987449563689), (4251, 0.004729825034580443), (2947, 0.004728489945670273), (1901, 0.004723794746864936), (1435, 0.004716569576995678), (4678, 0.004715176978610753), (336, 0.0047110789913987), (1431, 0.004707855445255266), (2960, 0.004705331125110952), (3815, 0.004703487539245398), (3404, 0.00469377408637166), (1587, 0.004690497449034583), (919, 0.004688274887806511), (3576, 0.0046855570241939055), (927, 0.004681796350516285), (2278, 0.004680281026963687), (3932, 0.004678398488262888), (811, 0.004677175365825214), (3520, 0.00467025158615055), (1998, 0.004669056138259162), (3833, 0.00466868695918554), (1588, 0.004666107046023879), (1930, 0.0046636733428292625), (2130, 0.004663428752584404), (3005, 0.004662843276282043), (30, 0.004648723879380024), (4103, 0.004638354930990023), (4360, 0.004637754463865542), (451, 0.004633206829364098), (39, 0.004631929415360482), (4383, 0.00462950343379809), (1857, 0.004629260330179838), (347, 0.004628430967722765), (2506, 0.004628370144810393), (315, 0.004624605938993495), (3367, 0.0046204046784988195), (4310, 0.004618064119380746), (1566, 0.004617094549750663), (849, 0.0046103472537448245), (135, 0.004609422560900165), (2246, 0.004604591015093572), (1622, 0.004604372162691385), (305, 0.004593880967405403), (389, 0.004591931131783981), (460, 0.0045915877416530925), (619, 0.0045898474815167095), (4248, 0.004584328851782155), (3432, 0.00457959570783518), (4708, 0.004578152801117167), (4665, 0.004574577939636234), (375, 0.004559192860250823), (2847, 0.004554701802835585), (233, 0.004553254985288596), (3161, 0.004550786352555818), (3443, 0.004550394474658327), (467, 0.0045475122002823845), (1573, 0.004544910721244759), (1127, 0.004540453876241827), (3602, 0.004535743611149327), (4264, 0.0045349052714828446), (634, 0.004531895189309974), (1082, 0.0045297228916720235), (4211, 0.004528549105191521), (1635, 0.004524176574508102), (633, 0.004518652731948894), (90, 0.004511298820312949), (2232, 0.0045071342704136605), (4039, 0.004497181173511471), (1933, 0.004496856753023992), (1846, 0.004494050091536776), (1953, 0.004482532871190866), (3583, 0.004479553777020868), (152, 0.004472461920846967), (3555, 0.0044675807246291705), (4441, 0.004462010722926113), (1347, 0.004456071224498093), (2245, 0.0044559238644446015), (3011, 0.004454146411143808), (2432, 0.004445080035122849), (974, 0.004444813338135952), (661, 0.004441777515408872), (3361, 0.004440109939100981), (3100, 0.0044346509884365115), (3664, 0.004434450523125298), (3886, 0.0044303397095256415), (1632, 0.004423161818165871), (4438, 0.004422951263287813), (310, 0.004418894929168386), (93, 0.004418656840322172), (3126, 0.004418094007533676), (3723, 0.004417806067790252), (3970, 0.00441235901817224), (1633, 0.004408178160738385), (3338, 0.004405080972061886), (3824, 0.004403203520833348), (1207, 0.004400292069035962), (3881, 0.004399498239922743), (1993, 0.004399207804214495), (4587, 0.004396915493480532), (2711, 0.004388736063405934), (2787, 0.004386794249015826), (1623, 0.004377028667971874), (1631, 0.004376975220158413), (260, 0.004375759434559263), (1428, 0.0043727872006395765), (1211, 0.004371438026142519), (4071, 0.004364971402322597), (4151, 0.004357507674573638), (4292, 0.004346641270334503), (3133, 0.004336292620515619), (1914, 0.004335690964685718), (1451, 0.004335646554742105), (3823, 0.0043353398841754764), (2139, 0.004329829930682734), (4585, 0.004316825219797294), (3429, 0.00431563365055118), (426, 0.004315019756269958), (3788, 0.00431205665197856), (810, 0.004309889252115742), (4328, 0.004309779076309047), (611, 0.00430627335471214), (2682, 0.00430424398851454), (3966, 0.004302620439293622), (3136, 0.0043007581128555825), (306, 0.004295377414040951), (2984, 0.004294641293168029), (690, 0.004292014505619626), (2442, 0.004290553298955562), (1480, 0.00428785698015279), (3143, 0.004283243996936223), (4697, 0.004282632908804984), (3534, 0.004277272036348951), (2660, 0.004275592753028906), (1562, 0.004268105582155079), (3079, 0.004251719719739137), (1197, 0.004241553054379576), (3135, 0.004240085245746897), (4468, 0.0042367003454183046), (94, 0.004236585948952706), (4274, 0.004230225814165784), (893, 0.004230207519402797), (80, 0.004227109798982706), (4322, 0.004224059410919858), (316, 0.00422396395627148), (397, 0.004218046450362678), (4339, 0.004214172565029606), (1281, 0.0042106596419898695), (1840, 0.004197512097260954), (4193, 0.004195492760646212), (1784, 0.004189175005907085), (4044, 0.004185917988001526), (3247, 0.004172023027748465), (4290, 0.004163826251867192), (898, 0.004155926036290059), (997, 0.004149127110904068), (2678, 0.004130445306673907), (932, 0.0041240318599223), (323, 0.004123848625725578), (803, 0.004123194906999609), (191, 0.004115387650703491), (4582, 0.0041147748468671076), (559, 0.004110087166529763), (1154, 0.004110044255880006), (3160, 0.004107964692463813), (3495, 0.004101847627868699), (3806, 0.00406535368580349), (4365, 0.004063496237183203), (2299, 0.004055627755214389), (756, 0.004050728096314972), (3619, 0.004047587780381726), (187, 0.004046624716605281), (1753, 0.004039081477410935), (4571, 0.00403004995905347), (1925, 0.004026636628533497), (1590, 0.004022226006247371), (3178, 0.004009837888876761), (1772, 0.004003174172358917), (1559, 0.003992703732862145), (1699, 0.003991411833239406), (4426, 0.003980631223261024), (234, 0.003970509617032526), (3339, 0.003970201087966742), (625, 0.0039700919528630274), (1546, 0.0039687964989061015), (3776, 0.003950843897390089), (1309, 0.003948311713722663), (314, 0.0039479759477469055), (1120, 0.003931649858036582), (2801, 0.00391554935091619), (2541, 0.003914935281133384), (723, 0.003905451704110582), (469, 0.003904787323943318), (1458, 0.003904651594659914), (1910, 0.003897392208484155), (639, 0.003895629946806929), (3512, 0.0038888587083709945), (3405, 0.003885954295147361), (2757, 0.0038818149563784156), (2544, 0.0038751601407036682), (76, 0.003866771207009018), (640, 0.003862120234585781), (3484, 0.0038363392514141176), (4555, 0.003822246383248059), (4513, 0.003816259526860173), (3944, 0.0038131942102109903), (2998, 0.0038071115889879393), (738, 0.0038004082431912062), (1576, 0.003787439910540486), (2573, 0.0037816412403020687), (289, 0.0037767507584235784), (3925, 0.0037750382833963), (290, 0.0037646025269972177), (295, 0.0037609230872212777), (1164, 0.0037510237486072236), (294, 0.0037456348254895208), (3989, 0.003715806094534846), (1395, 0.0037135203999899623), (2326, 0.0036886436863557306), (4607, 0.003682819782953627), (2529, 0.0036815468729244245), (2078, 0.0036690612024628845), (2379, 0.0036601865946633357), (2251, 0.0036584317781663896), (2490, 0.003655433841287204), (2937, 0.0036418513127225525), (3523, 0.003635675158808224), (3052, 0.003633688631059583), (4705, 0.0036260817428888804), (3051, 0.003617701658361142), (2764, 0.003613273940570898), (3672, 0.003603859110894286), (2858, 0.003594793230747527), (2137, 0.0035945925620135804), (3139, 0.0035907551640025526), (4082, 0.00358280122205307), (2722, 0.0035602458236608965), (2189, 0.0035601273816176465), (4202, 0.003546305715914872), (3040, 0.003541823977779952), (2989, 0.003533948201952056), (3166, 0.0035179839931373026), (2349, 0.003511409679954017), (1145, 0.0035070545267648348), (2407, 0.003505785923314623), (3990, 0.003500660434369241), (2889, 0.003491315543824116), (2537, 0.0034791458040229705), (77, 0.0034763112712535445), (735, 0.003463159634339838), (4704, 0.0034548564055374175), (3055, 0.0034510966937722886), (2404, 0.0034495650395905005), (2775, 0.003443022569045042), (4017, 0.0034416299225726275), (3561, 0.003438052370675986), (2870, 0.003437994548276846), (3042, 0.0034363661000082163), (3030, 0.0034357627126280015), (627, 0.0034341999825618446), (2883, 0.003432062958059232), (2923, 0.003417166947221909), (3219, 0.0034088103069913433), (3291, 0.0034081886534521894), (2731, 0.003404339062511265), (4749, 0.0034036456368132157), (4222, 0.003401127932583099), (4529, 0.0034005010522372646), (2310, 0.0033909407420161346), (4221, 0.00339072828055136), (3479, 0.003384447156348332), (4484, 0.0033814476312483683), (4611, 0.0033805137878272673), (3939, 0.0033779025927503665), (2673, 0.003373495441219171), (2861, 0.0033614085385007056), (1210, 0.003354331280691185), (4172, 0.0033528725699006785), (2559, 0.0033339816446641937), (3878, 0.0033333249663985306), (4418, 0.003330912615368857), (2350, 0.0033299247384292762), (2832, 0.0033282220784204342), (4696, 0.0033226057436817526), (2628, 0.0033200750239033732), (4407, 0.003317270500646156), (2448, 0.003312180628444434), (2392, 0.0033114422157635385), (3292, 0.0033107771042186927), (3762, 0.00330411757499818), (2199, 0.003301396132983232), (3892, 0.0032969468162486887), (3282, 0.0032890614008540533), (4423, 0.003288729379767851), (4019, 0.0032877144876280353), (2425, 0.003286983090237742), (2643, 0.003280052907901832), (2257, 0.003265288941763766), (3322, 0.0032640971868044587), (889, 0.003263982140942741), (3262, 0.0032633245940029516), (2901, 0.003256227513237159), (4230, 0.003249625623118119), (4142, 0.0032425169740557275), (2286, 0.0032411344327654677), (2838, 0.0032378820459364383), (1153, 0.00323459487742086), (1208, 0.003233402541827205), (4400, 0.00323306097982072), (4102, 0.003220052982399362), (3848, 0.0032176256582615117), (3015, 0.0032138288529427426), (4606, 0.0032107990543004962), (475, 0.003209611461400109), (3239, 0.0031975367271760966), (3128, 0.0031969221400553454), (2423, 0.003196216137743943), (3354, 0.0031930841877435712), (3140, 0.003191775106003641), (526, 0.0031892059612266465), (1121, 0.003177352805467861), (1711, 0.003172699215483429), (3687, 0.0031677160464612685), (4692, 0.0031658445386857584), (4521, 0.0031656248700788828), (4544, 0.003163843742069543), (3363, 0.003163022311998248), (3357, 0.0031524982659526623), (2834, 0.00314646446990567), (3616, 0.0031463873753146514), (3537, 0.0031456443257482846), (2557, 0.0031447500689542568), (2438, 0.003141434949500873), (3159, 0.0031385262897727128), (3577, 0.003134300423040642), (4107, 0.0031316484334973902), (3922, 0.0031308493874409268), (2857, 0.0031305287676233924), (3613, 0.0031282114428502436), (4306, 0.0031245675077691206), (2266, 0.0031222595727628233), (4572, 0.0031126376024216505), (3074, 0.003111508537740266), (4298, 0.0031114236658140513), (326, 0.003105938774714085), (2797, 0.003104258374734227), (2957, 0.0031026792449565365), (3874, 0.0031013363262410347), (4723, 0.00310090615463497), (2488, 0.0030994924411226936), (3031, 0.003098080340964135), (4458, 0.003096902608390036), (3832, 0.003096146879951484), (2848, 0.0030957310537843), (3302, 0.003090102959529381), (3620, 0.0030882893020226327), (4147, 0.0030881294441047137), (3544, 0.0030871824814445417), (2966, 0.003083110206798772), (3358, 0.003078912235784866), (3020, 0.0030788992114505528), (1049, 0.0030781701583572586), (2415, 0.0030774782113262584), (1593, 0.003073536197767713), (3206, 0.0030683342106372223), (2454, 0.0030625130786813577), (3274, 0.0030609717966225826), (4030, 0.0030600481089510037), (2993, 0.003059036294957494), (3257, 0.003055972375457137), (2619, 0.0030541950397158135), (2478, 0.003049444704080606), (777, 0.003048206537715965), (3413, 0.0030462569383745484), (1168, 0.0030455201632660664), (2895, 0.003035734397694937), (489, 0.003033907649847658), (2434, 0.0030319578792125535), (3911, 0.00303052451245541), (4507, 0.003011750179632966), (3651, 0.003007786913404557), (4280, 0.0030057193500140156), (2772, 0.003004298617678023), (3308, 0.003002322936512594), (2986, 0.0029999075948067633), (4717, 0.0029946805054474088), (2738, 0.002992961118255661), (431, 0.0029909808972183064), (4632, 0.0029900152728193187), (4718, 0.0029893855148694607), (3763, 0.002988962008197595), (3935, 0.0029885096547979943), (2613, 0.002987833615753465), (4416, 0.0029853335777020916), (3081, 0.002984739096348554), (2378, 0.002984702466710939), (2570, 0.002984491528806008), (3621, 0.0029843451284689345), (3745, 0.002983416534820059), (4584, 0.0029816502268501864), (4633, 0.0029805712061734815), (1792, 0.002980454256720252), (4694, 0.0029799396515033144), (1187, 0.002979770691711471), (4145, 0.0029791881546168577), (2707, 0.0029766094818745683), (518, 0.0029732402429394856), (2720, 0.0029723777019071674), (1748, 0.002969277899912034), (1169, 0.002968248475121234), (4589, 0.0029677632157899367), (4075, 0.0029592426902674803), (3540, 0.0029579871411557017), (2142, 0.002957911816921575), (2914, 0.0029556840497431585), (1547, 0.0029538683671561368), (3359, 0.0029514371742459466), (4126, 0.0029512048892630515), (3884, 0.0029508011050974983), (2320, 0.0029483683178666044), (2696, 0.0029482119642483444), (3072, 0.0029477207530535492), (3307, 0.0029460254497445243), (4002, 0.0029453637825473953), (1947, 0.002944168345871454), (2269, 0.0029435278244624215), (4495, 0.0029424250716664118), (2924, 0.002941313927795408), (3754, 0.00294123732407041), (3729, 0.002939207932414357), (3425, 0.002938660148668835), (4713, 0.0029359206463355366), (3148, 0.0029293489549236393), (3230, 0.0029279919041756575), (2987, 0.0029279224859267345), (3364, 0.0029277933783362665), (2884, 0.0029276416214828144), (448, 0.0029273791170721856), (3419, 0.002926833737465544), (3337, 0.002926198541982872), (3396, 0.002925354196686554), (3506, 0.002925090773173954), (3866, 0.0029234354102327348), (3719, 0.002922197816436192), (2872, 0.002919385177617543), (4369, 0.0029178234754435894), (3355, 0.0029177269748354635), (4138, 0.002916222234928384), (925, 0.002916183387409237), (508, 0.0029161753848960135), (4535, 0.0029156376897389634), (4650, 0.00291369931069786), (3165, 0.0029129982157773643), (4267, 0.002912157176210678), (3952, 0.002908452739992948), (4516, 0.0029082392469185234), (1656, 0.0029077079992601354), (3639, 0.0029025843465260875), (2796, 0.002902421975777824), (614, 0.0029022534315632682), (985, 0.002901203439820041), (2702, 0.0028986752398810866), (783, 0.0028976345849260005), (4295, 0.0028956476258980364), (4117, 0.0028951057091739976), (1497, 0.00289446576555683), (739, 0.002893817142389973), (4753, 0.0028919487884017663), (4243, 0.0028872437447467303), (3772, 0.0028850796603033125), (3296, 0.0028845687282931273), (2223, 0.002883657739557414), (3611, 0.0028815671372074895), (2302, 0.0028806560860410685), (2629, 0.0028789827889471042), (2437, 0.0028786888060857926), (1909, 0.0028786576539522103), (3183, 0.002878387941566039), (3186, 0.002875686598671847), (998, 0.002875096610449085), (1887, 0.0028738050689049942), (999, 0.0028727435442566034), (2411, 0.0028718128480025207), (444, 0.0028717359403144095), (2623, 0.0028711452225422974), (478, 0.0028703090546665397), (2400, 0.0028685555016257766), (4706, 0.002863082443233246), (235, 0.0028622546207157586), (4259, 0.002862097470523436), (3013, 0.0028610165731193576), (576, 0.002858999118369583), (1349, 0.00285762811025138), (3587, 0.0028569324986325506), (419, 0.0028564076731825015), (4308, 0.002854400132708627), (4368, 0.002854344086319595), (4333, 0.0028538356132755452), (3560, 0.00284932873090512), (813, 0.0028484316450667173), (3962, 0.002848391112204595), (2974, 0.002847448826702877), (922, 0.00284543190818928), (596, 0.002841667503161745), (2916, 0.0028408048332358568), (4024, 0.0028405990919784414), (1862, 0.0028404195325150506), (1594, 0.002839568084275876), (3414, 0.0028389857733314592), (2134, 0.0028368228829513896), (308, 0.002836039428752784), (2356, 0.002835167909469329), (4401, 0.002833462848061686), (3737, 0.0028319594615577055), (3593, 0.002831081760296785), (4051, 0.002829427324343822), (3804, 0.002829137270933287), (1474, 0.0028262766006880995), (3877, 0.0028237072620805217), (3273, 0.00282353327570058), (2585, 0.002823318914999516), (3527, 0.0028230830883620114), (4397, 0.0028225842511361253), (2830, 0.002822430262311227), (41, 0.0028220612513682524), (3003, 0.0028172750635618265), (4225, 0.0028169839547998233), (4113, 0.0028169003700762424), (2108, 0.0028149681631918447), (1890, 0.002814173123132308), (1109, 0.002812253640075932), (3084, 0.002811513086887227), (2535, 0.0028109713012137647), (2190, 0.002808636708020798), (2592, 0.0028077159504372807), (4734, 0.002805786801946896), (3967, 0.0028036445992062004), (2288, 0.0028031997356607573), (3026, 0.002802065432959627), (3101, 0.002801879477152593), (4042, 0.0028011681307968453), (857, 0.0028006002890249497), (2176, 0.002799738652446759), (1580, 0.0027985796143798237), (2890, 0.0027985606578063223), (3062, 0.0027971357966570464), (2159, 0.002796642519650155), (3372, 0.002794770916819468), (3417, 0.0027933086614350885), (4263, 0.0027932939885677625), (587, 0.0027886353980351632), (3116, 0.0027869581898004835), (3757, 0.0027856996595460883), (476, 0.0027839829553150115), (3677, 0.0027839214224453152), (2410, 0.0027822668653526748), (4446, 0.002782149984041176), (1479, 0.0027816518653624054), (1733, 0.00278081968063316), (2390, 0.00278029308266928), (4228, 0.00277782483968257), (2624, 0.0027750372237105455), (2391, 0.0027746971760363483), (253, 0.0027728059165985143), (3234, 0.002772188328120311), (3714, 0.002772130097690375), (4130, 0.0027720301380200125), (318, 0.0027716213992394355), (4140, 0.002771074176592469), (3497, 0.002770165199090682), (4101, 0.0027681114618960017), (3813, 0.0027671797773669462), (4732, 0.0027661061184490994), (3749, 0.002765280753409115), (1905, 0.0027647434485528447), (3044, 0.002764551763558158), (2293, 0.0027644911596349914), (1805, 0.0027631607753971065), (2970, 0.002760203114146259), (499, 0.002760042990982669), (3064, 0.0027596699778360194), (2748, 0.0027578844179992276), (3258, 0.0027578268313340052), (887, 0.00275750271740672), (4087, 0.002757014892292607), (2507, 0.002755050857258632), (3915, 0.0027547260209605175), (3235, 0.002754564293973192), (8, 0.0027543335470164663), (4528, 0.0027542947624417113), (2882, 0.002753746997643273), (3889, 0.0027503611083962223), (2888, 0.0027472806692475423), (2705, 0.0027461280207631174), (2595, 0.0027450765906157837), (4545, 0.0027445443902041006), (3269, 0.0027434131677741983), (1959, 0.0027432664623438367), (192, 0.0027430559563033185), (3449, 0.0027404173408190242), (3271, 0.0027403415978842337), (3893, 0.0027395827006288535), (1007, 0.002733710100497628), (2776, 0.0027315257028121924), (1518, 0.002730801568733685), (1848, 0.0027301751429851424), (1907, 0.0027299453987985325), (4132, 0.0027295757697937194), (4657, 0.002729384454217424), (4161, 0.002728197536290695), (2475, 0.0027274386737216644), (1995, 0.0027271106496794184), (3224, 0.002726949305854483), (4318, 0.0027267945088646677), (4540, 0.002724994506701142), (4245, 0.0027249016733194827), (791, 0.0027245490827624776), (3184, 0.002724037993344761), (2661, 0.0027225967815229855), (3496, 0.002722348105245073), (395, 0.00272106521247246), (1637, 0.0027204107824598135), (4269, 0.0027203418268720568), (564, 0.002719825695292051), (3781, 0.0027174020257633258), (2786, 0.002715966686361918), (4574, 0.002715543513395254), (872, 0.0027151279537172817), (4111, 0.0027150310497208023), (1683, 0.0027139443671448764), (1409, 0.0027132641602936663), (2260, 0.002713062173204411), (2725, 0.002712359055125161), (4680, 0.0027116711744928136), (3873, 0.0027111675335296207), (2940, 0.0027106087757908437), (2926, 0.0027102986501509217), (3007, 0.002709427775494519), (12, 0.002708340354961457), (2393, 0.0027065538121768627), (1324, 0.0027052422455337774), (2609, 0.0027051460174360585), (826, 0.002704815148187846), (3601, 0.002704796924602712), (2664, 0.002703826942826442), (4357, 0.0027034679302635803), (4355, 0.0027018875230114072), (4169, 0.0027014128283684366), (3987, 0.0027012118924889077), (2105, 0.002700585410816367), (4136, 0.002699258040282811), (3434, 0.0026981585993175548), (3678, 0.0026979790125276097), (74, 0.002697321222497816), (680, 0.002697112883037289), (246, 0.002697036477934071), (4530, 0.002695401909222743), (623, 0.0026936257054534724), (612, 0.0026927305201672825), (2821, 0.0026922695724973154), (1896, 0.002690520691747851), (4489, 0.0026898571212910427), (2361, 0.0026895835422427327), (4471, 0.002689451482618859), (4054, 0.002689155830042102), (3590, 0.0026887908772678147), (3314, 0.002688008744000576), (2792, 0.0026869471767721692), (456, 0.0026861718866293296), (4505, 0.0026845407116629577), (2953, 0.002684490889512162), (4575, 0.002683455745897461), (2755, 0.0026816555758913995), (4286, 0.002680860525590258), (2610, 0.0026796022213479973), (1822, 0.002677246887881095), (4334, 0.002677142828083361), (3037, 0.0026770809629725915), (3406, 0.0026765700485092483), (4, 0.0026759665928032302), (1893, 0.002674980291477653), (4566, 0.0026735546109579985), (2878, 0.0026734722698293838), (4420, 0.002673107484263222), (1916, 0.0026726151622681773), (3388, 0.002672146305255844), (2385, 0.002670968055019653), (1670, 0.0026693561451880065), (3187, 0.0026688975569496218), (3882, 0.002667621298008595), (178, 0.002667597316215695), (4422, 0.0026673765428150134), (3654, 0.002667297611504451), (1570, 0.0026672319410395466), (2419, 0.002664517725272706), (262, 0.0026643359555147046), (3242, 0.0026625690003108642), (3113, 0.0026619932285811923), (1402, 0.0026593835268010186), (4363, 0.002656280498809686), (1439, 0.0026554823490857376), (4497, 0.0026552611205088346), (3493, 0.0026545144823408597), (2083, 0.0026540822374636007), (3150, 0.002652993122789719), (20, 0.0026527570934446066), (3770, 0.0026521310442793435), (211, 0.0026509436265181466), (1660, 0.0026498822019617014), (4448, 0.0026486240455653193), (4083, 0.002647721910892649), (3241, 0.0026458927031980622), (2561, 0.0026457128645613385), (3845, 0.0026453120619755123), (717, 0.0026448136161407753), (4419, 0.0026439719893291574), (2531, 0.0026431568888262663), (23, 0.0026429172195160193), (2370, 0.002642265734795532), (1851, 0.0026403793617911795), (2911, 0.002639418521024462), (3902, 0.0026388324543919197), (884, 0.0026386594931607945), (4361, 0.0026386334816726476), (2904, 0.002637905178614227), (3353, 0.0026367027726778495), (890, 0.0026361350016010534), (588, 0.0026354138296516643), (2405, 0.0026353821640332188), (2319, 0.0026346960439084625), (1364, 0.002633462452635989), (4625, 0.0026333505042846904), (4262, 0.0026330476415983117), (987, 0.002630563204847358), (4079, 0.002629117011058859), (2148, 0.0026287367207624723), (2072, 0.0026280155284696), (3920, 0.0026269850198830523), (11, 0.0026263170118314906), (3517, 0.0026259815785324952), (1703, 0.002624080641588584), (1765, 0.002623080121500158), (4340, 0.0026230583862476183), (4287, 0.002620111867243265), (3198, 0.002619974529864259), (4391, 0.0026167579138556087), (2863, 0.002614997779838141), (3636, 0.002613638129283211), (377, 0.002611958010085245), (1516, 0.0026119169121049377), (4729, 0.0026114125651850832), (1717, 0.0026105094042225075), (4643, 0.0026102967277850005), (3290, 0.0026100030058059252), (1768, 0.002607405170650399), (1946, 0.0026060093301533485), (871, 0.002605764494056422), (2466, 0.0026046209947012903), (2230, 0.0026046209600846023), (2900, 0.002603699703779661), (3016, 0.0026036229481642107), (1294, 0.00260356810870273), (2894, 0.0026024828924779515), (4563, 0.0026006699960084098), (3225, 0.0025988012119196355), (378, 0.002598704820938192), (3289, 0.002598625704709855), (865, 0.002598617784060375), (3809, 0.002598493390633651), (71, 0.002598233031967091), (3445, 0.002597374923532215), (1355, 0.0025971791308945563), (3526, 0.002595457553876735), (4273, 0.0025953107452440383), (3542, 0.002594891823392815), (2386, 0.00259294748990694), (115, 0.002592727494454035), (226, 0.00259025102562976), (933, 0.0025901424197287393), (1176, 0.0025888535739499907), (969, 0.0025883776521248925), (3606, 0.002585895851771812), (4197, 0.0025854969931686654), (3491, 0.002584597098618039), (2073, 0.002584456534424621), (3182, 0.002583330168883425), (2292, 0.0025830825071317524), (3707, 0.0025812562026774188), (1882, 0.0025798343806490206), (2397, 0.0025791590991417574), (3792, 0.002579030678823231), (3283, 0.002578820344108862), (2746, 0.0025784806017702605), (1122, 0.0025773248766213287), (2313, 0.0025749114546800315), (4049, 0.002573949972108381), (2430, 0.002573152120809181), (4756, 0.0025730702820495376), (1204, 0.002573066675113581), (198, 0.0025726214605457354), (1533, 0.0025723610715668766), (4135, 0.0025721544003564083), (579, 0.002570719112892798), (1476, 0.002569492630955095), (4409, 0.002567214499482566), (4014, 0.0025661071943593977), (3898, 0.0025643139867568797), (2652, 0.002563989720311715), (3739, 0.0025638916579710726), (1410, 0.0025632853630778354), (3335, 0.0025624988480590443), (4501, 0.0025623314809338042), (1722, 0.0025610950655021386), (3551, 0.002559352020593217), (1574, 0.0025593435180176335), (1706, 0.002559280265609513), (2396, 0.0025592317330554275), (4266, 0.002559182443926289), (2554, 0.002558519538702846), (2192, 0.002555580663001779), (3075, 0.002555503765432519), (848, 0.0025537626157852255), (993, 0.0025536949495416406), (2169, 0.0025525752827928266), (2783, 0.002552340094267794), (2492, 0.0025520544443002457), (4686, 0.002551439673555756), (504, 0.002551434931569695), (2533, 0.0025508245122476576), (2067, 0.0025498858322904306), (4604, 0.002549826102430259), (169, 0.0025497483028101287), (2826, 0.002549723716021327), (3557, 0.0025476003244389637), (3827, 0.00254719173144868), (3564, 0.0025460210758847046), (1131, 0.0025445384934216705), (490, 0.0025434427559110936), (3341, 0.0025432834702508117), (2340, 0.0025419778120071507), (3647, 0.0025396383879653732), (1170, 0.0025389247788597173), (2354, 0.0025386139817125445), (114, 0.002538593432573124), (4330, 0.00253759563114658), (749, 0.0025374899687186105), (1304, 0.002536952903640691), (3478, 0.0025361871902406415), (2495, 0.0025359570773834284), (1378, 0.002533967156317713), (4427, 0.0025331920714824854), (1163, 0.0025317112602762436), (66, 0.0025312341363153924), (2387, 0.0025306061861458517), (3170, 0.0025297908603445127), (4320, 0.0025297404552931534), (2195, 0.0025294940131200027), (2943, 0.0025270661897384182), (1286, 0.0025261745657015958), (3673, 0.0025258154830280965), (127, 0.002524556846134362), (3216, 0.002523810162634958), (2853, 0.0025234742839204257), (4056, 0.0025224767280474544), (2999, 0.002520447045533588), (959, 0.002519295121328106), (2289, 0.0025186187714120985), (4394, 0.002516685249546862), (3441, 0.0025153505923608713), (3477, 0.002514868609303398), (1891, 0.0025141756377858905), (400, 0.00251289546460505), (1072, 0.002511969113336023), (4520, 0.00251065636202738), (348, 0.0025106049309844727), (2060, 0.0025102838446113187), (3565, 0.0025090185189275897), (1831, 0.0025076495173526085), (247, 0.002507649315273456), (466, 0.002507384990996102), (2569, 0.0025060501697395116), (3381, 0.002505839189831974), (1598, 0.002503578013704265), (541, 0.0025020545614602946), (1411, 0.0025016552442112027), (1550, 0.002500750796606092), (1666, 0.0025006655759200174), (2416, 0.0024995988683299913), (1313, 0.0024989918427235874), (973, 0.0024986829749220254), (3173, 0.0024976685366919467), (2946, 0.0024959286076673085), (4069, 0.0024950912800511477), (1100, 0.002494207439481666), (3906, 0.0024939983837025627), (1110, 0.0024929035561424492), (3057, 0.002492087476091946), (215, 0.0024914834834710757), (4487, 0.0024906799430377564), (157, 0.0024885474337972948), (1319, 0.0024882460941023266), (1026, 0.0024881655165551017), (4020, 0.0024880419139022072), (3379, 0.0024864528702610404), (1084, 0.0024845823946548764), (2111, 0.0024840916321745288), (98, 0.00248305055678361), (2945, 0.0024825994654153038), (26, 0.0024815199490618002), (4428, 0.0024806711969321297), (2226, 0.0024799385815856712), (4687, 0.0024798705471827), (3220, 0.002478609864769637), (4036, 0.002478077422724702), (3069, 0.0024767080275248632), (4743, 0.0024756567166289707), (1617, 0.002475641912148761), (3706, 0.002475037453188161), (3412, 0.002473500072167002), (2909, 0.002473493900684701), (3402, 0.002471358082443893), (1350, 0.002470461927847056), (1408, 0.0024699378463079466), (1422, 0.0024693633273359873), (1284, 0.002468849236494781), (3093, 0.0024663734450088466), (2401, 0.002464829336269373), (755, 0.0024647317404651358), (4693, 0.0024635743266324837), (3765, 0.0024635650073260478), (1813, 0.002462243478839766), (2422, 0.0024618756983894995), (4183, 0.0024597537663465004), (883, 0.002459531836537566), (984, 0.0024591400478083366), (2461, 0.002458866289132909), (4381, 0.002458728622652153), (349, 0.002458675855786914), (4573, 0.002458614741936614), (4550, 0.002458169658126654), (2242, 0.0024572358914804883), (3348, 0.0024542324114160104), (4085, 0.002454185153162894), (4129, 0.0024538704569894982), (3890, 0.002453598050363158), (488, 0.002453086197842322), (4345, 0.0024519916279127116), (4472, 0.0024515403373360205), (4254, 0.0024513225643261883), (2571, 0.0024503212988856386), (1645, 0.0024501016352676042), (3298, 0.0024497865817119475), (2268, 0.002449391524423003), (3641, 0.0024493907161684263), (2612, 0.0024492938301705564), (4139, 0.0024490787046745617), (1247, 0.0024486900215035007), (1969, 0.0024474902764119815), (1463, 0.0024452807156080236), (2642, 0.0024448228261900688), (2997, 0.002443756233943338), (1597, 0.0024430773578123536), (4461, 0.0024415519508728914), (4386, 0.0024398183928011755), (1884, 0.0024389814170476254), (646, 0.0024389251045113143), (3900, 0.002438771217157476), (4616, 0.002437583081277481), (1117, 0.0024362761126163145), (2131, 0.002435991657350076), (3917, 0.0024351685433663043), (2117, 0.002432738926313127), (3503, 0.0024318549872998254), (1298, 0.002429036080749888), (1034, 0.0024286708976377844), (487, 0.0024278315922302163), (2367, 0.0024277017381169885), (731, 0.0024259246335130986), (2141, 0.00242412156867798), (1416, 0.0024236082196454393), (1027, 0.0024232397708229556), (4567, 0.0024231801082381346), (4536, 0.0024230497488252263), (4155, 0.0024227346586685574), (3627, 0.0024222762295814065), (3214, 0.0024212685427485426), (2779, 0.0024210805376161204), (3268, 0.0024206147492601745), (854, 0.0024204130433707048), (1877, 0.002420130506591283), (798, 0.002419916924396656), (1744, 0.002419466647815223), (1929, 0.0024176211432779104), (1002, 0.0024164625079969525), (3390, 0.0024162906646588433), (624, 0.0024162145207401536), (1273, 0.0024135438471228426), (3691, 0.0024132941512466618), (4213, 0.002411633257182007), (221, 0.002411361490287575), (2765, 0.0024104128282047286), (2068, 0.0024099656054347002), (505, 0.002409323202911005), (4206, 0.0024090792775228152), (2965, 0.0024090265456669334), (2556, 0.0024075603806372275), (2892, 0.002407335455346581), (767, 0.002405830891505593), (3799, 0.0024039388973454263), (373, 0.002402674308932783), (698, 0.002399544762154424), (2651, 0.002399527090955675), (2679, 0.002399247118524459), (3646, 0.002398125884687227), (1742, 0.002398036686183952), (589, 0.002397459858402031), (1404, 0.0023973664832842947), (325, 0.002396607136979531), (2800, 0.0023960563274254454), (1032, 0.002395440149663579), (3014, 0.0023942259924392586), (388, 0.0023936253101480304), (3194, 0.002393520521243344), (410, 0.0023934293304928413), (3147, 0.002392832792332582), (2976, 0.002392051864906016), (1036, 0.0023919151411633723), (3811, 0.0023905982060630077), (1663, 0.0023892673771611765), (2166, 0.002388495785792848), (3615, 0.002388296766524122), (2525, 0.0023881792409710723), (2004, 0.0023836845211184176), (4744, 0.0023836827745778344), (3300, 0.0023832582871467947), (4011, 0.0023818585917991975), (507, 0.0023814032611240723), (1693, 0.00238125826288348), (154, 0.002380131534979083), (4348, 0.0023787692625601175), (1372, 0.0023784011714550876), (3863, 0.0023778043831377306), (457, 0.0023771536686812587), (886, 0.0023770796905807495), (2845, 0.002376491836424702), (140, 0.0023755611990183036), (3071, 0.0023755248561706534), (3243, 0.0023753766953138553), (4620, 0.002375059791384573), (975, 0.002374254485406639), (524, 0.0023736028306943716), (4059, 0.0023717520410445306), (2552, 0.002370992199013418), (2099, 0.0023704362102565024), (2634, 0.0023697651035010894), (471, 0.002368427181806095), (655, 0.0023683578516378546), (4634, 0.0023656250689736333), (229, 0.002364464894441411), (2862, 0.00236358722606658), (372, 0.0023630726175345187), (598, 0.002363017019179979), (944, 0.002362909437140335), (659, 0.002362288633602584), (3725, 0.002361398110079443), (941, 0.0023610317887945015), (4356, 0.0023585632396986318), (2201, 0.0023581837709317046), (1558, 0.0023575374933461103), (3953, 0.002356219582668888), (103, 0.0023560998694685743), (2446, 0.0023555939250982988), (2528, 0.0023552329351234197), (1826, 0.0023548044666423574), (3455, 0.0023541828679347343), (1456, 0.0023538249935963463), (3500, 0.002352966728399302), (2907, 0.0023521461999904784), (1641, 0.0023518531695646367), (2129, 0.0023498773850399437), (2954, 0.0023494497365079852), (399, 0.0023490788595433507), (1642, 0.002347271044462082), (2317, 0.0023465749336340877), (805, 0.0023452728300887567), (136, 0.002342053663543897), (2735, 0.002341654335424115), (2399, 0.0023410933373043154), (3278, 0.0023399721234042313), (2593, 0.002339883436831163), (3369, 0.0023393798748198896), (2482, 0.0023377306593093767), (324, 0.002337481628018978), (355, 0.0023372658152905545), (1357, 0.0023369115668360266), (1543, 0.0023360652632001756), (4479, 0.0023358563951205434), (1814, 0.002334949119064762), (3755, 0.0023343451556642448), (4174, 0.0023343076852770607), (1079, 0.0023322559654003526), (2146, 0.0023320506009180775), (907, 0.002331464192564902), (1605, 0.002330988045936804), (121, 0.0023309647694089563), (2453, 0.002329795727819206), (359, 0.0023274681266520665), (4326, 0.0023252246844545858), (2674, 0.002324092929401197), (416, 0.002324088327746965), (4277, 0.0023230286175405803), (3050, 0.002321974366370569), (1672, 0.002321722396026475), (1628, 0.0023205936685129582), (1782, 0.0023196197449962324), (3742, 0.002316604456287793), (1434, 0.0023155273672975777), (4359, 0.0023153772985977632), (4638, 0.0023135084446129625), (4343, 0.002312388332716849), (3563, 0.0023113982064680936), (759, 0.002309117906857392), (722, 0.002309086593987036), (2728, 0.0023085003156347404), (1528, 0.0023031666109183924), (1004, 0.0023029854324171464), (856, 0.0023022674986765018), (1415, 0.0023007023866198953), (1503, 0.002299441494239182), (2402, 0.0022967772982884667), (3304, 0.00229632738379208), (1869, 0.0022961797126961293), (2163, 0.0022961115727766885), (3614, 0.002295291013045528), (3311, 0.0022952076860025504), (473, 0.0022945038896853643), (1827, 0.002293422535226092), (2338, 0.0022913946207671343), (1719, 0.002288791968775054), (2323, 0.0022883090393237154), (1366, 0.0022876624192571873), (4350, 0.0022859700538679396), (1161, 0.0022853482250700867), (4311, 0.0022847227956534827), (4712, 0.0022842843283032827), (2741, 0.0022835488818161043), (3336, 0.0022827623066486316), (1080, 0.0022827622277737593), (4074, 0.0022822348402180594), (3027, 0.0022822077528129765), (3986, 0.0022819497828374434), (2457, 0.0022813475876927573), (1625, 0.0022805657073798956), (4143, 0.0022796579148896953), (480, 0.0022789281408545094), (2591, 0.002275293245328585), (4304, 0.0022752649506362676), (1219, 0.0022751501201429243), (158, 0.00227493676508816), (3327, 0.0022748666683518074), (1980, 0.00227477464899649), (1808, 0.0022744593461195644), (4080, 0.0022740107861656984), (1423, 0.002273816553501302), (4296, 0.0022688214477861756), (3795, 0.0022679875189512847), (594, 0.0022668822325154735), (1921, 0.00226658677711873), (815, 0.002265657665698933), (4066, 0.0022644765621362356), (1318, 0.0022618699066821774), (268, 0.0022618076178884876), (2213, 0.0022616680757847943), (1392, 0.0022549171667648254), (703, 0.0022527066465232557), (165, 0.0022507515861533677), (3380, 0.0022503213154766405), (132, 0.002248466319856062), (4473, 0.0022480445070445893), (1830, 0.0022470486797392343), (1394, 0.0022470021552231235), (1954, 0.0022463314615577493), (1251, 0.0022442177113677826), (495, 0.0022431563403783133), (712, 0.0022406993971376544), (2047, 0.002240283103913057), (2502, 0.002237607618575952), (4220, 0.0022373580615292327), (1199, 0.0022371843976474516), (647, 0.002236776491345276), (2753, 0.0022338389368490885), (184, 0.0022333195719391554), (92, 0.002231938202318901), (605, 0.0022310458282784914), (4247, 0.0022290187030187107), (1616, 0.0022287242389430373), (2240, 0.0022256256462686403), (97, 0.0022256074539374745), (3548, 0.0022253079089800494), (4636, 0.0022251876370924612), (3894, 0.0022242858410916593), (249, 0.0022242181571218047), (3608, 0.0022212422868994304), (3347, 0.0022209248551998072), (1301, 0.002215696962822528), (278, 0.0022111376871510966), (1943, 0.002207459063465492), (3200, 0.002206068498727591), (2721, 0.002202722880793724), (4429, 0.002202062550120158), (1217, 0.002200944491530199), (2520, 0.0021985696707984234), (2747, 0.0021974383460460125), (707, 0.0021970853329773077), (3211, 0.002195827447807523), (4411, 0.002194804964508281), (2270, 0.00219130592332667), (357, 0.0021884800236122684), (1828, 0.0021883753970884136), (1370, 0.002186813531333692), (1450, 0.0021850312994399165), (3238, 0.00218243589283963), (2034, 0.002181624834955905), (3393, 0.0021812533691201504), (2527, 0.0021812483909259893), (286, 0.0021763451606793822), (2611, 0.0021756857314109636), (3569, 0.0021744290295385165), (2743, 0.002174428378375937), (2382, 0.0021725123862182862), (4476, 0.002170187980453366), (1088, 0.002168028396331156), (1565, 0.0021678323941890097), (1691, 0.002164018010334086), (1209, 0.0021619168240861082), (3669, 0.0021577986845559157), (432, 0.0021570110804746616), (1352, 0.0021542143681727733), (2758, 0.002153957079075249), (1340, 0.0021534134800951757), (3855, 0.002151981507583706), (626, 0.0021492988165263674), (267, 0.0021492676003019005), (3668, 0.0021466330461738714), (951, 0.0021407661067155913), (3657, 0.0021402453501994092), (2039, 0.002132989569375843), (195, 0.002130472887198898), (196, 0.002130241788619929), (1801, 0.002129912236167644), (2127, 0.002127650402087671), (645, 0.002125271645590742), (3928, 0.002118505549736894), (2132, 0.0021184759679218857), (1042, 0.0021181357917996525), (2287, 0.002115909997010881), (2359, 0.002115185385052691), (3252, 0.002113286442481704), (2526, 0.002104531242435688), (3056, 0.002101035489155866), (901, 0.0020998882174428596), (4200, 0.0020968865998536737), (1305, 0.0020963240360935887), (3024, 0.0020963231337985176), (4015, 0.002092001302306393), (2509, 0.0020841748846264375), (3626, 0.00208384498526865), (1427, 0.002078982581591383), (1624, 0.00206363557205557), (2441, 0.002053665510773156), (4626, 0.002050481727273585), (3575, 0.002048741152784783), (3431, 0.0020366287014385314), (194, 0.002034839745506438), (1040, 0.002023565117761472), (3538, 0.0020222362037236926), (2766, 0.0020095890913874857), (2010, 0.002002916275374896), (1677, 0.001995276774496586), (4598, 0.0019896436003544976), (3301, 0.0019860420011163526), (3199, 0.0019636013205480717), (607, 0.001954044986827609), (4445, 0.0019456336811123085), (453, 0.0019393347333000763), (351, 0.001934949810470641), (228, 0.0019203514466998978), (2636, 0.0019040413827305733), (1277, 0.0018965691925550338), (3546, 0.0018921856768456724), (293, 0.001887117394526281), (4301, 0.001881648020866405), (2902, 0.0018652926953995987), (4752, 0.0018166640108966652), (4171, 0.0017923477782648997), (3365, 0.0017884137799670321), (129, 0.0017709443967199971), (3392, 0.0017505591111059142), (740, 0.0017013288518258707), (202, 0.0016641197145282833), (24, 0.0016561266417293304), (1780, 0.0016538716999227293), (2534, 0.001131257889178121), (1, 0.0), (2, 0.0), (14, 0.0), (17, 0.0), (28, 0.0), (36, 0.0), (37, 0.0), (49, 0.0), (53, 0.0), (54, 0.0), (55, 0.0), (58, 0.0), (59, 0.0), (64, 0.0), (73, 0.0), (91, 0.0), (100, 0.0), (101, 0.0), (117, 0.0), (133, 0.0), (134, 0.0), (141, 0.0), (146, 0.0), (150, 0.0), (151, 0.0), (153, 0.0), (163, 0.0), (171, 0.0), (186, 0.0), (188, 0.0), (205, 0.0), (214, 0.0), (219, 0.0), (223, 0.0), (225, 0.0), (237, 0.0), (245, 0.0), (258, 0.0), (259, 0.0), (264, 0.0), (265, 0.0), (272, 0.0), (275, 0.0), (297, 0.0), (298, 0.0), (299, 0.0), (302, 0.0), (312, 0.0), (319, 0.0), (331, 0.0), (335, 0.0), (337, 0.0), (338, 0.0), (339, 0.0), (344, 0.0), (352, 0.0), (361, 0.0), (362, 0.0), (365, 0.0), (366, 0.0), (376, 0.0), (379, 0.0), (382, 0.0), (390, 0.0), (391, 0.0), (392, 0.0), (393, 0.0), (394, 0.0), (401, 0.0), (404, 0.0), (405, 0.0), (411, 0.0), (415, 0.0), (423, 0.0), (427, 0.0), (439, 0.0), (440, 0.0), (454, 0.0), (484, 0.0), (486, 0.0), (491, 0.0), (492, 0.0), (498, 0.0), (506, 0.0), (516, 0.0), (517, 0.0), (520, 0.0), (525, 0.0), (528, 0.0), (529, 0.0), (531, 0.0), (535, 0.0), (536, 0.0), (546, 0.0), (548, 0.0), (549, 0.0), (552, 0.0), (554, 0.0), (556, 0.0), (557, 0.0), (565, 0.0), (567, 0.0), (569, 0.0), (570, 0.0), (572, 0.0), (573, 0.0), (574, 0.0), (575, 0.0), (577, 0.0), (585, 0.0), (591, 0.0), (592, 0.0), (599, 0.0), (601, 0.0), (602, 0.0), (603, 0.0), (610, 0.0), (630, 0.0), (649, 0.0), (650, 0.0), (656, 0.0), (658, 0.0), (662, 0.0), (663, 0.0), (665, 0.0), (674, 0.0), (679, 0.0), (681, 0.0), (686, 0.0), (699, 0.0), (700, 0.0), (702, 0.0), (704, 0.0), (708, 0.0), (709, 0.0), (711, 0.0), (713, 0.0), (714, 0.0), (718, 0.0), (720, 0.0), (724, 0.0), (725, 0.0), (726, 0.0), (730, 0.0), (736, 0.0), (741, 0.0), (746, 0.0), (747, 0.0), (751, 0.0), (754, 0.0), (764, 0.0), (770, 0.0), (771, 0.0), (772, 0.0), (773, 0.0), (780, 0.0), (781, 0.0), (784, 0.0), (785, 0.0), (786, 0.0), (789, 0.0), (797, 0.0), (807, 0.0), (819, 0.0), (820, 0.0), (822, 0.0), (837, 0.0), (839, 0.0), (840, 0.0), (841, 0.0), (846, 0.0), (859, 0.0), (881, 0.0), (882, 0.0), (892, 0.0), (909, 0.0), (912, 0.0), (913, 0.0), (914, 0.0), (920, 0.0), (926, 0.0), (938, 0.0), (943, 0.0), (945, 0.0), (946, 0.0), (950, 0.0), (954, 0.0), (955, 0.0), (956, 0.0), (960, 0.0), (961, 0.0), (964, 0.0), (965, 0.0), (971, 0.0), (972, 0.0), (977, 0.0), (978, 0.0), (982, 0.0), (983, 0.0), (990, 0.0), (995, 0.0), (1008, 0.0), (1010, 0.0), (1011, 0.0), (1013, 0.0), (1016, 0.0), (1022, 0.0), (1025, 0.0), (1028, 0.0), (1029, 0.0), (1031, 0.0), (1038, 0.0), (1039, 0.0), (1051, 0.0), (1055, 0.0), (1056, 0.0), (1062, 0.0), (1066, 0.0), (1067, 0.0), (1073, 0.0), (1081, 0.0), (1086, 0.0), (1089, 0.0), (1091, 0.0), (1093, 0.0), (1097, 0.0), (1101, 0.0), (1103, 0.0), (1105, 0.0), (1106, 0.0), (1108, 0.0), (1113, 0.0), (1126, 0.0), (1130, 0.0), (1133, 0.0), (1135, 0.0), (1139, 0.0), (1142, 0.0), (1143, 0.0), (1147, 0.0), (1149, 0.0), (1151, 0.0), (1155, 0.0), (1156, 0.0), (1159, 0.0), (1165, 0.0), (1166, 0.0), (1171, 0.0), (1178, 0.0), (1180, 0.0), (1189, 0.0), (1190, 0.0), (1193, 0.0), (1196, 0.0), (1198, 0.0), (1200, 0.0), (1201, 0.0), (1212, 0.0), (1218, 0.0), (1221, 0.0), (1222, 0.0), (1227, 0.0), (1228, 0.0), (1233, 0.0), (1235, 0.0), (1240, 0.0), (1242, 0.0), (1244, 0.0), (1246, 0.0), (1253, 0.0), (1256, 0.0), (1258, 0.0), (1263, 0.0), (1265, 0.0), (1268, 0.0), (1269, 0.0), (1271, 0.0), (1285, 0.0), (1287, 0.0), (1288, 0.0), (1289, 0.0), (1291, 0.0), (1295, 0.0), (1296, 0.0), (1297, 0.0), (1299, 0.0), (1315, 0.0), (1321, 0.0), (1322, 0.0), (1323, 0.0), (1326, 0.0), (1328, 0.0), (1333, 0.0), (1336, 0.0), (1346, 0.0), (1353, 0.0), (1354, 0.0), (1368, 0.0), (1373, 0.0), (1390, 0.0), (1399, 0.0), (1424, 0.0), (1437, 0.0), (1441, 0.0), (1444, 0.0), (1447, 0.0), (1457, 0.0), (1459, 0.0), (1460, 0.0), (1466, 0.0), (1467, 0.0), (1468, 0.0), (1470, 0.0), (1473, 0.0), (1485, 0.0), (1487, 0.0), (1490, 0.0), (1491, 0.0), (1495, 0.0), (1496, 0.0), (1508, 0.0), (1511, 0.0), (1517, 0.0), (1520, 0.0), (1521, 0.0), (1522, 0.0), (1524, 0.0), (1525, 0.0), (1529, 0.0), (1532, 0.0), (1534, 0.0), (1535, 0.0), (1541, 0.0), (1545, 0.0), (1548, 0.0), (1549, 0.0), (1556, 0.0), (1557, 0.0), (1561, 0.0), (1563, 0.0), (1564, 0.0), (1569, 0.0), (1577, 0.0), (1578, 0.0), (1581, 0.0), (1584, 0.0), (1586, 0.0), (1589, 0.0), (1592, 0.0), (1596, 0.0), (1599, 0.0), (1600, 0.0), (1601, 0.0), (1602, 0.0), (1603, 0.0), (1604, 0.0), (1606, 0.0), (1607, 0.0), (1610, 0.0), (1611, 0.0), (1613, 0.0), (1615, 0.0), (1618, 0.0), (1626, 0.0), (1636, 0.0), (1638, 0.0), (1639, 0.0), (1640, 0.0), (1646, 0.0), (1649, 0.0), (1651, 0.0), (1668, 0.0), (1669, 0.0), (1673, 0.0), (1679, 0.0), (1686, 0.0), (1689, 0.0), (1697, 0.0), (1698, 0.0), (1700, 0.0), (1704, 0.0), (1709, 0.0), (1725, 0.0), (1726, 0.0), (1728, 0.0), (1729, 0.0), (1731, 0.0), (1734, 0.0), (1745, 0.0), (1751, 0.0), (1755, 0.0), (1756, 0.0), (1758, 0.0), (1766, 0.0), (1767, 0.0), (1769, 0.0), (1771, 0.0), (1775, 0.0), (1777, 0.0), (1778, 0.0), (1783, 0.0), (1785, 0.0), (1786, 0.0), (1794, 0.0), (1800, 0.0), (1803, 0.0), (1804, 0.0), (1810, 0.0), (1820, 0.0), (1823, 0.0), (1824, 0.0), (1825, 0.0), (1834, 0.0), (1835, 0.0), (1836, 0.0), (1839, 0.0), (1842, 0.0), (1844, 0.0), (1855, 0.0), (1856, 0.0), (1879, 0.0), (1883, 0.0), (1888, 0.0), (1889, 0.0), (1894, 0.0), (1898, 0.0), (1899, 0.0), (1912, 0.0), (1915, 0.0), (1917, 0.0), (1926, 0.0), (1928, 0.0), (1932, 0.0), (1938, 0.0), (1944, 0.0), (1955, 0.0), (1956, 0.0), (1961, 0.0), (1963, 0.0), (1965, 0.0), (1966, 0.0), (1972, 0.0), (1974, 0.0), (1978, 0.0), (1979, 0.0), (1984, 0.0), (2001, 0.0), (2002, 0.0), (2003, 0.0), (2006, 0.0), (2007, 0.0), (2009, 0.0), (2017, 0.0), (2019, 0.0), (2021, 0.0), (2025, 0.0), (2028, 0.0), (2030, 0.0), (2032, 0.0), (2033, 0.0), (2036, 0.0), (2038, 0.0), (2041, 0.0), (2042, 0.0), (2043, 0.0), (2046, 0.0), (2050, 0.0), (2054, 0.0), (2059, 0.0), (2063, 0.0), (2071, 0.0), (2079, 0.0), (2081, 0.0), (2085, 0.0), (2086, 0.0), (2090, 0.0), (2092, 0.0), (2106, 0.0), (2107, 0.0), (2115, 0.0), (2118, 0.0), (2120, 0.0), (2124, 0.0), (2125, 0.0), (2128, 0.0), (2135, 0.0), (2138, 0.0), (2140, 0.0), (2150, 0.0), (2152, 0.0), (2153, 0.0), (2164, 0.0), (2165, 0.0), (2168, 0.0), (2170, 0.0), (2171, 0.0), (2172, 0.0), (2179, 0.0), (2180, 0.0), (2182, 0.0), (2183, 0.0), (2186, 0.0), (2194, 0.0), (2200, 0.0), (2204, 0.0), (2215, 0.0), (2217, 0.0), (2218, 0.0), (2219, 0.0), (2220, 0.0), (2222, 0.0), (2225, 0.0), (2227, 0.0), (2233, 0.0), (2234, 0.0), (2238, 0.0), (2241, 0.0), (2243, 0.0), (2247, 0.0), (2249, 0.0), (2253, 0.0), (2256, 0.0), (2259, 0.0), (2261, 0.0), (2262, 0.0), (2263, 0.0), (2267, 0.0), (2271, 0.0), (2272, 0.0), (2274, 0.0), (2281, 0.0), (2282, 0.0), (2296, 0.0), (2297, 0.0), (2300, 0.0), (2305, 0.0), (2307, 0.0), (2311, 0.0), (2312, 0.0), (2315, 0.0), (2322, 0.0), (2325, 0.0), (2327, 0.0), (2329, 0.0), (2331, 0.0), (2332, 0.0), (2333, 0.0), (2337, 0.0), (2341, 0.0), (2342, 0.0), (2345, 0.0), (2351, 0.0), (2352, 0.0), (2357, 0.0), (2360, 0.0), (2364, 0.0), (2369, 0.0), (2372, 0.0), (2373, 0.0), (2377, 0.0), (2380, 0.0), (2381, 0.0), (2384, 0.0), (2389, 0.0), (2395, 0.0), (2398, 0.0), (2409, 0.0), (2414, 0.0), (2420, 0.0), (2431, 0.0), (2433, 0.0), (2435, 0.0), (2445, 0.0), (2450, 0.0), (2451, 0.0), (2452, 0.0), (2455, 0.0), (2456, 0.0), (2458, 0.0), (2462, 0.0), (2465, 0.0), (2470, 0.0), (2471, 0.0), (2472, 0.0), (2479, 0.0), (2483, 0.0), (2485, 0.0), (2491, 0.0), (2493, 0.0), (2497, 0.0), (2498, 0.0), (2499, 0.0), (2500, 0.0), (2504, 0.0), (2508, 0.0), (2511, 0.0), (2514, 0.0), (2515, 0.0), (2516, 0.0), (2518, 0.0), (2521, 0.0), (2523, 0.0), (2532, 0.0), (2536, 0.0), (2539, 0.0), (2542, 0.0), (2543, 0.0), (2547, 0.0), (2548, 0.0), (2549, 0.0), (2551, 0.0), (2562, 0.0), (2564, 0.0), (2566, 0.0), (2574, 0.0), (2575, 0.0), (2577, 0.0), (2578, 0.0), (2583, 0.0), (2584, 0.0), (2586, 0.0), (2588, 0.0), (2589, 0.0), (2590, 0.0), (2594, 0.0), (2596, 0.0), (2597, 0.0), (2604, 0.0), (2605, 0.0), (2608, 0.0), (2615, 0.0), (2616, 0.0), (2620, 0.0), (2627, 0.0), (2631, 0.0), (2637, 0.0), (2641, 0.0), (2648, 0.0), (2656, 0.0), (2657, 0.0), (2658, 0.0), (2659, 0.0), (2662, 0.0), (2663, 0.0), (2666, 0.0), (2667, 0.0), (2669, 0.0), (2670, 0.0), (2671, 0.0), (2672, 0.0), (2675, 0.0), (2676, 0.0), (2677, 0.0), (2681, 0.0), (2684, 0.0), (2685, 0.0), (2686, 0.0), (2690, 0.0), (2693, 0.0), (2701, 0.0), (2703, 0.0), (2704, 0.0), (2709, 0.0), (2715, 0.0), (2717, 0.0), (2719, 0.0), (2729, 0.0), (2730, 0.0), (2734, 0.0), (2737, 0.0), (2749, 0.0), (2750, 0.0), (2754, 0.0), (2756, 0.0), (2763, 0.0), (2770, 0.0), (2773, 0.0), (2781, 0.0), (2785, 0.0), (2793, 0.0), (2794, 0.0), (2799, 0.0), (2804, 0.0), (2806, 0.0), (2810, 0.0), (2811, 0.0), (2813, 0.0), (2814, 0.0), (2817, 0.0), (2818, 0.0), (2824, 0.0), (2827, 0.0), (2828, 0.0), (2829, 0.0), (2835, 0.0), (2836, 0.0), (2837, 0.0), (2839, 0.0), (2842, 0.0), (2850, 0.0), (2851, 0.0), (2852, 0.0), (2855, 0.0), (2856, 0.0), (2860, 0.0), (2864, 0.0), (2865, 0.0), (2866, 0.0), (2875, 0.0), (2877, 0.0), (2880, 0.0), (2891, 0.0), (2896, 0.0), (2898, 0.0), (2905, 0.0), (2906, 0.0), (2921, 0.0), (2922, 0.0), (2927, 0.0), (2928, 0.0), (2930, 0.0), (2938, 0.0), (2941, 0.0), (2951, 0.0), (2952, 0.0), (2955, 0.0), (2956, 0.0), (2958, 0.0), (2967, 0.0), (2968, 0.0), (2973, 0.0), (2979, 0.0), (2982, 0.0), (2983, 0.0), (2990, 0.0), (3001, 0.0), (3002, 0.0), (3006, 0.0), (3009, 0.0), (3021, 0.0), (3025, 0.0), (3029, 0.0), (3034, 0.0), (3038, 0.0), (3041, 0.0), (3047, 0.0), (3048, 0.0), (3054, 0.0), (3058, 0.0), (3059, 0.0), (3060, 0.0), (3061, 0.0), (3063, 0.0), (3073, 0.0), (3077, 0.0), (3078, 0.0), (3080, 0.0), (3082, 0.0), (3087, 0.0), (3088, 0.0), (3089, 0.0), (3090, 0.0), (3092, 0.0), (3103, 0.0), (3104, 0.0), (3105, 0.0), (3106, 0.0), (3107, 0.0), (3109, 0.0), (3115, 0.0), (3121, 0.0), (3130, 0.0), (3132, 0.0), (3138, 0.0), (3141, 0.0), (3145, 0.0), (3162, 0.0), (3169, 0.0), (3172, 0.0), (3175, 0.0), (3176, 0.0), (3177, 0.0), (3181, 0.0), (3188, 0.0), (3189, 0.0), (3190, 0.0), (3193, 0.0), (3197, 0.0), (3201, 0.0), (3202, 0.0), (3204, 0.0), (3207, 0.0), (3208, 0.0), (3212, 0.0), (3217, 0.0), (3221, 0.0), (3223, 0.0), (3229, 0.0), (3231, 0.0), (3236, 0.0), (3250, 0.0), (3251, 0.0), (3261, 0.0), (3266, 0.0), (3270, 0.0), (3272, 0.0), (3277, 0.0), (3281, 0.0), (3286, 0.0), (3287, 0.0), (3305, 0.0), (3310, 0.0), (3320, 0.0), (3321, 0.0), (3323, 0.0), (3324, 0.0), (3332, 0.0), (3333, 0.0), (3340, 0.0), (3343, 0.0), (3350, 0.0), (3366, 0.0), (3368, 0.0), (3371, 0.0), (3378, 0.0), (3383, 0.0), (3394, 0.0), (3397, 0.0), (3400, 0.0), (3401, 0.0), (3411, 0.0), (3415, 0.0), (3422, 0.0), (3424, 0.0), (3439, 0.0), (3442, 0.0), (3444, 0.0), (3454, 0.0), (3459, 0.0), (3461, 0.0), (3467, 0.0), (3472, 0.0), (3473, 0.0), (3475, 0.0), (3476, 0.0), (3481, 0.0), (3482, 0.0), (3485, 0.0), (3489, 0.0), (3490, 0.0), (3494, 0.0), (3505, 0.0), (3510, 0.0), (3519, 0.0), (3522, 0.0), (3525, 0.0), (3529, 0.0), (3530, 0.0), (3532, 0.0), (3533, 0.0), (3539, 0.0), (3543, 0.0), (3545, 0.0), (3547, 0.0), (3549, 0.0), (3550, 0.0), (3554, 0.0), (3562, 0.0), (3567, 0.0), (3568, 0.0), (3578, 0.0), (3581, 0.0), (3585, 0.0), (3589, 0.0), (3591, 0.0), (3592, 0.0), (3595, 0.0), (3600, 0.0), (3603, 0.0), (3607, 0.0), (3609, 0.0), (3610, 0.0), (3617, 0.0), (3622, 0.0), (3625, 0.0), (3628, 0.0), (3631, 0.0), (3633, 0.0), (3644, 0.0), (3649, 0.0), (3650, 0.0), (3662, 0.0), (3663, 0.0), (3671, 0.0), (3676, 0.0), (3681, 0.0), (3682, 0.0), (3683, 0.0), (3685, 0.0), (3686, 0.0), (3690, 0.0), (3693, 0.0), (3695, 0.0), (3697, 0.0), (3698, 0.0), (3700, 0.0), (3702, 0.0), (3703, 0.0), (3709, 0.0), (3712, 0.0), (3716, 0.0), (3717, 0.0), (3718, 0.0), (3722, 0.0), (3724, 0.0), (3726, 0.0), (3730, 0.0), (3732, 0.0), (3735, 0.0), (3736, 0.0), (3738, 0.0), (3740, 0.0), (3743, 0.0), (3758, 0.0), (3759, 0.0), (3760, 0.0), (3761, 0.0), (3764, 0.0), (3783, 0.0), (3785, 0.0), (3786, 0.0), (3789, 0.0), (3790, 0.0), (3791, 0.0), (3796, 0.0), (3798, 0.0), (3800, 0.0), (3803, 0.0), (3805, 0.0), (3808, 0.0), (3812, 0.0), (3816, 0.0), (3817, 0.0), (3818, 0.0), (3820, 0.0), (3830, 0.0), (3831, 0.0), (3834, 0.0), (3836, 0.0), (3837, 0.0), (3838, 0.0), (3840, 0.0), (3843, 0.0), (3846, 0.0), (3847, 0.0), (3851, 0.0), (3856, 0.0), (3858, 0.0), (3859, 0.0), (3869, 0.0), (3870, 0.0), (3879, 0.0), (3885, 0.0), (3887, 0.0), (3896, 0.0), (3912, 0.0), (3914, 0.0), (3918, 0.0), (3921, 0.0), (3929, 0.0), (3930, 0.0), (3931, 0.0), (3933, 0.0), (3936, 0.0), (3937, 0.0), (3943, 0.0), (3948, 0.0), (3950, 0.0), (3964, 0.0), (3965, 0.0), (3968, 0.0), (3969, 0.0), (3971, 0.0), (3972, 0.0), (3977, 0.0), (3979, 0.0), (3980, 0.0), (3981, 0.0), (3982, 0.0), (3985, 0.0), (3988, 0.0), (3991, 0.0), (3994, 0.0), (3996, 0.0), (4003, 0.0), (4006, 0.0), (4010, 0.0), (4018, 0.0), (4021, 0.0), (4022, 0.0), (4026, 0.0), (4027, 0.0), (4029, 0.0), (4031, 0.0), (4034, 0.0), (4037, 0.0), (4040, 0.0), (4041, 0.0), (4058, 0.0), (4063, 0.0), (4065, 0.0), (4067, 0.0), (4070, 0.0), (4072, 0.0), (4073, 0.0), (4078, 0.0), (4084, 0.0), (4086, 0.0), (4097, 0.0), (4100, 0.0), (4108, 0.0), (4109, 0.0), (4112, 0.0), (4114, 0.0), (4115, 0.0), (4125, 0.0), (4127, 0.0), (4131, 0.0), (4144, 0.0), (4146, 0.0), (4150, 0.0), (4153, 0.0), (4157, 0.0), (4159, 0.0), (4166, 0.0), (4167, 0.0), (4168, 0.0), (4170, 0.0), (4173, 0.0), (4179, 0.0), (4180, 0.0), (4181, 0.0), (4185, 0.0), (4186, 0.0), (4188, 0.0), (4190, 0.0), (4191, 0.0), (4194, 0.0), (4198, 0.0), (4199, 0.0), (4201, 0.0), (4204, 0.0), (4207, 0.0), (4212, 0.0), (4214, 0.0), (4215, 0.0), (4218, 0.0), (4223, 0.0), (4224, 0.0), (4229, 0.0), (4234, 0.0), (4237, 0.0), (4238, 0.0), (4239, 0.0), (4241, 0.0), (4250, 0.0), (4253, 0.0), (4256, 0.0), (4258, 0.0), (4260, 0.0), (4270, 0.0), (4271, 0.0), (4276, 0.0), (4278, 0.0), (4279, 0.0), (4291, 0.0), (4297, 0.0), (4300, 0.0), (4302, 0.0), (4305, 0.0), (4313, 0.0), (4315, 0.0), (4316, 0.0), (4317, 0.0), (4319, 0.0), (4323, 0.0), (4324, 0.0), (4327, 0.0), (4329, 0.0), (4332, 0.0), (4338, 0.0), (4341, 0.0), (4346, 0.0), (4347, 0.0), (4352, 0.0), (4353, 0.0), (4358, 0.0), (4364, 0.0), (4370, 0.0), (4372, 0.0), (4393, 0.0), (4404, 0.0), (4405, 0.0), (4406, 0.0), (4408, 0.0), (4410, 0.0), (4413, 0.0), (4414, 0.0), (4415, 0.0), (4417, 0.0), (4421, 0.0), (4424, 0.0), (4425, 0.0), (4433, 0.0), (4434, 0.0), (4437, 0.0), (4439, 0.0), (4447, 0.0), (4449, 0.0), (4451, 0.0), (4453, 0.0), (4454, 0.0), (4455, 0.0), (4457, 0.0), (4460, 0.0), (4463, 0.0), (4478, 0.0), (4480, 0.0), (4483, 0.0), (4485, 0.0), (4491, 0.0), (4493, 0.0), (4496, 0.0), (4498, 0.0), (4499, 0.0), (4500, 0.0), (4506, 0.0), (4508, 0.0), (4509, 0.0), (4519, 0.0), (4525, 0.0), (4526, 0.0), (4532, 0.0), (4539, 0.0), (4541, 0.0), (4542, 0.0), (4547, 0.0), (4549, 0.0), (4556, 0.0), (4558, 0.0), (4559, 0.0), (4560, 0.0), (4561, 0.0), (4562, 0.0), (4565, 0.0), (4568, 0.0), (4569, 0.0), (4570, 0.0), (4577, 0.0), (4578, 0.0), (4580, 0.0), (4592, 0.0), (4597, 0.0), (4599, 0.0), (4600, 0.0), (4609, 0.0), (4613, 0.0), (4615, 0.0), (4618, 0.0), (4622, 0.0), (4628, 0.0), (4631, 0.0), (4635, 0.0), (4644, 0.0), (4647, 0.0), (4648, 0.0), (4651, 0.0), (4654, 0.0), (4655, 0.0), (4662, 0.0), (4667, 0.0), (4671, 0.0), (4672, 0.0), (4675, 0.0), (4676, 0.0), (4681, 0.0), (4683, 0.0), (4688, 0.0), (4690, 0.0), (4700, 0.0), (4702, 0.0), (4711, 0.0), (4714, 0.0), (4716, 0.0), (4720, 0.0), (4725, 0.0), (4728, 0.0), (4730, 0.0), (4736, 0.0), (4737, 0.0), (4740, 0.0), (4741, 0.0), (4742, 0.0), (4745, 0.0), (4750, 0.0), (4751, 0.0), (4754, 0.0), (4755, 0.0), (4758, 0.0), (4759, 0.0)]\n"
          ]
        }
      ]
    },
    {
      "cell_type": "code",
      "source": [
        "print('Top 30 movies Suggested for you:\\n')\n",
        "\n",
        "i = 1\n",
        "for movie in Sorted_Similar_Movies:\n",
        "  index = movie[0]\n",
        "  title_from_index = df[df.index==index]['Movie_Title'].values[0]\n",
        "  if (i<31):\n",
        "    print(i, '.',title_from_index)\n",
        "    i+=1\n",
        ""
      ],
      "metadata": {
        "colab": {
          "base_uri": "https://localhost:8080/"
        },
        "id": "cCLAH-eMRAA5",
        "outputId": "474d6339-41ae-40f6-fc0d-10a5d23385c9"
      },
      "execution_count": 52,
      "outputs": [
        {
          "output_type": "stream",
          "name": "stdout",
          "text": [
            "Top 30 movies Suggested for you:\n",
            "\n",
            "1 . Niagara\n",
            "2 . Caravans\n",
            "3 . My Week with Marilyn\n",
            "4 . Brokeback Mountain\n",
            "5 . Harry Brown\n",
            "6 . Night of the Living Dead\n",
            "7 . The Curse of Downers Grove\n",
            "8 . The Boy Next Door\n",
            "9 . Back to the Future\n",
            "10 . Some Like It Hot\n",
            "11 . The Juror\n",
            "12 . Enough\n",
            "13 . The Kentucky Fried Movie\n",
            "14 . Eye for an Eye\n",
            "15 . Welcome to the Sticks\n",
            "16 . Alice Through the Looking Glass\n",
            "17 . Superman III\n",
            "18 . The Misfits\n",
            "19 . Premium Rush\n",
            "20 . Duel in the Sun\n",
            "21 . Sabotage\n",
            "22 . Small Soldiers\n",
            "23 . All That Jazz\n",
            "24 . Camping Sauvage\n",
            "25 . The Raid\n",
            "26 . Beyond the Black Rainbow\n",
            "27 . World Trade Center\n",
            "28 . To Kill a Mockingbird\n",
            "29 . The Dark Knight Rises\n",
            "30 . We Are Your Friends\n"
          ]
        }
      ]
    },
    {
      "cell_type": "code",
      "source": [
        "import difflib\n",
        "\n",
        "\n",
        "\n",
        "Movie_Name = input('Enter Your Favourite movie name:')\n",
        "list_of_all_titles = df['Movie_Title'].tolist()\n",
        "Find_Close_Match = difflib.get_close_matches(Movie_Name, list_of_all_titles)\n",
        "Close_Match = Find_Close_Match[0]\n",
        "Index_of_Movie = df[df.Movie_Title == Close_Match]['Movie_ID'].values[0]\n",
        "Recommendation_Score = list(enumerate(Similarity_Score[Index_of_Movie]))\n",
        "Sorted_Similar_Movies = sorted(Recommendation_Score, key=lambda x: x[1], reverse=True)\n",
        "print('Top 10 Movies Suggested For you:\\n')\n",
        "\n",
        "i = 1\n",
        "for movie in Sorted_Similar_Movies:\n",
        "    index = movie[0]\n",
        "    title_from_index = df[df.Movie_ID == index]['Movie_Title'].values\n",
        "    if i < 11:\n",
        "        print(i, '.', title_from_index[0])\n",
        "        i += 1\n"
      ],
      "metadata": {
        "colab": {
          "base_uri": "https://localhost:8080/"
        },
        "id": "RsSCqk_1R_w4",
        "outputId": "6234f4d6-8ddc-4cf9-d433-854fa4839da4"
      },
      "execution_count": 55,
      "outputs": [
        {
          "output_type": "stream",
          "name": "stdout",
          "text": [
            "Enter Your Favourite movie name:avtaar\n",
            "Top 10 Movies Suggested For you:\n",
            "\n",
            "1 . Avatar\n",
            "2 . The Girl on the Train\n",
            "3 . Act of Valor\n",
            "4 . Donnie Darko\n",
            "5 . Precious\n",
            "6 . Freaky Friday\n",
            "7 . The Opposite Sex\n",
            "8 . Heaven is for Real\n",
            "9 . Run Lola Run\n",
            "10 . The Godfather\n"
          ]
        }
      ]
    }
  ]
}